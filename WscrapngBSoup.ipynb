{
  "nbformat": 4,
  "nbformat_minor": 0,
  "metadata": {
    "colab": {
      "name": "WscrapngBSoup.ipynb",
      "provenance": []
    },
    "kernelspec": {
      "name": "python3",
      "display_name": "Python 3"
    },
    "language_info": {
      "name": "python"
    }
  },
  "cells": [
    {
      "cell_type": "code",
      "execution_count": 1,
      "metadata": {
        "id": "A3S9hWL94hXi"
      },
      "outputs": [],
      "source": [
        "import requests\n",
        "from bs4 import BeautifulSoup\n",
        "#import bs4\n",
        "import re\n",
        "import pandas as pd \n",
        "import plotly.express as px\n",
        "import plotly as py\n",
        "import plotly.graph_objs as go"
      ]
    },
    {
      "cell_type": "code",
      "source": [
        "page_url = 'https://en.wikipedia.org/wiki/List_of_countries_and_dependencies_by_population' \n",
        "response=requests.get(page_url)\n",
        "print(response.status_code)"
      ],
      "metadata": {
        "colab": {
          "base_uri": "https://localhost:8080/"
        },
        "id": "yE6X4RS15AtI",
        "outputId": "0592829c-9732-443b-d658-c0b1aba408b3"
      },
      "execution_count": 2,
      "outputs": [
        {
          "output_type": "stream",
          "name": "stdout",
          "text": [
            "200\n"
          ]
        }
      ]
    },
    {
      "cell_type": "code",
      "source": [
        "# parse data from the html into a beautifulsoup object\n",
        "soup = BeautifulSoup(response.text, 'html.parser')\n",
        "indiatable=soup.find('table',{'class':\"wikitable\"})\n",
        "\n",
        "df=pd.read_html(str(indiatable))\n",
        "# convert list to dataframe\n",
        "df=pd.DataFrame(df[0])\n",
        "#clean data\n",
        "df['Country / Dependency'] = df['Country / Dependency'].str.replace(\"\\[b\\]\", \"\")\n",
        "data = df.drop([\"Date\", \"Source (official or from the United Nations)\",\"Notes\",\"Percentage of the world\"], axis=1)  \n",
        "\n",
        "print(data.head(20))"
      ],
      "metadata": {
        "colab": {
          "base_uri": "https://localhost:8080/"
        },
        "id": "y8yoIb_o5K3L",
        "outputId": "753acbd1-8716-4f3d-f3e0-0eecc464d100"
      },
      "execution_count": 3,
      "outputs": [
        {
          "output_type": "stream",
          "name": "stdout",
          "text": [
            "   Rank Country / Dependency    Region  Population\n",
            "0     –                World       NaN  7936698000\n",
            "1     1                China      Asia  1412600000\n",
            "2     2                India      Asia  1374271375\n",
            "3     3        United States  Americas   332564727\n",
            "4     4            Indonesia      Asia   272248500\n",
            "5     5             Pakistan      Asia   225200000\n",
            "6     6               Brazil  Americas   214385501\n",
            "7     7              Nigeria    Africa   211401000\n",
            "8     8           Bangladesh      Asia   172383258\n",
            "9     9               Russia    Europe   145478097\n",
            "10   10               Mexico  Americas   126014024\n",
            "11   11                Japan      Asia   125340000\n",
            "12   12             Ethiopia    Africa   117876000\n",
            "13   13          Philippines      Asia   111623674\n",
            "14   14                Egypt    Africa   103049323\n",
            "15   15              Vietnam      Asia    98510000\n",
            "16   16             DR Congo    Africa    92378000\n",
            "17   17                 Iran      Asia    85276270\n",
            "18   18               Turkey      Asia    84680273\n",
            "19   19              Germany    Europe    83222442\n"
          ]
        },
        {
          "output_type": "stream",
          "name": "stderr",
          "text": [
            "/usr/local/lib/python3.7/dist-packages/ipykernel_launcher.py:9: FutureWarning: The default value of regex will change from True to False in a future version.\n",
            "  if __name__ == '__main__':\n"
          ]
        }
      ]
    },
    {
      "cell_type": "code",
      "source": [
        "#check nan\n",
        "df.isnull().sum()"
      ],
      "metadata": {
        "colab": {
          "base_uri": "https://localhost:8080/"
        },
        "id": "U9kx2x0J5fZ0",
        "outputId": "b31d69aa-a328-4c0d-bbd7-e77da56637a9"
      },
      "execution_count": 4,
      "outputs": [
        {
          "output_type": "execute_result",
          "data": {
            "text/plain": [
              "Rank                                              0\n",
              "Country / Dependency                              0\n",
              "Region                                            1\n",
              "Population                                        0\n",
              "Percentage of the world                         241\n",
              "Date                                              0\n",
              "Source (official or from the United Nations)      0\n",
              "Notes                                           208\n",
              "dtype: int64"
            ]
          },
          "metadata": {},
          "execution_count": 4
        }
      ]
    },
    {
      "cell_type": "code",
      "source": [
        "fig = go.Figure(data=go.Choropleth(\n",
        "    locations = df['Country / Dependency'],locationmode = \"country names\",z = df['Population'],\n",
        "    text = df['Country / Dependency'],colorscale = 'Reds',autocolorscale=False,reversescale=True,\n",
        "    marker_line_color='darkgray',marker_line_width=0.5,colorbar_tickprefix = '',colorbar_title = 'Population',\n",
        "))\n",
        "fig.update_layout(\n",
        "    title_text='Population of Countries ',geo=dict(\n",
        "        showframe=False,showcoastlines=True,projection_type='equirectangular' ),\n",
        "    annotations = [dict( x=0.55, y=0.1, xref='paper', yref='paper',text=' ',showarrow = False )] )\n",
        "fig.show()"
      ],
      "metadata": {
        "colab": {
          "base_uri": "https://localhost:8080/",
          "height": 542
        },
        "id": "MWyiHTaU5tnk",
        "outputId": "a76c71b3-ae55-46c9-f152-8a01252d4597"
      },
      "execution_count": 30,
      "outputs": [
        {
          "output_type": "display_data",
          "data": {
            "text/html": [
              "<html>\n",
              "<head><meta charset=\"utf-8\" /></head>\n",
              "<body>\n",
              "    <div>            <script src=\"https://cdnjs.cloudflare.com/ajax/libs/mathjax/2.7.5/MathJax.js?config=TeX-AMS-MML_SVG\"></script><script type=\"text/javascript\">if (window.MathJax) {MathJax.Hub.Config({SVG: {font: \"STIX-Web\"}});}</script>                <script type=\"text/javascript\">window.PlotlyConfig = {MathJaxConfig: 'local'};</script>\n",
              "        <script src=\"https://cdn.plot.ly/plotly-2.8.3.min.js\"></script>                <div id=\"3a790b44-72a9-40f6-a0af-e3c6a8f05e51\" class=\"plotly-graph-div\" style=\"height:525px; width:100%;\"></div>            <script type=\"text/javascript\">                                    window.PLOTLYENV=window.PLOTLYENV || {};                                    if (document.getElementById(\"3a790b44-72a9-40f6-a0af-e3c6a8f05e51\")) {                    Plotly.newPlot(                        \"3a790b44-72a9-40f6-a0af-e3c6a8f05e51\",                        [{\"autocolorscale\":false,\"colorbar\":{\"tickprefix\":\"\",\"title\":{\"text\":\"Population\"}},\"colorscale\":[[0.0,\"rgb(255,245,240)\"],[0.125,\"rgb(254,224,210)\"],[0.25,\"rgb(252,187,161)\"],[0.375,\"rgb(252,146,114)\"],[0.5,\"rgb(251,106,74)\"],[0.625,\"rgb(239,59,44)\"],[0.75,\"rgb(203,24,29)\"],[0.875,\"rgb(165,15,21)\"],[1.0,\"rgb(103,0,13)\"]],\"locationmode\":\"country names\",\"locations\":[\"World\",\"China\",\"India\",\"United States\",\"Indonesia\",\"Pakistan\",\"Brazil\",\"Nigeria\",\"Bangladesh\",\"Russia\",\"Mexico\",\"Japan\",\"Ethiopia\",\"Philippines\",\"Egypt\",\"Vietnam\",\"DR Congo\",\"Iran\",\"Turkey\",\"Germany\",\"France\",\"United Kingdom\",\"Thailand\",\"South Africa\",\"Tanzania\",\"Italy\",\"Myanmar\",\"South Korea\",\"Colombia\",\"Kenya\",\"Spain\",\"Argentina\",\"Algeria\",\"Sudan\",\"Uganda\",\"Iraq\",\"Ukraine\",\"Canada\",\"Poland\",\"Morocco\",\"Uzbekistan\",\"Saudi Arabia\",\"Peru\",\"Afghanistan\",\"Malaysia\",\"Angola\",\"Mozambique\",\"Ghana\",\"Yemen\",\"Nepal\",\"Venezuela\",\"Ivory Coast\",\"Madagascar\",\"Australia\",\"North Korea\",\"Cameroon\",\"Niger\",\"Taiwan\",\"Sri Lanka\",\"Burkina Faso\",\"Mali\",\"Chile\",\"Romania\",\"Kazakhstan\",\"Malawi\",\"Zambia\",\"Syria\",\"Ecuador\",\"Netherlands\",\"Senegal\",\"Guatemala\",\"Chad\",\"Somalia\",\"Zimbabwe\",\"Cambodia\",\"South Sudan\",\"Rwanda\",\"Guinea\",\"Burundi\",\"Benin\",\"Bolivia\",\"Tunisia\",\"Haiti\",\"Belgium\",\"Cuba\",\"Jordan\",\"Greece\",\"Dominican Republic\",\"Czech Republic\",\"Sweden\",\"Portugal\",\"Azerbaijan\",\"Hungary\",\"Honduras\",\"Tajikistan\",\"United Arab Emirates\",\"Israel\",\"Belarus\",\"Papua New Guinea\",\"Austria\",\"Switzerland\",\"Sierra Leone\",\"Togo\",\"Hong Kong (China)\",\"Paraguay\",\"Laos\",\"Libya\",\"Serbia\",\"El Salvador\",\"Lebanon\",\"Kyrgyzstan\",\"Nicaragua\",\"Bulgaria\",\"Turkmenistan\",\"Denmark\",\"Congo\",\"Central African Republic\",\"Finland\",\"Singapore\",\"Slovakia\",\"Norway\",\"Palestine\",\"Costa Rica\",\"New Zealand\",\"Ireland\",\"Kuwait\",\"Liberia\",\"Oman\",\"Panama\",\"Mauritania\",\"Croatia\",\"Georgia\",\"Eritrea\",\"Uruguay\",\"Mongolia\",\"Bosnia and Herzegovina\",\"Puerto Rico (United States)\",\"Armenia\",\"Albania\",\"Qatar\",\"Lithuania\",\"Jamaica\",\"Moldova\",\"Namibia\",\"Gambia\",\"Botswana\",\"Gabon\",\"Lesotho\",\"Slovenia\",\"Latvia\",\"North Macedonia\",\"Kosovo\",\"Guinea-Bissau\",\"Equatorial Guinea\",\"Bahrain\",\"Trinidad and Tobago\",\"Estonia\",\"East Timor\",\"Mauritius\",\"Eswatini\",\"Djibouti\",\"Fiji\",\"Cyprus[c]\",\"Comoros\",\"Bhutan\",\"Guyana\",\"Solomon Islands\",\"Macau (China)\",\"Luxembourg\",\"Montenegro\",\"Western Sahara\",\"Suriname\",\"Cape Verde\",\"Malta\",\"Belize\",\"Brunei\",\"Bahamas\",\"Maldives\",\"Northern Cyprus\",\"Iceland\",\"Transnistria\",\"Vanuatu\",\"Barbados\",\"French Polynesia (France)\",\"New Caledonia (France)\",\"Abkhazia\",\"S\\u00e3o Tom\\u00e9 and Pr\\u00edncipe\",\"Samoa\",\"Saint Lucia\",\"Guam (United States)\",\"Cura\\u00e7ao (Netherlands)\",\"Republic of Artsakh\",\"Kiribati\",\"Grenada\",\"Aruba (Netherlands)\",\"Saint Vincent and the Grenadines\",\"Jersey (British Crown Dependency)\",\"Micronesia\",\"Tonga\",\"Antigua and Barbuda\",\"Seychelles\",\"U.S. Virgin Islands (United States)\",\"Isle of Man (British Crown Dependency)\",\"Andorra\",\"Dominica\",\"Cayman Islands (United Kingdom)\",\"Bermuda (United Kingdom)\",\"Guernsey (British Crown Dependency)\",\"Greenland (Denmark)\",\"Marshall Islands\",\"Saint Kitts and Nevis\",\"Faroe Islands (Denmark)\",\"South Ossetia\",\"American Samoa (United States)\",\"Northern Mariana Islands (United States)\",\"Turks and Caicos Islands (United Kingdom)\",\"Sint Maarten (Netherlands)\",\"Liechtenstein\",\"Monaco\",\"Gibraltar (United Kingdom)\",\"San Marino\",\"Saint Martin (France)\",\"\\u00c5land (Finland)\",\"British Virgin Islands (United Kingdom)\",\"Palau\",\"Cook Islands (New Zealand)\",\"Anguilla (United Kingdom)\",\"Nauru\",\"Wallis and Futuna (France)\",\"Tuvalu\",\"Saint Barth\\u00e9lemy (France)\",\"Saint Helena, Ascension and Tristan da Cunha (United Kingdom)\",\"Saint Pierre and Miquelon (France)\",\"Montserrat (United Kingdom)\",\"Falkland Islands (United Kingdom)\",\"Christmas Island (Australia)\",\"Norfolk Island (Australia)\",\"Niue (New Zealand)\",\"Tokelau (New Zealand)\",\"Vatican City\",\"Cocos (Keeling) Islands (Australia)\",\"Pitcairn Islands (United Kingdom)\"],\"marker\":{\"line\":{\"color\":\"darkgray\",\"width\":0.5}},\"reversescale\":true,\"text\":[\"World\",\"China\",\"India\",\"United States\",\"Indonesia\",\"Pakistan\",\"Brazil\",\"Nigeria\",\"Bangladesh\",\"Russia\",\"Mexico\",\"Japan\",\"Ethiopia\",\"Philippines\",\"Egypt\",\"Vietnam\",\"DR Congo\",\"Iran\",\"Turkey\",\"Germany\",\"France\",\"United Kingdom\",\"Thailand\",\"South Africa\",\"Tanzania\",\"Italy\",\"Myanmar\",\"South Korea\",\"Colombia\",\"Kenya\",\"Spain\",\"Argentina\",\"Algeria\",\"Sudan\",\"Uganda\",\"Iraq\",\"Ukraine\",\"Canada\",\"Poland\",\"Morocco\",\"Uzbekistan\",\"Saudi Arabia\",\"Peru\",\"Afghanistan\",\"Malaysia\",\"Angola\",\"Mozambique\",\"Ghana\",\"Yemen\",\"Nepal\",\"Venezuela\",\"Ivory Coast\",\"Madagascar\",\"Australia\",\"North Korea\",\"Cameroon\",\"Niger\",\"Taiwan\",\"Sri Lanka\",\"Burkina Faso\",\"Mali\",\"Chile\",\"Romania\",\"Kazakhstan\",\"Malawi\",\"Zambia\",\"Syria\",\"Ecuador\",\"Netherlands\",\"Senegal\",\"Guatemala\",\"Chad\",\"Somalia\",\"Zimbabwe\",\"Cambodia\",\"South Sudan\",\"Rwanda\",\"Guinea\",\"Burundi\",\"Benin\",\"Bolivia\",\"Tunisia\",\"Haiti\",\"Belgium\",\"Cuba\",\"Jordan\",\"Greece\",\"Dominican Republic\",\"Czech Republic\",\"Sweden\",\"Portugal\",\"Azerbaijan\",\"Hungary\",\"Honduras\",\"Tajikistan\",\"United Arab Emirates\",\"Israel\",\"Belarus\",\"Papua New Guinea\",\"Austria\",\"Switzerland\",\"Sierra Leone\",\"Togo\",\"Hong Kong (China)\",\"Paraguay\",\"Laos\",\"Libya\",\"Serbia\",\"El Salvador\",\"Lebanon\",\"Kyrgyzstan\",\"Nicaragua\",\"Bulgaria\",\"Turkmenistan\",\"Denmark\",\"Congo\",\"Central African Republic\",\"Finland\",\"Singapore\",\"Slovakia\",\"Norway\",\"Palestine\",\"Costa Rica\",\"New Zealand\",\"Ireland\",\"Kuwait\",\"Liberia\",\"Oman\",\"Panama\",\"Mauritania\",\"Croatia\",\"Georgia\",\"Eritrea\",\"Uruguay\",\"Mongolia\",\"Bosnia and Herzegovina\",\"Puerto Rico (United States)\",\"Armenia\",\"Albania\",\"Qatar\",\"Lithuania\",\"Jamaica\",\"Moldova\",\"Namibia\",\"Gambia\",\"Botswana\",\"Gabon\",\"Lesotho\",\"Slovenia\",\"Latvia\",\"North Macedonia\",\"Kosovo\",\"Guinea-Bissau\",\"Equatorial Guinea\",\"Bahrain\",\"Trinidad and Tobago\",\"Estonia\",\"East Timor\",\"Mauritius\",\"Eswatini\",\"Djibouti\",\"Fiji\",\"Cyprus[c]\",\"Comoros\",\"Bhutan\",\"Guyana\",\"Solomon Islands\",\"Macau (China)\",\"Luxembourg\",\"Montenegro\",\"Western Sahara\",\"Suriname\",\"Cape Verde\",\"Malta\",\"Belize\",\"Brunei\",\"Bahamas\",\"Maldives\",\"Northern Cyprus\",\"Iceland\",\"Transnistria\",\"Vanuatu\",\"Barbados\",\"French Polynesia (France)\",\"New Caledonia (France)\",\"Abkhazia\",\"S\\u00e3o Tom\\u00e9 and Pr\\u00edncipe\",\"Samoa\",\"Saint Lucia\",\"Guam (United States)\",\"Cura\\u00e7ao (Netherlands)\",\"Republic of Artsakh\",\"Kiribati\",\"Grenada\",\"Aruba (Netherlands)\",\"Saint Vincent and the Grenadines\",\"Jersey (British Crown Dependency)\",\"Micronesia\",\"Tonga\",\"Antigua and Barbuda\",\"Seychelles\",\"U.S. Virgin Islands (United States)\",\"Isle of Man (British Crown Dependency)\",\"Andorra\",\"Dominica\",\"Cayman Islands (United Kingdom)\",\"Bermuda (United Kingdom)\",\"Guernsey (British Crown Dependency)\",\"Greenland (Denmark)\",\"Marshall Islands\",\"Saint Kitts and Nevis\",\"Faroe Islands (Denmark)\",\"South Ossetia\",\"American Samoa (United States)\",\"Northern Mariana Islands (United States)\",\"Turks and Caicos Islands (United Kingdom)\",\"Sint Maarten (Netherlands)\",\"Liechtenstein\",\"Monaco\",\"Gibraltar (United Kingdom)\",\"San Marino\",\"Saint Martin (France)\",\"\\u00c5land (Finland)\",\"British Virgin Islands (United Kingdom)\",\"Palau\",\"Cook Islands (New Zealand)\",\"Anguilla (United Kingdom)\",\"Nauru\",\"Wallis and Futuna (France)\",\"Tuvalu\",\"Saint Barth\\u00e9lemy (France)\",\"Saint Helena, Ascension and Tristan da Cunha (United Kingdom)\",\"Saint Pierre and Miquelon (France)\",\"Montserrat (United Kingdom)\",\"Falkland Islands (United Kingdom)\",\"Christmas Island (Australia)\",\"Norfolk Island (Australia)\",\"Niue (New Zealand)\",\"Tokelau (New Zealand)\",\"Vatican City\",\"Cocos (Keeling) Islands (Australia)\",\"Pitcairn Islands (United Kingdom)\"],\"z\":[7936698000,1412600000,1374271375,332564727,272248500,225200000,214385501,211401000,172383258,145478097,126014024,125340000,117876000,111623674,103049323,98510000,92378000,85276270,84680273,83222442,67813000,67081234,66764892,60142978,59441988,58983122,55294979,51625561,51049498,47564296,47326687,45808747,45400000,44271895,42885900,41190700,41167336,38616193,38116000,36544249,35429277,35013414,33035304,32890171,32703400,32097671,30832244,30832019,30491000,29192480,28705000,27087732,26923353,25965223,25660000,24348251,24112753,23375314,22156000,21510181,20856000,19678363,19186201,19181584,18898441,18400556,18276000,17938712,17700581,17223497,17109746,16818391,16360000,15790716,15552211,13249924,12955768,12907395,12574571,12506347,11797257,11746695,11743017,11617817,11181595,11165608,10678632,10535535,10524167,10452326,10347892,10156366,9689000,9546178,9504000,9503738,9488060,9349645,9122994,8979894,8717105,8297882,7886000,7403100,7353038,7337783,6959000,6871547,6825935,6769000,6700000,6595674,6520314,6118000,5873420,5657000,5633412,5519255,5453600,5452025,5425270,5227193,5163038,5133929,5011500,4670713,4661010,4527446,4278500,4271197,3888529,3728573,3601000,3554915,3427451,3320954,3285874,2963900,2829741,2799202,2794961,2734093,2597100,2550226,2487000,2410338,2233272,2159000,2108977,1874900,1832696,1782115,1646077,1505588,1501635,1367558,1330068,1317780,1266334,1172000,976107,898402,888005,758316,756129,743699,728041,682300,634730,621306,612000,598000,563198,514564,430191,429999,393450,383135,382230,376000,306000,301295,288000,279890,273674,245424,214610,199853,178696,153836,153671,148900,120740,113000,111050,110696,107800,105754,99532,99337,99202,87146,84069,79535,72000,65786,64055,63124,56562,54516,54000,53664,53532,49710,47329,44542,42577,39151,38350,34000,33685,32489,30344,30000,17957,15342,15000,11832,11369,10679,10289,6000,5974,5000,4000,1966,1734,1549,1501,825,573,40],\"type\":\"choropleth\"}],                        {\"template\":{\"data\":{\"bar\":[{\"error_x\":{\"color\":\"#2a3f5f\"},\"error_y\":{\"color\":\"#2a3f5f\"},\"marker\":{\"line\":{\"color\":\"#E5ECF6\",\"width\":0.5},\"pattern\":{\"fillmode\":\"overlay\",\"size\":10,\"solidity\":0.2}},\"type\":\"bar\"}],\"barpolar\":[{\"marker\":{\"line\":{\"color\":\"#E5ECF6\",\"width\":0.5},\"pattern\":{\"fillmode\":\"overlay\",\"size\":10,\"solidity\":0.2}},\"type\":\"barpolar\"}],\"carpet\":[{\"aaxis\":{\"endlinecolor\":\"#2a3f5f\",\"gridcolor\":\"white\",\"linecolor\":\"white\",\"minorgridcolor\":\"white\",\"startlinecolor\":\"#2a3f5f\"},\"baxis\":{\"endlinecolor\":\"#2a3f5f\",\"gridcolor\":\"white\",\"linecolor\":\"white\",\"minorgridcolor\":\"white\",\"startlinecolor\":\"#2a3f5f\"},\"type\":\"carpet\"}],\"choropleth\":[{\"colorbar\":{\"outlinewidth\":0,\"ticks\":\"\"},\"type\":\"choropleth\"}],\"contour\":[{\"colorbar\":{\"outlinewidth\":0,\"ticks\":\"\"},\"colorscale\":[[0.0,\"#0d0887\"],[0.1111111111111111,\"#46039f\"],[0.2222222222222222,\"#7201a8\"],[0.3333333333333333,\"#9c179e\"],[0.4444444444444444,\"#bd3786\"],[0.5555555555555556,\"#d8576b\"],[0.6666666666666666,\"#ed7953\"],[0.7777777777777778,\"#fb9f3a\"],[0.8888888888888888,\"#fdca26\"],[1.0,\"#f0f921\"]],\"type\":\"contour\"}],\"contourcarpet\":[{\"colorbar\":{\"outlinewidth\":0,\"ticks\":\"\"},\"type\":\"contourcarpet\"}],\"heatmap\":[{\"colorbar\":{\"outlinewidth\":0,\"ticks\":\"\"},\"colorscale\":[[0.0,\"#0d0887\"],[0.1111111111111111,\"#46039f\"],[0.2222222222222222,\"#7201a8\"],[0.3333333333333333,\"#9c179e\"],[0.4444444444444444,\"#bd3786\"],[0.5555555555555556,\"#d8576b\"],[0.6666666666666666,\"#ed7953\"],[0.7777777777777778,\"#fb9f3a\"],[0.8888888888888888,\"#fdca26\"],[1.0,\"#f0f921\"]],\"type\":\"heatmap\"}],\"heatmapgl\":[{\"colorbar\":{\"outlinewidth\":0,\"ticks\":\"\"},\"colorscale\":[[0.0,\"#0d0887\"],[0.1111111111111111,\"#46039f\"],[0.2222222222222222,\"#7201a8\"],[0.3333333333333333,\"#9c179e\"],[0.4444444444444444,\"#bd3786\"],[0.5555555555555556,\"#d8576b\"],[0.6666666666666666,\"#ed7953\"],[0.7777777777777778,\"#fb9f3a\"],[0.8888888888888888,\"#fdca26\"],[1.0,\"#f0f921\"]],\"type\":\"heatmapgl\"}],\"histogram\":[{\"marker\":{\"pattern\":{\"fillmode\":\"overlay\",\"size\":10,\"solidity\":0.2}},\"type\":\"histogram\"}],\"histogram2d\":[{\"colorbar\":{\"outlinewidth\":0,\"ticks\":\"\"},\"colorscale\":[[0.0,\"#0d0887\"],[0.1111111111111111,\"#46039f\"],[0.2222222222222222,\"#7201a8\"],[0.3333333333333333,\"#9c179e\"],[0.4444444444444444,\"#bd3786\"],[0.5555555555555556,\"#d8576b\"],[0.6666666666666666,\"#ed7953\"],[0.7777777777777778,\"#fb9f3a\"],[0.8888888888888888,\"#fdca26\"],[1.0,\"#f0f921\"]],\"type\":\"histogram2d\"}],\"histogram2dcontour\":[{\"colorbar\":{\"outlinewidth\":0,\"ticks\":\"\"},\"colorscale\":[[0.0,\"#0d0887\"],[0.1111111111111111,\"#46039f\"],[0.2222222222222222,\"#7201a8\"],[0.3333333333333333,\"#9c179e\"],[0.4444444444444444,\"#bd3786\"],[0.5555555555555556,\"#d8576b\"],[0.6666666666666666,\"#ed7953\"],[0.7777777777777778,\"#fb9f3a\"],[0.8888888888888888,\"#fdca26\"],[1.0,\"#f0f921\"]],\"type\":\"histogram2dcontour\"}],\"mesh3d\":[{\"colorbar\":{\"outlinewidth\":0,\"ticks\":\"\"},\"type\":\"mesh3d\"}],\"parcoords\":[{\"line\":{\"colorbar\":{\"outlinewidth\":0,\"ticks\":\"\"}},\"type\":\"parcoords\"}],\"pie\":[{\"automargin\":true,\"type\":\"pie\"}],\"scatter\":[{\"marker\":{\"colorbar\":{\"outlinewidth\":0,\"ticks\":\"\"}},\"type\":\"scatter\"}],\"scatter3d\":[{\"line\":{\"colorbar\":{\"outlinewidth\":0,\"ticks\":\"\"}},\"marker\":{\"colorbar\":{\"outlinewidth\":0,\"ticks\":\"\"}},\"type\":\"scatter3d\"}],\"scattercarpet\":[{\"marker\":{\"colorbar\":{\"outlinewidth\":0,\"ticks\":\"\"}},\"type\":\"scattercarpet\"}],\"scattergeo\":[{\"marker\":{\"colorbar\":{\"outlinewidth\":0,\"ticks\":\"\"}},\"type\":\"scattergeo\"}],\"scattergl\":[{\"marker\":{\"colorbar\":{\"outlinewidth\":0,\"ticks\":\"\"}},\"type\":\"scattergl\"}],\"scattermapbox\":[{\"marker\":{\"colorbar\":{\"outlinewidth\":0,\"ticks\":\"\"}},\"type\":\"scattermapbox\"}],\"scatterpolar\":[{\"marker\":{\"colorbar\":{\"outlinewidth\":0,\"ticks\":\"\"}},\"type\":\"scatterpolar\"}],\"scatterpolargl\":[{\"marker\":{\"colorbar\":{\"outlinewidth\":0,\"ticks\":\"\"}},\"type\":\"scatterpolargl\"}],\"scatterternary\":[{\"marker\":{\"colorbar\":{\"outlinewidth\":0,\"ticks\":\"\"}},\"type\":\"scatterternary\"}],\"surface\":[{\"colorbar\":{\"outlinewidth\":0,\"ticks\":\"\"},\"colorscale\":[[0.0,\"#0d0887\"],[0.1111111111111111,\"#46039f\"],[0.2222222222222222,\"#7201a8\"],[0.3333333333333333,\"#9c179e\"],[0.4444444444444444,\"#bd3786\"],[0.5555555555555556,\"#d8576b\"],[0.6666666666666666,\"#ed7953\"],[0.7777777777777778,\"#fb9f3a\"],[0.8888888888888888,\"#fdca26\"],[1.0,\"#f0f921\"]],\"type\":\"surface\"}],\"table\":[{\"cells\":{\"fill\":{\"color\":\"#EBF0F8\"},\"line\":{\"color\":\"white\"}},\"header\":{\"fill\":{\"color\":\"#C8D4E3\"},\"line\":{\"color\":\"white\"}},\"type\":\"table\"}]},\"layout\":{\"annotationdefaults\":{\"arrowcolor\":\"#2a3f5f\",\"arrowhead\":0,\"arrowwidth\":1},\"autotypenumbers\":\"strict\",\"coloraxis\":{\"colorbar\":{\"outlinewidth\":0,\"ticks\":\"\"}},\"colorscale\":{\"diverging\":[[0,\"#8e0152\"],[0.1,\"#c51b7d\"],[0.2,\"#de77ae\"],[0.3,\"#f1b6da\"],[0.4,\"#fde0ef\"],[0.5,\"#f7f7f7\"],[0.6,\"#e6f5d0\"],[0.7,\"#b8e186\"],[0.8,\"#7fbc41\"],[0.9,\"#4d9221\"],[1,\"#276419\"]],\"sequential\":[[0.0,\"#0d0887\"],[0.1111111111111111,\"#46039f\"],[0.2222222222222222,\"#7201a8\"],[0.3333333333333333,\"#9c179e\"],[0.4444444444444444,\"#bd3786\"],[0.5555555555555556,\"#d8576b\"],[0.6666666666666666,\"#ed7953\"],[0.7777777777777778,\"#fb9f3a\"],[0.8888888888888888,\"#fdca26\"],[1.0,\"#f0f921\"]],\"sequentialminus\":[[0.0,\"#0d0887\"],[0.1111111111111111,\"#46039f\"],[0.2222222222222222,\"#7201a8\"],[0.3333333333333333,\"#9c179e\"],[0.4444444444444444,\"#bd3786\"],[0.5555555555555556,\"#d8576b\"],[0.6666666666666666,\"#ed7953\"],[0.7777777777777778,\"#fb9f3a\"],[0.8888888888888888,\"#fdca26\"],[1.0,\"#f0f921\"]]},\"colorway\":[\"#636efa\",\"#EF553B\",\"#00cc96\",\"#ab63fa\",\"#FFA15A\",\"#19d3f3\",\"#FF6692\",\"#B6E880\",\"#FF97FF\",\"#FECB52\"],\"font\":{\"color\":\"#2a3f5f\"},\"geo\":{\"bgcolor\":\"white\",\"lakecolor\":\"white\",\"landcolor\":\"#E5ECF6\",\"showlakes\":true,\"showland\":true,\"subunitcolor\":\"white\"},\"hoverlabel\":{\"align\":\"left\"},\"hovermode\":\"closest\",\"mapbox\":{\"style\":\"light\"},\"paper_bgcolor\":\"white\",\"plot_bgcolor\":\"#E5ECF6\",\"polar\":{\"angularaxis\":{\"gridcolor\":\"white\",\"linecolor\":\"white\",\"ticks\":\"\"},\"bgcolor\":\"#E5ECF6\",\"radialaxis\":{\"gridcolor\":\"white\",\"linecolor\":\"white\",\"ticks\":\"\"}},\"scene\":{\"xaxis\":{\"backgroundcolor\":\"#E5ECF6\",\"gridcolor\":\"white\",\"gridwidth\":2,\"linecolor\":\"white\",\"showbackground\":true,\"ticks\":\"\",\"zerolinecolor\":\"white\"},\"yaxis\":{\"backgroundcolor\":\"#E5ECF6\",\"gridcolor\":\"white\",\"gridwidth\":2,\"linecolor\":\"white\",\"showbackground\":true,\"ticks\":\"\",\"zerolinecolor\":\"white\"},\"zaxis\":{\"backgroundcolor\":\"#E5ECF6\",\"gridcolor\":\"white\",\"gridwidth\":2,\"linecolor\":\"white\",\"showbackground\":true,\"ticks\":\"\",\"zerolinecolor\":\"white\"}},\"shapedefaults\":{\"line\":{\"color\":\"#2a3f5f\"}},\"ternary\":{\"aaxis\":{\"gridcolor\":\"white\",\"linecolor\":\"white\",\"ticks\":\"\"},\"baxis\":{\"gridcolor\":\"white\",\"linecolor\":\"white\",\"ticks\":\"\"},\"bgcolor\":\"#E5ECF6\",\"caxis\":{\"gridcolor\":\"white\",\"linecolor\":\"white\",\"ticks\":\"\"}},\"title\":{\"x\":0.05},\"xaxis\":{\"automargin\":true,\"gridcolor\":\"white\",\"linecolor\":\"white\",\"ticks\":\"\",\"title\":{\"standoff\":15},\"zerolinecolor\":\"white\",\"zerolinewidth\":2},\"yaxis\":{\"automargin\":true,\"gridcolor\":\"white\",\"linecolor\":\"white\",\"ticks\":\"\",\"title\":{\"standoff\":15},\"zerolinecolor\":\"white\",\"zerolinewidth\":2}}},\"title\":{\"text\":\"Population of Countries \"},\"geo\":{\"projection\":{\"type\":\"equirectangular\"},\"showframe\":false,\"showcoastlines\":true},\"annotations\":[{\"showarrow\":false,\"text\":\" \",\"x\":0.55,\"xref\":\"paper\",\"y\":0.1,\"yref\":\"paper\"}]},                        {\"responsive\": true}                    ).then(function(){\n",
              "                            \n",
              "var gd = document.getElementById('3a790b44-72a9-40f6-a0af-e3c6a8f05e51');\n",
              "var x = new MutationObserver(function (mutations, observer) {{\n",
              "        var display = window.getComputedStyle(gd).display;\n",
              "        if (!display || display === 'none') {{\n",
              "            console.log([gd, 'removed!']);\n",
              "            Plotly.purge(gd);\n",
              "            observer.disconnect();\n",
              "        }}\n",
              "}});\n",
              "\n",
              "// Listen for the removal of the full notebook cells\n",
              "var notebookContainer = gd.closest('#notebook-container');\n",
              "if (notebookContainer) {{\n",
              "    x.observe(notebookContainer, {childList: true});\n",
              "}}\n",
              "\n",
              "// Listen for the clearing of the current output cell\n",
              "var outputEl = gd.closest('.output');\n",
              "if (outputEl) {{\n",
              "    x.observe(outputEl, {childList: true});\n",
              "}}\n",
              "\n",
              "                        })                };                            </script>        </div>\n",
              "</body>\n",
              "</html>"
            ]
          },
          "metadata": {}
        }
      ]
    },
    {
      "cell_type": "code",
      "source": [
        "#plotlyexpress\n",
        "fig=px.choropleth(df, locations = df['Country / Dependency'],locationmode = \"country names\", color=\"Population\", hover_name=\"Country / Dependency\",\n",
        "                  color_continuous_scale=px.colors.sequential.Plasma,labels={'Country / Dependency':'Country'},title=\"Population of Countries\")\n",
        "fig.show()"
      ],
      "metadata": {
        "colab": {
          "base_uri": "https://localhost:8080/",
          "height": 542
        },
        "id": "DIlG3lLS59Ps",
        "outputId": "bbdc4ac2-77be-47ae-c6df-c91e3b1a6fd8"
      },
      "execution_count": 23,
      "outputs": [
        {
          "output_type": "display_data",
          "data": {
            "text/html": [
              "<html>\n",
              "<head><meta charset=\"utf-8\" /></head>\n",
              "<body>\n",
              "    <div>            <script src=\"https://cdnjs.cloudflare.com/ajax/libs/mathjax/2.7.5/MathJax.js?config=TeX-AMS-MML_SVG\"></script><script type=\"text/javascript\">if (window.MathJax) {MathJax.Hub.Config({SVG: {font: \"STIX-Web\"}});}</script>                <script type=\"text/javascript\">window.PlotlyConfig = {MathJaxConfig: 'local'};</script>\n",
              "        <script src=\"https://cdn.plot.ly/plotly-2.8.3.min.js\"></script>                <div id=\"fc29e60a-5777-4a6f-af79-7336c61088a8\" class=\"plotly-graph-div\" style=\"height:525px; width:100%;\"></div>            <script type=\"text/javascript\">                                    window.PLOTLYENV=window.PLOTLYENV || {};                                    if (document.getElementById(\"fc29e60a-5777-4a6f-af79-7336c61088a8\")) {                    Plotly.newPlot(                        \"fc29e60a-5777-4a6f-af79-7336c61088a8\",                        [{\"coloraxis\":\"coloraxis\",\"geo\":\"geo\",\"hovertemplate\":\"<b>%{hovertext}</b><br><br>Country=%{location}<br>Population=%{z}<extra></extra>\",\"hovertext\":[\"World\",\"China\",\"India\",\"United States\",\"Indonesia\",\"Pakistan\",\"Brazil\",\"Nigeria\",\"Bangladesh\",\"Russia\",\"Mexico\",\"Japan\",\"Ethiopia\",\"Philippines\",\"Egypt\",\"Vietnam\",\"DR Congo\",\"Iran\",\"Turkey\",\"Germany\",\"France\",\"United Kingdom\",\"Thailand\",\"South Africa\",\"Tanzania\",\"Italy\",\"Myanmar\",\"South Korea\",\"Colombia\",\"Kenya\",\"Spain\",\"Argentina\",\"Algeria\",\"Sudan\",\"Uganda\",\"Iraq\",\"Ukraine\",\"Canada\",\"Poland\",\"Morocco\",\"Uzbekistan\",\"Saudi Arabia\",\"Peru\",\"Afghanistan\",\"Malaysia\",\"Angola\",\"Mozambique\",\"Ghana\",\"Yemen\",\"Nepal\",\"Venezuela\",\"Ivory Coast\",\"Madagascar\",\"Australia\",\"North Korea\",\"Cameroon\",\"Niger\",\"Taiwan\",\"Sri Lanka\",\"Burkina Faso\",\"Mali\",\"Chile\",\"Romania\",\"Kazakhstan\",\"Malawi\",\"Zambia\",\"Syria\",\"Ecuador\",\"Netherlands\",\"Senegal\",\"Guatemala\",\"Chad\",\"Somalia\",\"Zimbabwe\",\"Cambodia\",\"South Sudan\",\"Rwanda\",\"Guinea\",\"Burundi\",\"Benin\",\"Bolivia\",\"Tunisia\",\"Haiti\",\"Belgium\",\"Cuba\",\"Jordan\",\"Greece\",\"Dominican Republic\",\"Czech Republic\",\"Sweden\",\"Portugal\",\"Azerbaijan\",\"Hungary\",\"Honduras\",\"Tajikistan\",\"United Arab Emirates\",\"Israel\",\"Belarus\",\"Papua New Guinea\",\"Austria\",\"Switzerland\",\"Sierra Leone\",\"Togo\",\"Hong Kong (China)\",\"Paraguay\",\"Laos\",\"Libya\",\"Serbia\",\"El Salvador\",\"Lebanon\",\"Kyrgyzstan\",\"Nicaragua\",\"Bulgaria\",\"Turkmenistan\",\"Denmark\",\"Congo\",\"Central African Republic\",\"Finland\",\"Singapore\",\"Slovakia\",\"Norway\",\"Palestine\",\"Costa Rica\",\"New Zealand\",\"Ireland\",\"Kuwait\",\"Liberia\",\"Oman\",\"Panama\",\"Mauritania\",\"Croatia\",\"Georgia\",\"Eritrea\",\"Uruguay\",\"Mongolia\",\"Bosnia and Herzegovina\",\"Puerto Rico (United States)\",\"Armenia\",\"Albania\",\"Qatar\",\"Lithuania\",\"Jamaica\",\"Moldova\",\"Namibia\",\"Gambia\",\"Botswana\",\"Gabon\",\"Lesotho\",\"Slovenia\",\"Latvia\",\"North Macedonia\",\"Kosovo\",\"Guinea-Bissau\",\"Equatorial Guinea\",\"Bahrain\",\"Trinidad and Tobago\",\"Estonia\",\"East Timor\",\"Mauritius\",\"Eswatini\",\"Djibouti\",\"Fiji\",\"Cyprus[c]\",\"Comoros\",\"Bhutan\",\"Guyana\",\"Solomon Islands\",\"Macau (China)\",\"Luxembourg\",\"Montenegro\",\"Western Sahara\",\"Suriname\",\"Cape Verde\",\"Malta\",\"Belize\",\"Brunei\",\"Bahamas\",\"Maldives\",\"Northern Cyprus\",\"Iceland\",\"Transnistria\",\"Vanuatu\",\"Barbados\",\"French Polynesia (France)\",\"New Caledonia (France)\",\"Abkhazia\",\"S\\u00e3o Tom\\u00e9 and Pr\\u00edncipe\",\"Samoa\",\"Saint Lucia\",\"Guam (United States)\",\"Cura\\u00e7ao (Netherlands)\",\"Republic of Artsakh\",\"Kiribati\",\"Grenada\",\"Aruba (Netherlands)\",\"Saint Vincent and the Grenadines\",\"Jersey (British Crown Dependency)\",\"Micronesia\",\"Tonga\",\"Antigua and Barbuda\",\"Seychelles\",\"U.S. Virgin Islands (United States)\",\"Isle of Man (British Crown Dependency)\",\"Andorra\",\"Dominica\",\"Cayman Islands (United Kingdom)\",\"Bermuda (United Kingdom)\",\"Guernsey (British Crown Dependency)\",\"Greenland (Denmark)\",\"Marshall Islands\",\"Saint Kitts and Nevis\",\"Faroe Islands (Denmark)\",\"South Ossetia\",\"American Samoa (United States)\",\"Northern Mariana Islands (United States)\",\"Turks and Caicos Islands (United Kingdom)\",\"Sint Maarten (Netherlands)\",\"Liechtenstein\",\"Monaco\",\"Gibraltar (United Kingdom)\",\"San Marino\",\"Saint Martin (France)\",\"\\u00c5land (Finland)\",\"British Virgin Islands (United Kingdom)\",\"Palau\",\"Cook Islands (New Zealand)\",\"Anguilla (United Kingdom)\",\"Nauru\",\"Wallis and Futuna (France)\",\"Tuvalu\",\"Saint Barth\\u00e9lemy (France)\",\"Saint Helena, Ascension and Tristan da Cunha (United Kingdom)\",\"Saint Pierre and Miquelon (France)\",\"Montserrat (United Kingdom)\",\"Falkland Islands (United Kingdom)\",\"Christmas Island (Australia)\",\"Norfolk Island (Australia)\",\"Niue (New Zealand)\",\"Tokelau (New Zealand)\",\"Vatican City\",\"Cocos (Keeling) Islands (Australia)\",\"Pitcairn Islands (United Kingdom)\"],\"locationmode\":\"country names\",\"locations\":[\"World\",\"China\",\"India\",\"United States\",\"Indonesia\",\"Pakistan\",\"Brazil\",\"Nigeria\",\"Bangladesh\",\"Russia\",\"Mexico\",\"Japan\",\"Ethiopia\",\"Philippines\",\"Egypt\",\"Vietnam\",\"DR Congo\",\"Iran\",\"Turkey\",\"Germany\",\"France\",\"United Kingdom\",\"Thailand\",\"South Africa\",\"Tanzania\",\"Italy\",\"Myanmar\",\"South Korea\",\"Colombia\",\"Kenya\",\"Spain\",\"Argentina\",\"Algeria\",\"Sudan\",\"Uganda\",\"Iraq\",\"Ukraine\",\"Canada\",\"Poland\",\"Morocco\",\"Uzbekistan\",\"Saudi Arabia\",\"Peru\",\"Afghanistan\",\"Malaysia\",\"Angola\",\"Mozambique\",\"Ghana\",\"Yemen\",\"Nepal\",\"Venezuela\",\"Ivory Coast\",\"Madagascar\",\"Australia\",\"North Korea\",\"Cameroon\",\"Niger\",\"Taiwan\",\"Sri Lanka\",\"Burkina Faso\",\"Mali\",\"Chile\",\"Romania\",\"Kazakhstan\",\"Malawi\",\"Zambia\",\"Syria\",\"Ecuador\",\"Netherlands\",\"Senegal\",\"Guatemala\",\"Chad\",\"Somalia\",\"Zimbabwe\",\"Cambodia\",\"South Sudan\",\"Rwanda\",\"Guinea\",\"Burundi\",\"Benin\",\"Bolivia\",\"Tunisia\",\"Haiti\",\"Belgium\",\"Cuba\",\"Jordan\",\"Greece\",\"Dominican Republic\",\"Czech Republic\",\"Sweden\",\"Portugal\",\"Azerbaijan\",\"Hungary\",\"Honduras\",\"Tajikistan\",\"United Arab Emirates\",\"Israel\",\"Belarus\",\"Papua New Guinea\",\"Austria\",\"Switzerland\",\"Sierra Leone\",\"Togo\",\"Hong Kong (China)\",\"Paraguay\",\"Laos\",\"Libya\",\"Serbia\",\"El Salvador\",\"Lebanon\",\"Kyrgyzstan\",\"Nicaragua\",\"Bulgaria\",\"Turkmenistan\",\"Denmark\",\"Congo\",\"Central African Republic\",\"Finland\",\"Singapore\",\"Slovakia\",\"Norway\",\"Palestine\",\"Costa Rica\",\"New Zealand\",\"Ireland\",\"Kuwait\",\"Liberia\",\"Oman\",\"Panama\",\"Mauritania\",\"Croatia\",\"Georgia\",\"Eritrea\",\"Uruguay\",\"Mongolia\",\"Bosnia and Herzegovina\",\"Puerto Rico (United States)\",\"Armenia\",\"Albania\",\"Qatar\",\"Lithuania\",\"Jamaica\",\"Moldova\",\"Namibia\",\"Gambia\",\"Botswana\",\"Gabon\",\"Lesotho\",\"Slovenia\",\"Latvia\",\"North Macedonia\",\"Kosovo\",\"Guinea-Bissau\",\"Equatorial Guinea\",\"Bahrain\",\"Trinidad and Tobago\",\"Estonia\",\"East Timor\",\"Mauritius\",\"Eswatini\",\"Djibouti\",\"Fiji\",\"Cyprus[c]\",\"Comoros\",\"Bhutan\",\"Guyana\",\"Solomon Islands\",\"Macau (China)\",\"Luxembourg\",\"Montenegro\",\"Western Sahara\",\"Suriname\",\"Cape Verde\",\"Malta\",\"Belize\",\"Brunei\",\"Bahamas\",\"Maldives\",\"Northern Cyprus\",\"Iceland\",\"Transnistria\",\"Vanuatu\",\"Barbados\",\"French Polynesia (France)\",\"New Caledonia (France)\",\"Abkhazia\",\"S\\u00e3o Tom\\u00e9 and Pr\\u00edncipe\",\"Samoa\",\"Saint Lucia\",\"Guam (United States)\",\"Cura\\u00e7ao (Netherlands)\",\"Republic of Artsakh\",\"Kiribati\",\"Grenada\",\"Aruba (Netherlands)\",\"Saint Vincent and the Grenadines\",\"Jersey (British Crown Dependency)\",\"Micronesia\",\"Tonga\",\"Antigua and Barbuda\",\"Seychelles\",\"U.S. Virgin Islands (United States)\",\"Isle of Man (British Crown Dependency)\",\"Andorra\",\"Dominica\",\"Cayman Islands (United Kingdom)\",\"Bermuda (United Kingdom)\",\"Guernsey (British Crown Dependency)\",\"Greenland (Denmark)\",\"Marshall Islands\",\"Saint Kitts and Nevis\",\"Faroe Islands (Denmark)\",\"South Ossetia\",\"American Samoa (United States)\",\"Northern Mariana Islands (United States)\",\"Turks and Caicos Islands (United Kingdom)\",\"Sint Maarten (Netherlands)\",\"Liechtenstein\",\"Monaco\",\"Gibraltar (United Kingdom)\",\"San Marino\",\"Saint Martin (France)\",\"\\u00c5land (Finland)\",\"British Virgin Islands (United Kingdom)\",\"Palau\",\"Cook Islands (New Zealand)\",\"Anguilla (United Kingdom)\",\"Nauru\",\"Wallis and Futuna (France)\",\"Tuvalu\",\"Saint Barth\\u00e9lemy (France)\",\"Saint Helena, Ascension and Tristan da Cunha (United Kingdom)\",\"Saint Pierre and Miquelon (France)\",\"Montserrat (United Kingdom)\",\"Falkland Islands (United Kingdom)\",\"Christmas Island (Australia)\",\"Norfolk Island (Australia)\",\"Niue (New Zealand)\",\"Tokelau (New Zealand)\",\"Vatican City\",\"Cocos (Keeling) Islands (Australia)\",\"Pitcairn Islands (United Kingdom)\"],\"name\":\"\",\"z\":[7936698000,1412600000,1374271375,332564727,272248500,225200000,214385501,211401000,172383258,145478097,126014024,125340000,117876000,111623674,103049323,98510000,92378000,85276270,84680273,83222442,67813000,67081234,66764892,60142978,59441988,58983122,55294979,51625561,51049498,47564296,47326687,45808747,45400000,44271895,42885900,41190700,41167336,38616193,38116000,36544249,35429277,35013414,33035304,32890171,32703400,32097671,30832244,30832019,30491000,29192480,28705000,27087732,26923353,25965223,25660000,24348251,24112753,23375314,22156000,21510181,20856000,19678363,19186201,19181584,18898441,18400556,18276000,17938712,17700581,17223497,17109746,16818391,16360000,15790716,15552211,13249924,12955768,12907395,12574571,12506347,11797257,11746695,11743017,11617817,11181595,11165608,10678632,10535535,10524167,10452326,10347892,10156366,9689000,9546178,9504000,9503738,9488060,9349645,9122994,8979894,8717105,8297882,7886000,7403100,7353038,7337783,6959000,6871547,6825935,6769000,6700000,6595674,6520314,6118000,5873420,5657000,5633412,5519255,5453600,5452025,5425270,5227193,5163038,5133929,5011500,4670713,4661010,4527446,4278500,4271197,3888529,3728573,3601000,3554915,3427451,3320954,3285874,2963900,2829741,2799202,2794961,2734093,2597100,2550226,2487000,2410338,2233272,2159000,2108977,1874900,1832696,1782115,1646077,1505588,1501635,1367558,1330068,1317780,1266334,1172000,976107,898402,888005,758316,756129,743699,728041,682300,634730,621306,612000,598000,563198,514564,430191,429999,393450,383135,382230,376000,306000,301295,288000,279890,273674,245424,214610,199853,178696,153836,153671,148900,120740,113000,111050,110696,107800,105754,99532,99337,99202,87146,84069,79535,72000,65786,64055,63124,56562,54516,54000,53664,53532,49710,47329,44542,42577,39151,38350,34000,33685,32489,30344,30000,17957,15342,15000,11832,11369,10679,10289,6000,5974,5000,4000,1966,1734,1549,1501,825,573,40],\"type\":\"choropleth\"}],                        {\"template\":{\"data\":{\"bar\":[{\"error_x\":{\"color\":\"#2a3f5f\"},\"error_y\":{\"color\":\"#2a3f5f\"},\"marker\":{\"line\":{\"color\":\"#E5ECF6\",\"width\":0.5},\"pattern\":{\"fillmode\":\"overlay\",\"size\":10,\"solidity\":0.2}},\"type\":\"bar\"}],\"barpolar\":[{\"marker\":{\"line\":{\"color\":\"#E5ECF6\",\"width\":0.5},\"pattern\":{\"fillmode\":\"overlay\",\"size\":10,\"solidity\":0.2}},\"type\":\"barpolar\"}],\"carpet\":[{\"aaxis\":{\"endlinecolor\":\"#2a3f5f\",\"gridcolor\":\"white\",\"linecolor\":\"white\",\"minorgridcolor\":\"white\",\"startlinecolor\":\"#2a3f5f\"},\"baxis\":{\"endlinecolor\":\"#2a3f5f\",\"gridcolor\":\"white\",\"linecolor\":\"white\",\"minorgridcolor\":\"white\",\"startlinecolor\":\"#2a3f5f\"},\"type\":\"carpet\"}],\"choropleth\":[{\"colorbar\":{\"outlinewidth\":0,\"ticks\":\"\"},\"type\":\"choropleth\"}],\"contour\":[{\"colorbar\":{\"outlinewidth\":0,\"ticks\":\"\"},\"colorscale\":[[0.0,\"#0d0887\"],[0.1111111111111111,\"#46039f\"],[0.2222222222222222,\"#7201a8\"],[0.3333333333333333,\"#9c179e\"],[0.4444444444444444,\"#bd3786\"],[0.5555555555555556,\"#d8576b\"],[0.6666666666666666,\"#ed7953\"],[0.7777777777777778,\"#fb9f3a\"],[0.8888888888888888,\"#fdca26\"],[1.0,\"#f0f921\"]],\"type\":\"contour\"}],\"contourcarpet\":[{\"colorbar\":{\"outlinewidth\":0,\"ticks\":\"\"},\"type\":\"contourcarpet\"}],\"heatmap\":[{\"colorbar\":{\"outlinewidth\":0,\"ticks\":\"\"},\"colorscale\":[[0.0,\"#0d0887\"],[0.1111111111111111,\"#46039f\"],[0.2222222222222222,\"#7201a8\"],[0.3333333333333333,\"#9c179e\"],[0.4444444444444444,\"#bd3786\"],[0.5555555555555556,\"#d8576b\"],[0.6666666666666666,\"#ed7953\"],[0.7777777777777778,\"#fb9f3a\"],[0.8888888888888888,\"#fdca26\"],[1.0,\"#f0f921\"]],\"type\":\"heatmap\"}],\"heatmapgl\":[{\"colorbar\":{\"outlinewidth\":0,\"ticks\":\"\"},\"colorscale\":[[0.0,\"#0d0887\"],[0.1111111111111111,\"#46039f\"],[0.2222222222222222,\"#7201a8\"],[0.3333333333333333,\"#9c179e\"],[0.4444444444444444,\"#bd3786\"],[0.5555555555555556,\"#d8576b\"],[0.6666666666666666,\"#ed7953\"],[0.7777777777777778,\"#fb9f3a\"],[0.8888888888888888,\"#fdca26\"],[1.0,\"#f0f921\"]],\"type\":\"heatmapgl\"}],\"histogram\":[{\"marker\":{\"pattern\":{\"fillmode\":\"overlay\",\"size\":10,\"solidity\":0.2}},\"type\":\"histogram\"}],\"histogram2d\":[{\"colorbar\":{\"outlinewidth\":0,\"ticks\":\"\"},\"colorscale\":[[0.0,\"#0d0887\"],[0.1111111111111111,\"#46039f\"],[0.2222222222222222,\"#7201a8\"],[0.3333333333333333,\"#9c179e\"],[0.4444444444444444,\"#bd3786\"],[0.5555555555555556,\"#d8576b\"],[0.6666666666666666,\"#ed7953\"],[0.7777777777777778,\"#fb9f3a\"],[0.8888888888888888,\"#fdca26\"],[1.0,\"#f0f921\"]],\"type\":\"histogram2d\"}],\"histogram2dcontour\":[{\"colorbar\":{\"outlinewidth\":0,\"ticks\":\"\"},\"colorscale\":[[0.0,\"#0d0887\"],[0.1111111111111111,\"#46039f\"],[0.2222222222222222,\"#7201a8\"],[0.3333333333333333,\"#9c179e\"],[0.4444444444444444,\"#bd3786\"],[0.5555555555555556,\"#d8576b\"],[0.6666666666666666,\"#ed7953\"],[0.7777777777777778,\"#fb9f3a\"],[0.8888888888888888,\"#fdca26\"],[1.0,\"#f0f921\"]],\"type\":\"histogram2dcontour\"}],\"mesh3d\":[{\"colorbar\":{\"outlinewidth\":0,\"ticks\":\"\"},\"type\":\"mesh3d\"}],\"parcoords\":[{\"line\":{\"colorbar\":{\"outlinewidth\":0,\"ticks\":\"\"}},\"type\":\"parcoords\"}],\"pie\":[{\"automargin\":true,\"type\":\"pie\"}],\"scatter\":[{\"marker\":{\"colorbar\":{\"outlinewidth\":0,\"ticks\":\"\"}},\"type\":\"scatter\"}],\"scatter3d\":[{\"line\":{\"colorbar\":{\"outlinewidth\":0,\"ticks\":\"\"}},\"marker\":{\"colorbar\":{\"outlinewidth\":0,\"ticks\":\"\"}},\"type\":\"scatter3d\"}],\"scattercarpet\":[{\"marker\":{\"colorbar\":{\"outlinewidth\":0,\"ticks\":\"\"}},\"type\":\"scattercarpet\"}],\"scattergeo\":[{\"marker\":{\"colorbar\":{\"outlinewidth\":0,\"ticks\":\"\"}},\"type\":\"scattergeo\"}],\"scattergl\":[{\"marker\":{\"colorbar\":{\"outlinewidth\":0,\"ticks\":\"\"}},\"type\":\"scattergl\"}],\"scattermapbox\":[{\"marker\":{\"colorbar\":{\"outlinewidth\":0,\"ticks\":\"\"}},\"type\":\"scattermapbox\"}],\"scatterpolar\":[{\"marker\":{\"colorbar\":{\"outlinewidth\":0,\"ticks\":\"\"}},\"type\":\"scatterpolar\"}],\"scatterpolargl\":[{\"marker\":{\"colorbar\":{\"outlinewidth\":0,\"ticks\":\"\"}},\"type\":\"scatterpolargl\"}],\"scatterternary\":[{\"marker\":{\"colorbar\":{\"outlinewidth\":0,\"ticks\":\"\"}},\"type\":\"scatterternary\"}],\"surface\":[{\"colorbar\":{\"outlinewidth\":0,\"ticks\":\"\"},\"colorscale\":[[0.0,\"#0d0887\"],[0.1111111111111111,\"#46039f\"],[0.2222222222222222,\"#7201a8\"],[0.3333333333333333,\"#9c179e\"],[0.4444444444444444,\"#bd3786\"],[0.5555555555555556,\"#d8576b\"],[0.6666666666666666,\"#ed7953\"],[0.7777777777777778,\"#fb9f3a\"],[0.8888888888888888,\"#fdca26\"],[1.0,\"#f0f921\"]],\"type\":\"surface\"}],\"table\":[{\"cells\":{\"fill\":{\"color\":\"#EBF0F8\"},\"line\":{\"color\":\"white\"}},\"header\":{\"fill\":{\"color\":\"#C8D4E3\"},\"line\":{\"color\":\"white\"}},\"type\":\"table\"}]},\"layout\":{\"annotationdefaults\":{\"arrowcolor\":\"#2a3f5f\",\"arrowhead\":0,\"arrowwidth\":1},\"autotypenumbers\":\"strict\",\"coloraxis\":{\"colorbar\":{\"outlinewidth\":0,\"ticks\":\"\"}},\"colorscale\":{\"diverging\":[[0,\"#8e0152\"],[0.1,\"#c51b7d\"],[0.2,\"#de77ae\"],[0.3,\"#f1b6da\"],[0.4,\"#fde0ef\"],[0.5,\"#f7f7f7\"],[0.6,\"#e6f5d0\"],[0.7,\"#b8e186\"],[0.8,\"#7fbc41\"],[0.9,\"#4d9221\"],[1,\"#276419\"]],\"sequential\":[[0.0,\"#0d0887\"],[0.1111111111111111,\"#46039f\"],[0.2222222222222222,\"#7201a8\"],[0.3333333333333333,\"#9c179e\"],[0.4444444444444444,\"#bd3786\"],[0.5555555555555556,\"#d8576b\"],[0.6666666666666666,\"#ed7953\"],[0.7777777777777778,\"#fb9f3a\"],[0.8888888888888888,\"#fdca26\"],[1.0,\"#f0f921\"]],\"sequentialminus\":[[0.0,\"#0d0887\"],[0.1111111111111111,\"#46039f\"],[0.2222222222222222,\"#7201a8\"],[0.3333333333333333,\"#9c179e\"],[0.4444444444444444,\"#bd3786\"],[0.5555555555555556,\"#d8576b\"],[0.6666666666666666,\"#ed7953\"],[0.7777777777777778,\"#fb9f3a\"],[0.8888888888888888,\"#fdca26\"],[1.0,\"#f0f921\"]]},\"colorway\":[\"#636efa\",\"#EF553B\",\"#00cc96\",\"#ab63fa\",\"#FFA15A\",\"#19d3f3\",\"#FF6692\",\"#B6E880\",\"#FF97FF\",\"#FECB52\"],\"font\":{\"color\":\"#2a3f5f\"},\"geo\":{\"bgcolor\":\"white\",\"lakecolor\":\"white\",\"landcolor\":\"#E5ECF6\",\"showlakes\":true,\"showland\":true,\"subunitcolor\":\"white\"},\"hoverlabel\":{\"align\":\"left\"},\"hovermode\":\"closest\",\"mapbox\":{\"style\":\"light\"},\"paper_bgcolor\":\"white\",\"plot_bgcolor\":\"#E5ECF6\",\"polar\":{\"angularaxis\":{\"gridcolor\":\"white\",\"linecolor\":\"white\",\"ticks\":\"\"},\"bgcolor\":\"#E5ECF6\",\"radialaxis\":{\"gridcolor\":\"white\",\"linecolor\":\"white\",\"ticks\":\"\"}},\"scene\":{\"xaxis\":{\"backgroundcolor\":\"#E5ECF6\",\"gridcolor\":\"white\",\"gridwidth\":2,\"linecolor\":\"white\",\"showbackground\":true,\"ticks\":\"\",\"zerolinecolor\":\"white\"},\"yaxis\":{\"backgroundcolor\":\"#E5ECF6\",\"gridcolor\":\"white\",\"gridwidth\":2,\"linecolor\":\"white\",\"showbackground\":true,\"ticks\":\"\",\"zerolinecolor\":\"white\"},\"zaxis\":{\"backgroundcolor\":\"#E5ECF6\",\"gridcolor\":\"white\",\"gridwidth\":2,\"linecolor\":\"white\",\"showbackground\":true,\"ticks\":\"\",\"zerolinecolor\":\"white\"}},\"shapedefaults\":{\"line\":{\"color\":\"#2a3f5f\"}},\"ternary\":{\"aaxis\":{\"gridcolor\":\"white\",\"linecolor\":\"white\",\"ticks\":\"\"},\"baxis\":{\"gridcolor\":\"white\",\"linecolor\":\"white\",\"ticks\":\"\"},\"bgcolor\":\"#E5ECF6\",\"caxis\":{\"gridcolor\":\"white\",\"linecolor\":\"white\",\"ticks\":\"\"}},\"title\":{\"x\":0.05},\"xaxis\":{\"automargin\":true,\"gridcolor\":\"white\",\"linecolor\":\"white\",\"ticks\":\"\",\"title\":{\"standoff\":15},\"zerolinecolor\":\"white\",\"zerolinewidth\":2},\"yaxis\":{\"automargin\":true,\"gridcolor\":\"white\",\"linecolor\":\"white\",\"ticks\":\"\",\"title\":{\"standoff\":15},\"zerolinecolor\":\"white\",\"zerolinewidth\":2}}},\"geo\":{\"domain\":{\"x\":[0.0,1.0],\"y\":[0.0,1.0]},\"center\":{}},\"coloraxis\":{\"colorbar\":{\"title\":{\"text\":\"Population\"}},\"colorscale\":[[0.0,\"#0d0887\"],[0.1111111111111111,\"#46039f\"],[0.2222222222222222,\"#7201a8\"],[0.3333333333333333,\"#9c179e\"],[0.4444444444444444,\"#bd3786\"],[0.5555555555555556,\"#d8576b\"],[0.6666666666666666,\"#ed7953\"],[0.7777777777777778,\"#fb9f3a\"],[0.8888888888888888,\"#fdca26\"],[1.0,\"#f0f921\"]]},\"legend\":{\"tracegroupgap\":0},\"title\":{\"text\":\"Population of Countries\"}},                        {\"responsive\": true}                    ).then(function(){\n",
              "                            \n",
              "var gd = document.getElementById('fc29e60a-5777-4a6f-af79-7336c61088a8');\n",
              "var x = new MutationObserver(function (mutations, observer) {{\n",
              "        var display = window.getComputedStyle(gd).display;\n",
              "        if (!display || display === 'none') {{\n",
              "            console.log([gd, 'removed!']);\n",
              "            Plotly.purge(gd);\n",
              "            observer.disconnect();\n",
              "        }}\n",
              "}});\n",
              "\n",
              "// Listen for the removal of the full notebook cells\n",
              "var notebookContainer = gd.closest('#notebook-container');\n",
              "if (notebookContainer) {{\n",
              "    x.observe(notebookContainer, {childList: true});\n",
              "}}\n",
              "\n",
              "// Listen for the clearing of the current output cell\n",
              "var outputEl = gd.closest('.output');\n",
              "if (outputEl) {{\n",
              "    x.observe(outputEl, {childList: true});\n",
              "}}\n",
              "\n",
              "                        })                };                            </script>        </div>\n",
              "</body>\n",
              "</html>"
            ]
          },
          "metadata": {}
        }
      ]
    },
    {
      "cell_type": "code",
      "source": [
        ""
      ],
      "metadata": {
        "id": "lPfPEWoK6OFQ"
      },
      "execution_count": null,
      "outputs": []
    }
  ]
}