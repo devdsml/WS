{
  "nbformat": 4,
  "nbformat_minor": 0,
  "metadata": {
    "colab": {
      "name": "WscrapngBSoup.ipynb",
      "provenance": []
    },
    "kernelspec": {
      "name": "python3",
      "display_name": "Python 3"
    },
    "language_info": {
      "name": "python"
    }
  },
  "cells": [
    {
      "cell_type": "code",
      "execution_count": 49,
      "metadata": {
        "id": "A3S9hWL94hXi"
      },
      "outputs": [],
      "source": [
        "import requests\n",
        "import json\n",
        "from bs4 import BeautifulSoup\n",
        "#import bs4\n",
        "import re\n",
        "import pandas as pd \n",
        "import plotly.express as px\n",
        "import plotly as py\n",
        "import plotly.graph_objs as go"
      ]
    },
    {
      "cell_type": "code",
      "source": [
        "page_url = 'https://en.wikipedia.org/wiki/List_of_countries_and_dependencies_by_population' \n",
        "response=requests.get(page_url)\n",
        "print(response.status_code)"
      ],
      "metadata": {
        "colab": {
          "base_uri": "https://localhost:8080/"
        },
        "id": "yE6X4RS15AtI",
        "outputId": "4b379451-568a-4816-f404-f98f114d03c8"
      },
      "execution_count": 39,
      "outputs": [
        {
          "output_type": "stream",
          "name": "stdout",
          "text": [
            "200\n"
          ]
        }
      ]
    },
    {
      "cell_type": "code",
      "source": [
        "# parse data from the html into a beautifulsoup object\n",
        "soup = BeautifulSoup(response.text, 'html.parser')\n",
        "indiatable=soup.find('table',{'class':\"wikitable\"})\n",
        "\n",
        "df=pd.read_html(str(indiatable))\n",
        "# convert list to dataframe\n",
        "df=pd.DataFrame(df[0])\n",
        "#clean data\n",
        "df['Country / Dependency'] = df['Country / Dependency'].str.replace(\"\\[b\\]\", \"\")\n",
        "data = df.drop([\"Date\", \"Source (official or from the United Nations)\",\"Notes\",\"Percentage of the world\"], axis=1)  \n",
        "\n",
        "print(data.head(20))"
      ],
      "metadata": {
        "colab": {
          "base_uri": "https://localhost:8080/"
        },
        "id": "y8yoIb_o5K3L",
        "outputId": "dd8500b7-449e-4436-a35d-1a0e3e42af7a"
      },
      "execution_count": 40,
      "outputs": [
        {
          "output_type": "stream",
          "name": "stdout",
          "text": [
            "   Rank Country / Dependency    Region  Population\n",
            "0     –                World       NaN  7936719000\n",
            "1     1                China      Asia  1412600000\n",
            "2     2                India      Asia  1374271375\n",
            "3     3        United States  Americas   332564727\n",
            "4     4            Indonesia      Asia   272248500\n",
            "5     5             Pakistan      Asia   225200000\n",
            "6     6               Brazil  Americas   214385501\n",
            "7     7              Nigeria    Africa   211401000\n",
            "8     8           Bangladesh      Asia   172383258\n",
            "9     9               Russia    Europe   145478097\n",
            "10   10               Mexico  Americas   126014024\n",
            "11   11                Japan      Asia   125340000\n",
            "12   12             Ethiopia    Africa   117876000\n",
            "13   13          Philippines      Asia   111623674\n",
            "14   14                Egypt    Africa   103049323\n",
            "15   15              Vietnam      Asia    98510000\n",
            "16   16             DR Congo    Africa    92378000\n",
            "17   17                 Iran      Asia    85276270\n",
            "18   18               Turkey      Asia    84680273\n",
            "19   19              Germany    Europe    83222442\n"
          ]
        },
        {
          "output_type": "stream",
          "name": "stderr",
          "text": [
            "/usr/local/lib/python3.7/dist-packages/ipykernel_launcher.py:9: FutureWarning:\n",
            "\n",
            "The default value of regex will change from True to False in a future version.\n",
            "\n"
          ]
        }
      ]
    },
    {
      "cell_type": "code",
      "source": [
        "#check nan\n",
        "df.isnull().sum()"
      ],
      "metadata": {
        "colab": {
          "base_uri": "https://localhost:8080/"
        },
        "id": "U9kx2x0J5fZ0",
        "outputId": "9ccf32bb-99d5-4800-9121-badddcbf0dfb"
      },
      "execution_count": 41,
      "outputs": [
        {
          "output_type": "execute_result",
          "data": {
            "text/plain": [
              "Rank                                              0\n",
              "Country / Dependency                              0\n",
              "Region                                            1\n",
              "Population                                        0\n",
              "Percentage of the world                         241\n",
              "Date                                              0\n",
              "Source (official or from the United Nations)      0\n",
              "Notes                                           208\n",
              "dtype: int64"
            ]
          },
          "metadata": {},
          "execution_count": 41
        }
      ]
    },
    {
      "cell_type": "code",
      "source": [
        "fig = go.Figure(data=go.Choropleth(\n",
        "    locations = df['Country / Dependency'],locationmode = \"country names\",z = df['Population'],\n",
        "    text = df['Country / Dependency'],colorscale = 'Reds',autocolorscale=False,reversescale=True,\n",
        "    marker_line_color='darkgray',marker_line_width=0.5,colorbar_tickprefix = '',colorbar_title = 'Population',\n",
        "))\n",
        "fig.update_layout(\n",
        "    title_text='Population of Countries ',geo=dict(\n",
        "        showframe=False,showcoastlines=True,projection_type='equirectangular' ),\n",
        "    annotations = [dict( x=0.55, y=0.1, xref='paper', yref='paper',text=' ',showarrow = False )] )\n",
        "fig.show()"
      ],
      "metadata": {
        "colab": {
          "base_uri": "https://localhost:8080/",
          "height": 542
        },
        "id": "MWyiHTaU5tnk",
        "outputId": "2e15ec37-07a3-4e75-de39-8e9d88aa1e27"
      },
      "execution_count": 42,
      "outputs": [
        {
          "output_type": "display_data",
          "data": {
            "text/html": [
              "<html>\n",
              "<head><meta charset=\"utf-8\" /></head>\n",
              "<body>\n",
              "    <div>            <script src=\"https://cdnjs.cloudflare.com/ajax/libs/mathjax/2.7.5/MathJax.js?config=TeX-AMS-MML_SVG\"></script><script type=\"text/javascript\">if (window.MathJax) {MathJax.Hub.Config({SVG: {font: \"STIX-Web\"}});}</script>                <script type=\"text/javascript\">window.PlotlyConfig = {MathJaxConfig: 'local'};</script>\n",
              "        <script src=\"https://cdn.plot.ly/plotly-2.8.3.min.js\"></script>                <div id=\"623e3412-ae59-4d52-aa2c-4076434a5930\" class=\"plotly-graph-div\" style=\"height:525px; width:100%;\"></div>            <script type=\"text/javascript\">                                    window.PLOTLYENV=window.PLOTLYENV || {};                                    if (document.getElementById(\"623e3412-ae59-4d52-aa2c-4076434a5930\")) {                    Plotly.newPlot(                        \"623e3412-ae59-4d52-aa2c-4076434a5930\",                        [{\"autocolorscale\":false,\"colorbar\":{\"tickprefix\":\"\",\"title\":{\"text\":\"Population\"}},\"colorscale\":[[0.0,\"rgb(255,245,240)\"],[0.125,\"rgb(254,224,210)\"],[0.25,\"rgb(252,187,161)\"],[0.375,\"rgb(252,146,114)\"],[0.5,\"rgb(251,106,74)\"],[0.625,\"rgb(239,59,44)\"],[0.75,\"rgb(203,24,29)\"],[0.875,\"rgb(165,15,21)\"],[1.0,\"rgb(103,0,13)\"]],\"locationmode\":\"country names\",\"locations\":[\"World\",\"China\",\"India\",\"United States\",\"Indonesia\",\"Pakistan\",\"Brazil\",\"Nigeria\",\"Bangladesh\",\"Russia\",\"Mexico\",\"Japan\",\"Ethiopia\",\"Philippines\",\"Egypt\",\"Vietnam\",\"DR Congo\",\"Iran\",\"Turkey\",\"Germany\",\"France\",\"United Kingdom\",\"Thailand\",\"South Africa\",\"Tanzania\",\"Italy\",\"Myanmar\",\"South Korea\",\"Colombia\",\"Kenya\",\"Spain\",\"Argentina\",\"Algeria\",\"Sudan\",\"Uganda\",\"Iraq\",\"Ukraine\",\"Canada\",\"Poland\",\"Morocco\",\"Uzbekistan\",\"Saudi Arabia\",\"Peru\",\"Afghanistan\",\"Malaysia\",\"Angola\",\"Mozambique\",\"Ghana\",\"Yemen\",\"Nepal\",\"Venezuela\",\"Ivory Coast\",\"Madagascar\",\"Australia\",\"North Korea\",\"Cameroon\",\"Niger\",\"Taiwan\",\"Sri Lanka\",\"Burkina Faso\",\"Mali\",\"Chile\",\"Romania\",\"Kazakhstan\",\"Malawi\",\"Zambia\",\"Syria\",\"Ecuador\",\"Netherlands\",\"Senegal\",\"Guatemala\",\"Chad\",\"Somalia\",\"Zimbabwe\",\"Cambodia\",\"South Sudan\",\"Rwanda\",\"Guinea\",\"Burundi\",\"Benin\",\"Bolivia\",\"Tunisia\",\"Haiti\",\"Belgium\",\"Cuba\",\"Jordan\",\"Greece\",\"Dominican Republic\",\"Czech Republic\",\"Sweden\",\"Portugal\",\"Azerbaijan\",\"Hungary\",\"Honduras\",\"Tajikistan\",\"United Arab Emirates\",\"Israel\",\"Belarus\",\"Papua New Guinea\",\"Austria\",\"Switzerland\",\"Sierra Leone\",\"Togo\",\"Hong Kong (China)\",\"Paraguay\",\"Laos\",\"Libya\",\"Serbia\",\"El Salvador\",\"Lebanon\",\"Kyrgyzstan\",\"Nicaragua\",\"Bulgaria\",\"Turkmenistan\",\"Denmark\",\"Congo\",\"Central African Republic\",\"Finland\",\"Singapore\",\"Slovakia\",\"Norway\",\"Palestine\",\"Costa Rica\",\"New Zealand\",\"Ireland\",\"Kuwait\",\"Liberia\",\"Oman\",\"Panama\",\"Mauritania\",\"Croatia\",\"Georgia\",\"Eritrea\",\"Uruguay\",\"Mongolia\",\"Bosnia and Herzegovina\",\"Puerto Rico (United States)\",\"Armenia\",\"Albania\",\"Qatar\",\"Lithuania\",\"Jamaica\",\"Moldova\",\"Namibia\",\"Gambia\",\"Botswana\",\"Gabon\",\"Lesotho\",\"Slovenia\",\"Latvia\",\"North Macedonia\",\"Kosovo\",\"Guinea-Bissau\",\"Equatorial Guinea\",\"Bahrain\",\"Trinidad and Tobago\",\"Estonia\",\"East Timor\",\"Mauritius\",\"Eswatini\",\"Djibouti\",\"Fiji\",\"Cyprus[c]\",\"Comoros\",\"Bhutan\",\"Guyana\",\"Solomon Islands\",\"Macau (China)\",\"Luxembourg\",\"Montenegro\",\"Western Sahara\",\"Suriname\",\"Cape Verde\",\"Malta\",\"Belize\",\"Brunei\",\"Bahamas\",\"Maldives\",\"Northern Cyprus\",\"Iceland\",\"Transnistria\",\"Vanuatu\",\"Barbados\",\"French Polynesia (France)\",\"New Caledonia (France)\",\"Abkhazia\",\"S\\u00e3o Tom\\u00e9 and Pr\\u00edncipe\",\"Samoa\",\"Saint Lucia\",\"Guam (United States)\",\"Cura\\u00e7ao (Netherlands)\",\"Republic of Artsakh\",\"Kiribati\",\"Grenada\",\"Aruba (Netherlands)\",\"Saint Vincent and the Grenadines\",\"Jersey (British Crown Dependency)\",\"Micronesia\",\"Tonga\",\"Antigua and Barbuda\",\"Seychelles\",\"U.S. Virgin Islands (United States)\",\"Isle of Man (British Crown Dependency)\",\"Andorra\",\"Dominica\",\"Cayman Islands (United Kingdom)\",\"Bermuda (United Kingdom)\",\"Guernsey (British Crown Dependency)\",\"Greenland (Denmark)\",\"Marshall Islands\",\"Saint Kitts and Nevis\",\"Faroe Islands (Denmark)\",\"South Ossetia\",\"American Samoa (United States)\",\"Northern Mariana Islands (United States)\",\"Turks and Caicos Islands (United Kingdom)\",\"Sint Maarten (Netherlands)\",\"Liechtenstein\",\"Monaco\",\"Gibraltar (United Kingdom)\",\"San Marino\",\"Saint Martin (France)\",\"\\u00c5land (Finland)\",\"British Virgin Islands (United Kingdom)\",\"Palau\",\"Cook Islands (New Zealand)\",\"Anguilla (United Kingdom)\",\"Nauru\",\"Wallis and Futuna (France)\",\"Tuvalu\",\"Saint Barth\\u00e9lemy (France)\",\"Saint Helena, Ascension and Tristan da Cunha (United Kingdom)\",\"Saint Pierre and Miquelon (France)\",\"Montserrat (United Kingdom)\",\"Falkland Islands (United Kingdom)\",\"Christmas Island (Australia)\",\"Norfolk Island (Australia)\",\"Niue (New Zealand)\",\"Tokelau (New Zealand)\",\"Vatican City\",\"Cocos (Keeling) Islands (Australia)\",\"Pitcairn Islands (United Kingdom)\"],\"marker\":{\"line\":{\"color\":\"darkgray\",\"width\":0.5}},\"reversescale\":true,\"text\":[\"World\",\"China\",\"India\",\"United States\",\"Indonesia\",\"Pakistan\",\"Brazil\",\"Nigeria\",\"Bangladesh\",\"Russia\",\"Mexico\",\"Japan\",\"Ethiopia\",\"Philippines\",\"Egypt\",\"Vietnam\",\"DR Congo\",\"Iran\",\"Turkey\",\"Germany\",\"France\",\"United Kingdom\",\"Thailand\",\"South Africa\",\"Tanzania\",\"Italy\",\"Myanmar\",\"South Korea\",\"Colombia\",\"Kenya\",\"Spain\",\"Argentina\",\"Algeria\",\"Sudan\",\"Uganda\",\"Iraq\",\"Ukraine\",\"Canada\",\"Poland\",\"Morocco\",\"Uzbekistan\",\"Saudi Arabia\",\"Peru\",\"Afghanistan\",\"Malaysia\",\"Angola\",\"Mozambique\",\"Ghana\",\"Yemen\",\"Nepal\",\"Venezuela\",\"Ivory Coast\",\"Madagascar\",\"Australia\",\"North Korea\",\"Cameroon\",\"Niger\",\"Taiwan\",\"Sri Lanka\",\"Burkina Faso\",\"Mali\",\"Chile\",\"Romania\",\"Kazakhstan\",\"Malawi\",\"Zambia\",\"Syria\",\"Ecuador\",\"Netherlands\",\"Senegal\",\"Guatemala\",\"Chad\",\"Somalia\",\"Zimbabwe\",\"Cambodia\",\"South Sudan\",\"Rwanda\",\"Guinea\",\"Burundi\",\"Benin\",\"Bolivia\",\"Tunisia\",\"Haiti\",\"Belgium\",\"Cuba\",\"Jordan\",\"Greece\",\"Dominican Republic\",\"Czech Republic\",\"Sweden\",\"Portugal\",\"Azerbaijan\",\"Hungary\",\"Honduras\",\"Tajikistan\",\"United Arab Emirates\",\"Israel\",\"Belarus\",\"Papua New Guinea\",\"Austria\",\"Switzerland\",\"Sierra Leone\",\"Togo\",\"Hong Kong (China)\",\"Paraguay\",\"Laos\",\"Libya\",\"Serbia\",\"El Salvador\",\"Lebanon\",\"Kyrgyzstan\",\"Nicaragua\",\"Bulgaria\",\"Turkmenistan\",\"Denmark\",\"Congo\",\"Central African Republic\",\"Finland\",\"Singapore\",\"Slovakia\",\"Norway\",\"Palestine\",\"Costa Rica\",\"New Zealand\",\"Ireland\",\"Kuwait\",\"Liberia\",\"Oman\",\"Panama\",\"Mauritania\",\"Croatia\",\"Georgia\",\"Eritrea\",\"Uruguay\",\"Mongolia\",\"Bosnia and Herzegovina\",\"Puerto Rico (United States)\",\"Armenia\",\"Albania\",\"Qatar\",\"Lithuania\",\"Jamaica\",\"Moldova\",\"Namibia\",\"Gambia\",\"Botswana\",\"Gabon\",\"Lesotho\",\"Slovenia\",\"Latvia\",\"North Macedonia\",\"Kosovo\",\"Guinea-Bissau\",\"Equatorial Guinea\",\"Bahrain\",\"Trinidad and Tobago\",\"Estonia\",\"East Timor\",\"Mauritius\",\"Eswatini\",\"Djibouti\",\"Fiji\",\"Cyprus[c]\",\"Comoros\",\"Bhutan\",\"Guyana\",\"Solomon Islands\",\"Macau (China)\",\"Luxembourg\",\"Montenegro\",\"Western Sahara\",\"Suriname\",\"Cape Verde\",\"Malta\",\"Belize\",\"Brunei\",\"Bahamas\",\"Maldives\",\"Northern Cyprus\",\"Iceland\",\"Transnistria\",\"Vanuatu\",\"Barbados\",\"French Polynesia (France)\",\"New Caledonia (France)\",\"Abkhazia\",\"S\\u00e3o Tom\\u00e9 and Pr\\u00edncipe\",\"Samoa\",\"Saint Lucia\",\"Guam (United States)\",\"Cura\\u00e7ao (Netherlands)\",\"Republic of Artsakh\",\"Kiribati\",\"Grenada\",\"Aruba (Netherlands)\",\"Saint Vincent and the Grenadines\",\"Jersey (British Crown Dependency)\",\"Micronesia\",\"Tonga\",\"Antigua and Barbuda\",\"Seychelles\",\"U.S. Virgin Islands (United States)\",\"Isle of Man (British Crown Dependency)\",\"Andorra\",\"Dominica\",\"Cayman Islands (United Kingdom)\",\"Bermuda (United Kingdom)\",\"Guernsey (British Crown Dependency)\",\"Greenland (Denmark)\",\"Marshall Islands\",\"Saint Kitts and Nevis\",\"Faroe Islands (Denmark)\",\"South Ossetia\",\"American Samoa (United States)\",\"Northern Mariana Islands (United States)\",\"Turks and Caicos Islands (United Kingdom)\",\"Sint Maarten (Netherlands)\",\"Liechtenstein\",\"Monaco\",\"Gibraltar (United Kingdom)\",\"San Marino\",\"Saint Martin (France)\",\"\\u00c5land (Finland)\",\"British Virgin Islands (United Kingdom)\",\"Palau\",\"Cook Islands (New Zealand)\",\"Anguilla (United Kingdom)\",\"Nauru\",\"Wallis and Futuna (France)\",\"Tuvalu\",\"Saint Barth\\u00e9lemy (France)\",\"Saint Helena, Ascension and Tristan da Cunha (United Kingdom)\",\"Saint Pierre and Miquelon (France)\",\"Montserrat (United Kingdom)\",\"Falkland Islands (United Kingdom)\",\"Christmas Island (Australia)\",\"Norfolk Island (Australia)\",\"Niue (New Zealand)\",\"Tokelau (New Zealand)\",\"Vatican City\",\"Cocos (Keeling) Islands (Australia)\",\"Pitcairn Islands (United Kingdom)\"],\"z\":[7936719000,1412600000,1374271375,332564727,272248500,225200000,214385501,211401000,172383258,145478097,126014024,125340000,117876000,111623674,103049323,98510000,92378000,85276270,84680273,83222442,67813000,67081234,66764892,60142978,59441988,58983122,55294979,51625561,51049498,47564296,47326687,45808747,45400000,44271895,42885900,41190700,41167336,38616193,38116000,36544249,35429277,35013414,33035304,32890171,32703400,32097671,30832244,30832019,30491000,29192480,28705000,27087732,26923353,25965223,25660000,24348251,24112753,23375314,22156000,21510181,20856000,19678363,19186201,19181584,18898441,18400556,18276000,17938712,17700581,17223497,17109746,16818391,16360000,15790716,15552211,13249924,12955768,12907395,12574571,12506347,11797257,11746695,11743017,11617817,11181595,11165608,10678632,10535535,10524167,10452326,10347892,10156366,9689000,9546178,9504000,9503738,9488060,9349645,9122994,8979894,8717105,8297882,7886000,7403100,7353038,7337783,6959000,6871547,6825935,6769000,6700000,6595674,6520314,6118000,5873420,5657000,5633412,5519255,5453600,5452025,5425270,5227193,5163038,5133929,5011500,4670713,4661010,4527446,4278500,4271197,3888529,3728573,3601000,3554915,3427451,3320954,3285874,2963900,2829741,2799202,2794961,2734093,2597100,2550226,2487000,2410338,2233272,2159000,2108977,1874900,1832696,1782115,1646077,1505588,1501635,1367558,1330068,1317780,1266334,1172000,976107,898402,888005,758316,756129,743699,728041,682300,634730,621306,612000,598000,563198,514564,430191,429999,393450,383135,382230,376000,306000,301295,288000,279890,273674,245424,214610,199853,178696,153836,153671,148900,120740,113000,111050,110696,107800,105754,99532,99337,99202,87146,84069,79535,72000,65786,64055,63124,56562,54516,54000,53664,53532,49710,47329,44542,42577,39151,38350,34000,33685,32489,30344,30000,17957,15342,15000,11832,11369,10679,10289,6000,5974,5000,4000,1966,1734,1549,1501,825,573,40],\"type\":\"choropleth\"}],                        {\"template\":{\"data\":{\"bar\":[{\"error_x\":{\"color\":\"#2a3f5f\"},\"error_y\":{\"color\":\"#2a3f5f\"},\"marker\":{\"line\":{\"color\":\"#E5ECF6\",\"width\":0.5},\"pattern\":{\"fillmode\":\"overlay\",\"size\":10,\"solidity\":0.2}},\"type\":\"bar\"}],\"barpolar\":[{\"marker\":{\"line\":{\"color\":\"#E5ECF6\",\"width\":0.5},\"pattern\":{\"fillmode\":\"overlay\",\"size\":10,\"solidity\":0.2}},\"type\":\"barpolar\"}],\"carpet\":[{\"aaxis\":{\"endlinecolor\":\"#2a3f5f\",\"gridcolor\":\"white\",\"linecolor\":\"white\",\"minorgridcolor\":\"white\",\"startlinecolor\":\"#2a3f5f\"},\"baxis\":{\"endlinecolor\":\"#2a3f5f\",\"gridcolor\":\"white\",\"linecolor\":\"white\",\"minorgridcolor\":\"white\",\"startlinecolor\":\"#2a3f5f\"},\"type\":\"carpet\"}],\"choropleth\":[{\"colorbar\":{\"outlinewidth\":0,\"ticks\":\"\"},\"type\":\"choropleth\"}],\"contour\":[{\"colorbar\":{\"outlinewidth\":0,\"ticks\":\"\"},\"colorscale\":[[0.0,\"#0d0887\"],[0.1111111111111111,\"#46039f\"],[0.2222222222222222,\"#7201a8\"],[0.3333333333333333,\"#9c179e\"],[0.4444444444444444,\"#bd3786\"],[0.5555555555555556,\"#d8576b\"],[0.6666666666666666,\"#ed7953\"],[0.7777777777777778,\"#fb9f3a\"],[0.8888888888888888,\"#fdca26\"],[1.0,\"#f0f921\"]],\"type\":\"contour\"}],\"contourcarpet\":[{\"colorbar\":{\"outlinewidth\":0,\"ticks\":\"\"},\"type\":\"contourcarpet\"}],\"heatmap\":[{\"colorbar\":{\"outlinewidth\":0,\"ticks\":\"\"},\"colorscale\":[[0.0,\"#0d0887\"],[0.1111111111111111,\"#46039f\"],[0.2222222222222222,\"#7201a8\"],[0.3333333333333333,\"#9c179e\"],[0.4444444444444444,\"#bd3786\"],[0.5555555555555556,\"#d8576b\"],[0.6666666666666666,\"#ed7953\"],[0.7777777777777778,\"#fb9f3a\"],[0.8888888888888888,\"#fdca26\"],[1.0,\"#f0f921\"]],\"type\":\"heatmap\"}],\"heatmapgl\":[{\"colorbar\":{\"outlinewidth\":0,\"ticks\":\"\"},\"colorscale\":[[0.0,\"#0d0887\"],[0.1111111111111111,\"#46039f\"],[0.2222222222222222,\"#7201a8\"],[0.3333333333333333,\"#9c179e\"],[0.4444444444444444,\"#bd3786\"],[0.5555555555555556,\"#d8576b\"],[0.6666666666666666,\"#ed7953\"],[0.7777777777777778,\"#fb9f3a\"],[0.8888888888888888,\"#fdca26\"],[1.0,\"#f0f921\"]],\"type\":\"heatmapgl\"}],\"histogram\":[{\"marker\":{\"pattern\":{\"fillmode\":\"overlay\",\"size\":10,\"solidity\":0.2}},\"type\":\"histogram\"}],\"histogram2d\":[{\"colorbar\":{\"outlinewidth\":0,\"ticks\":\"\"},\"colorscale\":[[0.0,\"#0d0887\"],[0.1111111111111111,\"#46039f\"],[0.2222222222222222,\"#7201a8\"],[0.3333333333333333,\"#9c179e\"],[0.4444444444444444,\"#bd3786\"],[0.5555555555555556,\"#d8576b\"],[0.6666666666666666,\"#ed7953\"],[0.7777777777777778,\"#fb9f3a\"],[0.8888888888888888,\"#fdca26\"],[1.0,\"#f0f921\"]],\"type\":\"histogram2d\"}],\"histogram2dcontour\":[{\"colorbar\":{\"outlinewidth\":0,\"ticks\":\"\"},\"colorscale\":[[0.0,\"#0d0887\"],[0.1111111111111111,\"#46039f\"],[0.2222222222222222,\"#7201a8\"],[0.3333333333333333,\"#9c179e\"],[0.4444444444444444,\"#bd3786\"],[0.5555555555555556,\"#d8576b\"],[0.6666666666666666,\"#ed7953\"],[0.7777777777777778,\"#fb9f3a\"],[0.8888888888888888,\"#fdca26\"],[1.0,\"#f0f921\"]],\"type\":\"histogram2dcontour\"}],\"mesh3d\":[{\"colorbar\":{\"outlinewidth\":0,\"ticks\":\"\"},\"type\":\"mesh3d\"}],\"parcoords\":[{\"line\":{\"colorbar\":{\"outlinewidth\":0,\"ticks\":\"\"}},\"type\":\"parcoords\"}],\"pie\":[{\"automargin\":true,\"type\":\"pie\"}],\"scatter\":[{\"marker\":{\"colorbar\":{\"outlinewidth\":0,\"ticks\":\"\"}},\"type\":\"scatter\"}],\"scatter3d\":[{\"line\":{\"colorbar\":{\"outlinewidth\":0,\"ticks\":\"\"}},\"marker\":{\"colorbar\":{\"outlinewidth\":0,\"ticks\":\"\"}},\"type\":\"scatter3d\"}],\"scattercarpet\":[{\"marker\":{\"colorbar\":{\"outlinewidth\":0,\"ticks\":\"\"}},\"type\":\"scattercarpet\"}],\"scattergeo\":[{\"marker\":{\"colorbar\":{\"outlinewidth\":0,\"ticks\":\"\"}},\"type\":\"scattergeo\"}],\"scattergl\":[{\"marker\":{\"colorbar\":{\"outlinewidth\":0,\"ticks\":\"\"}},\"type\":\"scattergl\"}],\"scattermapbox\":[{\"marker\":{\"colorbar\":{\"outlinewidth\":0,\"ticks\":\"\"}},\"type\":\"scattermapbox\"}],\"scatterpolar\":[{\"marker\":{\"colorbar\":{\"outlinewidth\":0,\"ticks\":\"\"}},\"type\":\"scatterpolar\"}],\"scatterpolargl\":[{\"marker\":{\"colorbar\":{\"outlinewidth\":0,\"ticks\":\"\"}},\"type\":\"scatterpolargl\"}],\"scatterternary\":[{\"marker\":{\"colorbar\":{\"outlinewidth\":0,\"ticks\":\"\"}},\"type\":\"scatterternary\"}],\"surface\":[{\"colorbar\":{\"outlinewidth\":0,\"ticks\":\"\"},\"colorscale\":[[0.0,\"#0d0887\"],[0.1111111111111111,\"#46039f\"],[0.2222222222222222,\"#7201a8\"],[0.3333333333333333,\"#9c179e\"],[0.4444444444444444,\"#bd3786\"],[0.5555555555555556,\"#d8576b\"],[0.6666666666666666,\"#ed7953\"],[0.7777777777777778,\"#fb9f3a\"],[0.8888888888888888,\"#fdca26\"],[1.0,\"#f0f921\"]],\"type\":\"surface\"}],\"table\":[{\"cells\":{\"fill\":{\"color\":\"#EBF0F8\"},\"line\":{\"color\":\"white\"}},\"header\":{\"fill\":{\"color\":\"#C8D4E3\"},\"line\":{\"color\":\"white\"}},\"type\":\"table\"}]},\"layout\":{\"annotationdefaults\":{\"arrowcolor\":\"#2a3f5f\",\"arrowhead\":0,\"arrowwidth\":1},\"autotypenumbers\":\"strict\",\"coloraxis\":{\"colorbar\":{\"outlinewidth\":0,\"ticks\":\"\"}},\"colorscale\":{\"diverging\":[[0,\"#8e0152\"],[0.1,\"#c51b7d\"],[0.2,\"#de77ae\"],[0.3,\"#f1b6da\"],[0.4,\"#fde0ef\"],[0.5,\"#f7f7f7\"],[0.6,\"#e6f5d0\"],[0.7,\"#b8e186\"],[0.8,\"#7fbc41\"],[0.9,\"#4d9221\"],[1,\"#276419\"]],\"sequential\":[[0.0,\"#0d0887\"],[0.1111111111111111,\"#46039f\"],[0.2222222222222222,\"#7201a8\"],[0.3333333333333333,\"#9c179e\"],[0.4444444444444444,\"#bd3786\"],[0.5555555555555556,\"#d8576b\"],[0.6666666666666666,\"#ed7953\"],[0.7777777777777778,\"#fb9f3a\"],[0.8888888888888888,\"#fdca26\"],[1.0,\"#f0f921\"]],\"sequentialminus\":[[0.0,\"#0d0887\"],[0.1111111111111111,\"#46039f\"],[0.2222222222222222,\"#7201a8\"],[0.3333333333333333,\"#9c179e\"],[0.4444444444444444,\"#bd3786\"],[0.5555555555555556,\"#d8576b\"],[0.6666666666666666,\"#ed7953\"],[0.7777777777777778,\"#fb9f3a\"],[0.8888888888888888,\"#fdca26\"],[1.0,\"#f0f921\"]]},\"colorway\":[\"#636efa\",\"#EF553B\",\"#00cc96\",\"#ab63fa\",\"#FFA15A\",\"#19d3f3\",\"#FF6692\",\"#B6E880\",\"#FF97FF\",\"#FECB52\"],\"font\":{\"color\":\"#2a3f5f\"},\"geo\":{\"bgcolor\":\"white\",\"lakecolor\":\"white\",\"landcolor\":\"#E5ECF6\",\"showlakes\":true,\"showland\":true,\"subunitcolor\":\"white\"},\"hoverlabel\":{\"align\":\"left\"},\"hovermode\":\"closest\",\"mapbox\":{\"style\":\"light\"},\"paper_bgcolor\":\"white\",\"plot_bgcolor\":\"#E5ECF6\",\"polar\":{\"angularaxis\":{\"gridcolor\":\"white\",\"linecolor\":\"white\",\"ticks\":\"\"},\"bgcolor\":\"#E5ECF6\",\"radialaxis\":{\"gridcolor\":\"white\",\"linecolor\":\"white\",\"ticks\":\"\"}},\"scene\":{\"xaxis\":{\"backgroundcolor\":\"#E5ECF6\",\"gridcolor\":\"white\",\"gridwidth\":2,\"linecolor\":\"white\",\"showbackground\":true,\"ticks\":\"\",\"zerolinecolor\":\"white\"},\"yaxis\":{\"backgroundcolor\":\"#E5ECF6\",\"gridcolor\":\"white\",\"gridwidth\":2,\"linecolor\":\"white\",\"showbackground\":true,\"ticks\":\"\",\"zerolinecolor\":\"white\"},\"zaxis\":{\"backgroundcolor\":\"#E5ECF6\",\"gridcolor\":\"white\",\"gridwidth\":2,\"linecolor\":\"white\",\"showbackground\":true,\"ticks\":\"\",\"zerolinecolor\":\"white\"}},\"shapedefaults\":{\"line\":{\"color\":\"#2a3f5f\"}},\"ternary\":{\"aaxis\":{\"gridcolor\":\"white\",\"linecolor\":\"white\",\"ticks\":\"\"},\"baxis\":{\"gridcolor\":\"white\",\"linecolor\":\"white\",\"ticks\":\"\"},\"bgcolor\":\"#E5ECF6\",\"caxis\":{\"gridcolor\":\"white\",\"linecolor\":\"white\",\"ticks\":\"\"}},\"title\":{\"x\":0.05},\"xaxis\":{\"automargin\":true,\"gridcolor\":\"white\",\"linecolor\":\"white\",\"ticks\":\"\",\"title\":{\"standoff\":15},\"zerolinecolor\":\"white\",\"zerolinewidth\":2},\"yaxis\":{\"automargin\":true,\"gridcolor\":\"white\",\"linecolor\":\"white\",\"ticks\":\"\",\"title\":{\"standoff\":15},\"zerolinecolor\":\"white\",\"zerolinewidth\":2}}},\"title\":{\"text\":\"Population of Countries \"},\"geo\":{\"projection\":{\"type\":\"equirectangular\"},\"showframe\":false,\"showcoastlines\":true},\"annotations\":[{\"showarrow\":false,\"text\":\" \",\"x\":0.55,\"xref\":\"paper\",\"y\":0.1,\"yref\":\"paper\"}]},                        {\"responsive\": true}                    ).then(function(){\n",
              "                            \n",
              "var gd = document.getElementById('623e3412-ae59-4d52-aa2c-4076434a5930');\n",
              "var x = new MutationObserver(function (mutations, observer) {{\n",
              "        var display = window.getComputedStyle(gd).display;\n",
              "        if (!display || display === 'none') {{\n",
              "            console.log([gd, 'removed!']);\n",
              "            Plotly.purge(gd);\n",
              "            observer.disconnect();\n",
              "        }}\n",
              "}});\n",
              "\n",
              "// Listen for the removal of the full notebook cells\n",
              "var notebookContainer = gd.closest('#notebook-container');\n",
              "if (notebookContainer) {{\n",
              "    x.observe(notebookContainer, {childList: true});\n",
              "}}\n",
              "\n",
              "// Listen for the clearing of the current output cell\n",
              "var outputEl = gd.closest('.output');\n",
              "if (outputEl) {{\n",
              "    x.observe(outputEl, {childList: true});\n",
              "}}\n",
              "\n",
              "                        })                };                            </script>        </div>\n",
              "</body>\n",
              "</html>"
            ]
          },
          "metadata": {}
        }
      ]
    },
    {
      "cell_type": "code",
      "source": [
        "#plotlyexpress\n",
        "fig=px.choropleth(df, locations = df['Country / Dependency'],locationmode = \"country names\", color=\"Population\", hover_name=\"Country / Dependency\",\n",
        "                  color_continuous_scale=px.colors.diverging.BrBG,labels={'Country / Dependency':'Country'},title=\"Population of Countries\")\n",
        "fig.show()"
      ],
      "metadata": {
        "colab": {
          "base_uri": "https://localhost:8080/",
          "height": 542
        },
        "id": "DIlG3lLS59Ps",
        "outputId": "05770b7f-cd52-4e09-aa4a-edda36562e70"
      },
      "execution_count": 46,
      "outputs": [
        {
          "output_type": "display_data",
          "data": {
            "text/html": [
              "<html>\n",
              "<head><meta charset=\"utf-8\" /></head>\n",
              "<body>\n",
              "    <div>            <script src=\"https://cdnjs.cloudflare.com/ajax/libs/mathjax/2.7.5/MathJax.js?config=TeX-AMS-MML_SVG\"></script><script type=\"text/javascript\">if (window.MathJax) {MathJax.Hub.Config({SVG: {font: \"STIX-Web\"}});}</script>                <script type=\"text/javascript\">window.PlotlyConfig = {MathJaxConfig: 'local'};</script>\n",
              "        <script src=\"https://cdn.plot.ly/plotly-2.8.3.min.js\"></script>                <div id=\"c2e897b5-55cf-4634-a65d-86ec34b85c38\" class=\"plotly-graph-div\" style=\"height:525px; width:100%;\"></div>            <script type=\"text/javascript\">                                    window.PLOTLYENV=window.PLOTLYENV || {};                                    if (document.getElementById(\"c2e897b5-55cf-4634-a65d-86ec34b85c38\")) {                    Plotly.newPlot(                        \"c2e897b5-55cf-4634-a65d-86ec34b85c38\",                        [{\"coloraxis\":\"coloraxis\",\"geo\":\"geo\",\"hovertemplate\":\"<b>%{hovertext}</b><br><br>Country=%{location}<br>Population=%{z}<extra></extra>\",\"hovertext\":[\"World\",\"China\",\"India\",\"United States\",\"Indonesia\",\"Pakistan\",\"Brazil\",\"Nigeria\",\"Bangladesh\",\"Russia\",\"Mexico\",\"Japan\",\"Ethiopia\",\"Philippines\",\"Egypt\",\"Vietnam\",\"DR Congo\",\"Iran\",\"Turkey\",\"Germany\",\"France\",\"United Kingdom\",\"Thailand\",\"South Africa\",\"Tanzania\",\"Italy\",\"Myanmar\",\"South Korea\",\"Colombia\",\"Kenya\",\"Spain\",\"Argentina\",\"Algeria\",\"Sudan\",\"Uganda\",\"Iraq\",\"Ukraine\",\"Canada\",\"Poland\",\"Morocco\",\"Uzbekistan\",\"Saudi Arabia\",\"Peru\",\"Afghanistan\",\"Malaysia\",\"Angola\",\"Mozambique\",\"Ghana\",\"Yemen\",\"Nepal\",\"Venezuela\",\"Ivory Coast\",\"Madagascar\",\"Australia\",\"North Korea\",\"Cameroon\",\"Niger\",\"Taiwan\",\"Sri Lanka\",\"Burkina Faso\",\"Mali\",\"Chile\",\"Romania\",\"Kazakhstan\",\"Malawi\",\"Zambia\",\"Syria\",\"Ecuador\",\"Netherlands\",\"Senegal\",\"Guatemala\",\"Chad\",\"Somalia\",\"Zimbabwe\",\"Cambodia\",\"South Sudan\",\"Rwanda\",\"Guinea\",\"Burundi\",\"Benin\",\"Bolivia\",\"Tunisia\",\"Haiti\",\"Belgium\",\"Cuba\",\"Jordan\",\"Greece\",\"Dominican Republic\",\"Czech Republic\",\"Sweden\",\"Portugal\",\"Azerbaijan\",\"Hungary\",\"Honduras\",\"Tajikistan\",\"United Arab Emirates\",\"Israel\",\"Belarus\",\"Papua New Guinea\",\"Austria\",\"Switzerland\",\"Sierra Leone\",\"Togo\",\"Hong Kong (China)\",\"Paraguay\",\"Laos\",\"Libya\",\"Serbia\",\"El Salvador\",\"Lebanon\",\"Kyrgyzstan\",\"Nicaragua\",\"Bulgaria\",\"Turkmenistan\",\"Denmark\",\"Congo\",\"Central African Republic\",\"Finland\",\"Singapore\",\"Slovakia\",\"Norway\",\"Palestine\",\"Costa Rica\",\"New Zealand\",\"Ireland\",\"Kuwait\",\"Liberia\",\"Oman\",\"Panama\",\"Mauritania\",\"Croatia\",\"Georgia\",\"Eritrea\",\"Uruguay\",\"Mongolia\",\"Bosnia and Herzegovina\",\"Puerto Rico (United States)\",\"Armenia\",\"Albania\",\"Qatar\",\"Lithuania\",\"Jamaica\",\"Moldova\",\"Namibia\",\"Gambia\",\"Botswana\",\"Gabon\",\"Lesotho\",\"Slovenia\",\"Latvia\",\"North Macedonia\",\"Kosovo\",\"Guinea-Bissau\",\"Equatorial Guinea\",\"Bahrain\",\"Trinidad and Tobago\",\"Estonia\",\"East Timor\",\"Mauritius\",\"Eswatini\",\"Djibouti\",\"Fiji\",\"Cyprus[c]\",\"Comoros\",\"Bhutan\",\"Guyana\",\"Solomon Islands\",\"Macau (China)\",\"Luxembourg\",\"Montenegro\",\"Western Sahara\",\"Suriname\",\"Cape Verde\",\"Malta\",\"Belize\",\"Brunei\",\"Bahamas\",\"Maldives\",\"Northern Cyprus\",\"Iceland\",\"Transnistria\",\"Vanuatu\",\"Barbados\",\"French Polynesia (France)\",\"New Caledonia (France)\",\"Abkhazia\",\"S\\u00e3o Tom\\u00e9 and Pr\\u00edncipe\",\"Samoa\",\"Saint Lucia\",\"Guam (United States)\",\"Cura\\u00e7ao (Netherlands)\",\"Republic of Artsakh\",\"Kiribati\",\"Grenada\",\"Aruba (Netherlands)\",\"Saint Vincent and the Grenadines\",\"Jersey (British Crown Dependency)\",\"Micronesia\",\"Tonga\",\"Antigua and Barbuda\",\"Seychelles\",\"U.S. Virgin Islands (United States)\",\"Isle of Man (British Crown Dependency)\",\"Andorra\",\"Dominica\",\"Cayman Islands (United Kingdom)\",\"Bermuda (United Kingdom)\",\"Guernsey (British Crown Dependency)\",\"Greenland (Denmark)\",\"Marshall Islands\",\"Saint Kitts and Nevis\",\"Faroe Islands (Denmark)\",\"South Ossetia\",\"American Samoa (United States)\",\"Northern Mariana Islands (United States)\",\"Turks and Caicos Islands (United Kingdom)\",\"Sint Maarten (Netherlands)\",\"Liechtenstein\",\"Monaco\",\"Gibraltar (United Kingdom)\",\"San Marino\",\"Saint Martin (France)\",\"\\u00c5land (Finland)\",\"British Virgin Islands (United Kingdom)\",\"Palau\",\"Cook Islands (New Zealand)\",\"Anguilla (United Kingdom)\",\"Nauru\",\"Wallis and Futuna (France)\",\"Tuvalu\",\"Saint Barth\\u00e9lemy (France)\",\"Saint Helena, Ascension and Tristan da Cunha (United Kingdom)\",\"Saint Pierre and Miquelon (France)\",\"Montserrat (United Kingdom)\",\"Falkland Islands (United Kingdom)\",\"Christmas Island (Australia)\",\"Norfolk Island (Australia)\",\"Niue (New Zealand)\",\"Tokelau (New Zealand)\",\"Vatican City\",\"Cocos (Keeling) Islands (Australia)\",\"Pitcairn Islands (United Kingdom)\"],\"locationmode\":\"country names\",\"locations\":[\"World\",\"China\",\"India\",\"United States\",\"Indonesia\",\"Pakistan\",\"Brazil\",\"Nigeria\",\"Bangladesh\",\"Russia\",\"Mexico\",\"Japan\",\"Ethiopia\",\"Philippines\",\"Egypt\",\"Vietnam\",\"DR Congo\",\"Iran\",\"Turkey\",\"Germany\",\"France\",\"United Kingdom\",\"Thailand\",\"South Africa\",\"Tanzania\",\"Italy\",\"Myanmar\",\"South Korea\",\"Colombia\",\"Kenya\",\"Spain\",\"Argentina\",\"Algeria\",\"Sudan\",\"Uganda\",\"Iraq\",\"Ukraine\",\"Canada\",\"Poland\",\"Morocco\",\"Uzbekistan\",\"Saudi Arabia\",\"Peru\",\"Afghanistan\",\"Malaysia\",\"Angola\",\"Mozambique\",\"Ghana\",\"Yemen\",\"Nepal\",\"Venezuela\",\"Ivory Coast\",\"Madagascar\",\"Australia\",\"North Korea\",\"Cameroon\",\"Niger\",\"Taiwan\",\"Sri Lanka\",\"Burkina Faso\",\"Mali\",\"Chile\",\"Romania\",\"Kazakhstan\",\"Malawi\",\"Zambia\",\"Syria\",\"Ecuador\",\"Netherlands\",\"Senegal\",\"Guatemala\",\"Chad\",\"Somalia\",\"Zimbabwe\",\"Cambodia\",\"South Sudan\",\"Rwanda\",\"Guinea\",\"Burundi\",\"Benin\",\"Bolivia\",\"Tunisia\",\"Haiti\",\"Belgium\",\"Cuba\",\"Jordan\",\"Greece\",\"Dominican Republic\",\"Czech Republic\",\"Sweden\",\"Portugal\",\"Azerbaijan\",\"Hungary\",\"Honduras\",\"Tajikistan\",\"United Arab Emirates\",\"Israel\",\"Belarus\",\"Papua New Guinea\",\"Austria\",\"Switzerland\",\"Sierra Leone\",\"Togo\",\"Hong Kong (China)\",\"Paraguay\",\"Laos\",\"Libya\",\"Serbia\",\"El Salvador\",\"Lebanon\",\"Kyrgyzstan\",\"Nicaragua\",\"Bulgaria\",\"Turkmenistan\",\"Denmark\",\"Congo\",\"Central African Republic\",\"Finland\",\"Singapore\",\"Slovakia\",\"Norway\",\"Palestine\",\"Costa Rica\",\"New Zealand\",\"Ireland\",\"Kuwait\",\"Liberia\",\"Oman\",\"Panama\",\"Mauritania\",\"Croatia\",\"Georgia\",\"Eritrea\",\"Uruguay\",\"Mongolia\",\"Bosnia and Herzegovina\",\"Puerto Rico (United States)\",\"Armenia\",\"Albania\",\"Qatar\",\"Lithuania\",\"Jamaica\",\"Moldova\",\"Namibia\",\"Gambia\",\"Botswana\",\"Gabon\",\"Lesotho\",\"Slovenia\",\"Latvia\",\"North Macedonia\",\"Kosovo\",\"Guinea-Bissau\",\"Equatorial Guinea\",\"Bahrain\",\"Trinidad and Tobago\",\"Estonia\",\"East Timor\",\"Mauritius\",\"Eswatini\",\"Djibouti\",\"Fiji\",\"Cyprus[c]\",\"Comoros\",\"Bhutan\",\"Guyana\",\"Solomon Islands\",\"Macau (China)\",\"Luxembourg\",\"Montenegro\",\"Western Sahara\",\"Suriname\",\"Cape Verde\",\"Malta\",\"Belize\",\"Brunei\",\"Bahamas\",\"Maldives\",\"Northern Cyprus\",\"Iceland\",\"Transnistria\",\"Vanuatu\",\"Barbados\",\"French Polynesia (France)\",\"New Caledonia (France)\",\"Abkhazia\",\"S\\u00e3o Tom\\u00e9 and Pr\\u00edncipe\",\"Samoa\",\"Saint Lucia\",\"Guam (United States)\",\"Cura\\u00e7ao (Netherlands)\",\"Republic of Artsakh\",\"Kiribati\",\"Grenada\",\"Aruba (Netherlands)\",\"Saint Vincent and the Grenadines\",\"Jersey (British Crown Dependency)\",\"Micronesia\",\"Tonga\",\"Antigua and Barbuda\",\"Seychelles\",\"U.S. Virgin Islands (United States)\",\"Isle of Man (British Crown Dependency)\",\"Andorra\",\"Dominica\",\"Cayman Islands (United Kingdom)\",\"Bermuda (United Kingdom)\",\"Guernsey (British Crown Dependency)\",\"Greenland (Denmark)\",\"Marshall Islands\",\"Saint Kitts and Nevis\",\"Faroe Islands (Denmark)\",\"South Ossetia\",\"American Samoa (United States)\",\"Northern Mariana Islands (United States)\",\"Turks and Caicos Islands (United Kingdom)\",\"Sint Maarten (Netherlands)\",\"Liechtenstein\",\"Monaco\",\"Gibraltar (United Kingdom)\",\"San Marino\",\"Saint Martin (France)\",\"\\u00c5land (Finland)\",\"British Virgin Islands (United Kingdom)\",\"Palau\",\"Cook Islands (New Zealand)\",\"Anguilla (United Kingdom)\",\"Nauru\",\"Wallis and Futuna (France)\",\"Tuvalu\",\"Saint Barth\\u00e9lemy (France)\",\"Saint Helena, Ascension and Tristan da Cunha (United Kingdom)\",\"Saint Pierre and Miquelon (France)\",\"Montserrat (United Kingdom)\",\"Falkland Islands (United Kingdom)\",\"Christmas Island (Australia)\",\"Norfolk Island (Australia)\",\"Niue (New Zealand)\",\"Tokelau (New Zealand)\",\"Vatican City\",\"Cocos (Keeling) Islands (Australia)\",\"Pitcairn Islands (United Kingdom)\"],\"name\":\"\",\"z\":[7936719000,1412600000,1374271375,332564727,272248500,225200000,214385501,211401000,172383258,145478097,126014024,125340000,117876000,111623674,103049323,98510000,92378000,85276270,84680273,83222442,67813000,67081234,66764892,60142978,59441988,58983122,55294979,51625561,51049498,47564296,47326687,45808747,45400000,44271895,42885900,41190700,41167336,38616193,38116000,36544249,35429277,35013414,33035304,32890171,32703400,32097671,30832244,30832019,30491000,29192480,28705000,27087732,26923353,25965223,25660000,24348251,24112753,23375314,22156000,21510181,20856000,19678363,19186201,19181584,18898441,18400556,18276000,17938712,17700581,17223497,17109746,16818391,16360000,15790716,15552211,13249924,12955768,12907395,12574571,12506347,11797257,11746695,11743017,11617817,11181595,11165608,10678632,10535535,10524167,10452326,10347892,10156366,9689000,9546178,9504000,9503738,9488060,9349645,9122994,8979894,8717105,8297882,7886000,7403100,7353038,7337783,6959000,6871547,6825935,6769000,6700000,6595674,6520314,6118000,5873420,5657000,5633412,5519255,5453600,5452025,5425270,5227193,5163038,5133929,5011500,4670713,4661010,4527446,4278500,4271197,3888529,3728573,3601000,3554915,3427451,3320954,3285874,2963900,2829741,2799202,2794961,2734093,2597100,2550226,2487000,2410338,2233272,2159000,2108977,1874900,1832696,1782115,1646077,1505588,1501635,1367558,1330068,1317780,1266334,1172000,976107,898402,888005,758316,756129,743699,728041,682300,634730,621306,612000,598000,563198,514564,430191,429999,393450,383135,382230,376000,306000,301295,288000,279890,273674,245424,214610,199853,178696,153836,153671,148900,120740,113000,111050,110696,107800,105754,99532,99337,99202,87146,84069,79535,72000,65786,64055,63124,56562,54516,54000,53664,53532,49710,47329,44542,42577,39151,38350,34000,33685,32489,30344,30000,17957,15342,15000,11832,11369,10679,10289,6000,5974,5000,4000,1966,1734,1549,1501,825,573,40],\"type\":\"choropleth\"}],                        {\"template\":{\"data\":{\"bar\":[{\"error_x\":{\"color\":\"#2a3f5f\"},\"error_y\":{\"color\":\"#2a3f5f\"},\"marker\":{\"line\":{\"color\":\"#E5ECF6\",\"width\":0.5},\"pattern\":{\"fillmode\":\"overlay\",\"size\":10,\"solidity\":0.2}},\"type\":\"bar\"}],\"barpolar\":[{\"marker\":{\"line\":{\"color\":\"#E5ECF6\",\"width\":0.5},\"pattern\":{\"fillmode\":\"overlay\",\"size\":10,\"solidity\":0.2}},\"type\":\"barpolar\"}],\"carpet\":[{\"aaxis\":{\"endlinecolor\":\"#2a3f5f\",\"gridcolor\":\"white\",\"linecolor\":\"white\",\"minorgridcolor\":\"white\",\"startlinecolor\":\"#2a3f5f\"},\"baxis\":{\"endlinecolor\":\"#2a3f5f\",\"gridcolor\":\"white\",\"linecolor\":\"white\",\"minorgridcolor\":\"white\",\"startlinecolor\":\"#2a3f5f\"},\"type\":\"carpet\"}],\"choropleth\":[{\"colorbar\":{\"outlinewidth\":0,\"ticks\":\"\"},\"type\":\"choropleth\"}],\"contour\":[{\"colorbar\":{\"outlinewidth\":0,\"ticks\":\"\"},\"colorscale\":[[0.0,\"#0d0887\"],[0.1111111111111111,\"#46039f\"],[0.2222222222222222,\"#7201a8\"],[0.3333333333333333,\"#9c179e\"],[0.4444444444444444,\"#bd3786\"],[0.5555555555555556,\"#d8576b\"],[0.6666666666666666,\"#ed7953\"],[0.7777777777777778,\"#fb9f3a\"],[0.8888888888888888,\"#fdca26\"],[1.0,\"#f0f921\"]],\"type\":\"contour\"}],\"contourcarpet\":[{\"colorbar\":{\"outlinewidth\":0,\"ticks\":\"\"},\"type\":\"contourcarpet\"}],\"heatmap\":[{\"colorbar\":{\"outlinewidth\":0,\"ticks\":\"\"},\"colorscale\":[[0.0,\"#0d0887\"],[0.1111111111111111,\"#46039f\"],[0.2222222222222222,\"#7201a8\"],[0.3333333333333333,\"#9c179e\"],[0.4444444444444444,\"#bd3786\"],[0.5555555555555556,\"#d8576b\"],[0.6666666666666666,\"#ed7953\"],[0.7777777777777778,\"#fb9f3a\"],[0.8888888888888888,\"#fdca26\"],[1.0,\"#f0f921\"]],\"type\":\"heatmap\"}],\"heatmapgl\":[{\"colorbar\":{\"outlinewidth\":0,\"ticks\":\"\"},\"colorscale\":[[0.0,\"#0d0887\"],[0.1111111111111111,\"#46039f\"],[0.2222222222222222,\"#7201a8\"],[0.3333333333333333,\"#9c179e\"],[0.4444444444444444,\"#bd3786\"],[0.5555555555555556,\"#d8576b\"],[0.6666666666666666,\"#ed7953\"],[0.7777777777777778,\"#fb9f3a\"],[0.8888888888888888,\"#fdca26\"],[1.0,\"#f0f921\"]],\"type\":\"heatmapgl\"}],\"histogram\":[{\"marker\":{\"pattern\":{\"fillmode\":\"overlay\",\"size\":10,\"solidity\":0.2}},\"type\":\"histogram\"}],\"histogram2d\":[{\"colorbar\":{\"outlinewidth\":0,\"ticks\":\"\"},\"colorscale\":[[0.0,\"#0d0887\"],[0.1111111111111111,\"#46039f\"],[0.2222222222222222,\"#7201a8\"],[0.3333333333333333,\"#9c179e\"],[0.4444444444444444,\"#bd3786\"],[0.5555555555555556,\"#d8576b\"],[0.6666666666666666,\"#ed7953\"],[0.7777777777777778,\"#fb9f3a\"],[0.8888888888888888,\"#fdca26\"],[1.0,\"#f0f921\"]],\"type\":\"histogram2d\"}],\"histogram2dcontour\":[{\"colorbar\":{\"outlinewidth\":0,\"ticks\":\"\"},\"colorscale\":[[0.0,\"#0d0887\"],[0.1111111111111111,\"#46039f\"],[0.2222222222222222,\"#7201a8\"],[0.3333333333333333,\"#9c179e\"],[0.4444444444444444,\"#bd3786\"],[0.5555555555555556,\"#d8576b\"],[0.6666666666666666,\"#ed7953\"],[0.7777777777777778,\"#fb9f3a\"],[0.8888888888888888,\"#fdca26\"],[1.0,\"#f0f921\"]],\"type\":\"histogram2dcontour\"}],\"mesh3d\":[{\"colorbar\":{\"outlinewidth\":0,\"ticks\":\"\"},\"type\":\"mesh3d\"}],\"parcoords\":[{\"line\":{\"colorbar\":{\"outlinewidth\":0,\"ticks\":\"\"}},\"type\":\"parcoords\"}],\"pie\":[{\"automargin\":true,\"type\":\"pie\"}],\"scatter\":[{\"marker\":{\"colorbar\":{\"outlinewidth\":0,\"ticks\":\"\"}},\"type\":\"scatter\"}],\"scatter3d\":[{\"line\":{\"colorbar\":{\"outlinewidth\":0,\"ticks\":\"\"}},\"marker\":{\"colorbar\":{\"outlinewidth\":0,\"ticks\":\"\"}},\"type\":\"scatter3d\"}],\"scattercarpet\":[{\"marker\":{\"colorbar\":{\"outlinewidth\":0,\"ticks\":\"\"}},\"type\":\"scattercarpet\"}],\"scattergeo\":[{\"marker\":{\"colorbar\":{\"outlinewidth\":0,\"ticks\":\"\"}},\"type\":\"scattergeo\"}],\"scattergl\":[{\"marker\":{\"colorbar\":{\"outlinewidth\":0,\"ticks\":\"\"}},\"type\":\"scattergl\"}],\"scattermapbox\":[{\"marker\":{\"colorbar\":{\"outlinewidth\":0,\"ticks\":\"\"}},\"type\":\"scattermapbox\"}],\"scatterpolar\":[{\"marker\":{\"colorbar\":{\"outlinewidth\":0,\"ticks\":\"\"}},\"type\":\"scatterpolar\"}],\"scatterpolargl\":[{\"marker\":{\"colorbar\":{\"outlinewidth\":0,\"ticks\":\"\"}},\"type\":\"scatterpolargl\"}],\"scatterternary\":[{\"marker\":{\"colorbar\":{\"outlinewidth\":0,\"ticks\":\"\"}},\"type\":\"scatterternary\"}],\"surface\":[{\"colorbar\":{\"outlinewidth\":0,\"ticks\":\"\"},\"colorscale\":[[0.0,\"#0d0887\"],[0.1111111111111111,\"#46039f\"],[0.2222222222222222,\"#7201a8\"],[0.3333333333333333,\"#9c179e\"],[0.4444444444444444,\"#bd3786\"],[0.5555555555555556,\"#d8576b\"],[0.6666666666666666,\"#ed7953\"],[0.7777777777777778,\"#fb9f3a\"],[0.8888888888888888,\"#fdca26\"],[1.0,\"#f0f921\"]],\"type\":\"surface\"}],\"table\":[{\"cells\":{\"fill\":{\"color\":\"#EBF0F8\"},\"line\":{\"color\":\"white\"}},\"header\":{\"fill\":{\"color\":\"#C8D4E3\"},\"line\":{\"color\":\"white\"}},\"type\":\"table\"}]},\"layout\":{\"annotationdefaults\":{\"arrowcolor\":\"#2a3f5f\",\"arrowhead\":0,\"arrowwidth\":1},\"autotypenumbers\":\"strict\",\"coloraxis\":{\"colorbar\":{\"outlinewidth\":0,\"ticks\":\"\"}},\"colorscale\":{\"diverging\":[[0,\"#8e0152\"],[0.1,\"#c51b7d\"],[0.2,\"#de77ae\"],[0.3,\"#f1b6da\"],[0.4,\"#fde0ef\"],[0.5,\"#f7f7f7\"],[0.6,\"#e6f5d0\"],[0.7,\"#b8e186\"],[0.8,\"#7fbc41\"],[0.9,\"#4d9221\"],[1,\"#276419\"]],\"sequential\":[[0.0,\"#0d0887\"],[0.1111111111111111,\"#46039f\"],[0.2222222222222222,\"#7201a8\"],[0.3333333333333333,\"#9c179e\"],[0.4444444444444444,\"#bd3786\"],[0.5555555555555556,\"#d8576b\"],[0.6666666666666666,\"#ed7953\"],[0.7777777777777778,\"#fb9f3a\"],[0.8888888888888888,\"#fdca26\"],[1.0,\"#f0f921\"]],\"sequentialminus\":[[0.0,\"#0d0887\"],[0.1111111111111111,\"#46039f\"],[0.2222222222222222,\"#7201a8\"],[0.3333333333333333,\"#9c179e\"],[0.4444444444444444,\"#bd3786\"],[0.5555555555555556,\"#d8576b\"],[0.6666666666666666,\"#ed7953\"],[0.7777777777777778,\"#fb9f3a\"],[0.8888888888888888,\"#fdca26\"],[1.0,\"#f0f921\"]]},\"colorway\":[\"#636efa\",\"#EF553B\",\"#00cc96\",\"#ab63fa\",\"#FFA15A\",\"#19d3f3\",\"#FF6692\",\"#B6E880\",\"#FF97FF\",\"#FECB52\"],\"font\":{\"color\":\"#2a3f5f\"},\"geo\":{\"bgcolor\":\"white\",\"lakecolor\":\"white\",\"landcolor\":\"#E5ECF6\",\"showlakes\":true,\"showland\":true,\"subunitcolor\":\"white\"},\"hoverlabel\":{\"align\":\"left\"},\"hovermode\":\"closest\",\"mapbox\":{\"style\":\"light\"},\"paper_bgcolor\":\"white\",\"plot_bgcolor\":\"#E5ECF6\",\"polar\":{\"angularaxis\":{\"gridcolor\":\"white\",\"linecolor\":\"white\",\"ticks\":\"\"},\"bgcolor\":\"#E5ECF6\",\"radialaxis\":{\"gridcolor\":\"white\",\"linecolor\":\"white\",\"ticks\":\"\"}},\"scene\":{\"xaxis\":{\"backgroundcolor\":\"#E5ECF6\",\"gridcolor\":\"white\",\"gridwidth\":2,\"linecolor\":\"white\",\"showbackground\":true,\"ticks\":\"\",\"zerolinecolor\":\"white\"},\"yaxis\":{\"backgroundcolor\":\"#E5ECF6\",\"gridcolor\":\"white\",\"gridwidth\":2,\"linecolor\":\"white\",\"showbackground\":true,\"ticks\":\"\",\"zerolinecolor\":\"white\"},\"zaxis\":{\"backgroundcolor\":\"#E5ECF6\",\"gridcolor\":\"white\",\"gridwidth\":2,\"linecolor\":\"white\",\"showbackground\":true,\"ticks\":\"\",\"zerolinecolor\":\"white\"}},\"shapedefaults\":{\"line\":{\"color\":\"#2a3f5f\"}},\"ternary\":{\"aaxis\":{\"gridcolor\":\"white\",\"linecolor\":\"white\",\"ticks\":\"\"},\"baxis\":{\"gridcolor\":\"white\",\"linecolor\":\"white\",\"ticks\":\"\"},\"bgcolor\":\"#E5ECF6\",\"caxis\":{\"gridcolor\":\"white\",\"linecolor\":\"white\",\"ticks\":\"\"}},\"title\":{\"x\":0.05},\"xaxis\":{\"automargin\":true,\"gridcolor\":\"white\",\"linecolor\":\"white\",\"ticks\":\"\",\"title\":{\"standoff\":15},\"zerolinecolor\":\"white\",\"zerolinewidth\":2},\"yaxis\":{\"automargin\":true,\"gridcolor\":\"white\",\"linecolor\":\"white\",\"ticks\":\"\",\"title\":{\"standoff\":15},\"zerolinecolor\":\"white\",\"zerolinewidth\":2}}},\"geo\":{\"domain\":{\"x\":[0.0,1.0],\"y\":[0.0,1.0]},\"center\":{}},\"coloraxis\":{\"colorbar\":{\"title\":{\"text\":\"Population\"}},\"colorscale\":[[0.0,\"rgb(84,48,5)\"],[0.1,\"rgb(140,81,10)\"],[0.2,\"rgb(191,129,45)\"],[0.3,\"rgb(223,194,125)\"],[0.4,\"rgb(246,232,195)\"],[0.5,\"rgb(245,245,245)\"],[0.6,\"rgb(199,234,229)\"],[0.7,\"rgb(128,205,193)\"],[0.8,\"rgb(53,151,143)\"],[0.9,\"rgb(1,102,94)\"],[1.0,\"rgb(0,60,48)\"]]},\"legend\":{\"tracegroupgap\":0},\"title\":{\"text\":\"Population of Countries\"}},                        {\"responsive\": true}                    ).then(function(){\n",
              "                            \n",
              "var gd = document.getElementById('c2e897b5-55cf-4634-a65d-86ec34b85c38');\n",
              "var x = new MutationObserver(function (mutations, observer) {{\n",
              "        var display = window.getComputedStyle(gd).display;\n",
              "        if (!display || display === 'none') {{\n",
              "            console.log([gd, 'removed!']);\n",
              "            Plotly.purge(gd);\n",
              "            observer.disconnect();\n",
              "        }}\n",
              "}});\n",
              "\n",
              "// Listen for the removal of the full notebook cells\n",
              "var notebookContainer = gd.closest('#notebook-container');\n",
              "if (notebookContainer) {{\n",
              "    x.observe(notebookContainer, {childList: true});\n",
              "}}\n",
              "\n",
              "// Listen for the clearing of the current output cell\n",
              "var outputEl = gd.closest('.output');\n",
              "if (outputEl) {{\n",
              "    x.observe(outputEl, {childList: true});\n",
              "}}\n",
              "\n",
              "                        })                };                            </script>        </div>\n",
              "</body>\n",
              "</html>"
            ]
          },
          "metadata": {}
        }
      ]
    },
    {
      "cell_type": "code",
      "source": [
        "pageurl=\"https://en.wikipedia.org/wiki/List_of_states_and_union_territories_of_India_by_population\"\n",
        "response=requests.get(pageurl)\n",
        "print(response.status_code)"
      ],
      "metadata": {
        "colab": {
          "base_uri": "https://localhost:8080/"
        },
        "id": "lPfPEWoK6OFQ",
        "outputId": "7c650d28-5959-4b6a-e150-61851e4dbe4c"
      },
      "execution_count": 55,
      "outputs": [
        {
          "output_type": "stream",
          "name": "stdout",
          "text": [
            "200\n"
          ]
        }
      ]
    },
    {
      "cell_type": "code",
      "source": [
        "sp = BeautifulSoup(response.text, 'html.parser')\n",
        "indiatable=sp.find('table',{'class':\"wikitable\"})\n",
        "\n",
        "df=pd.read_html(str(indiatable))\n",
        "# convert list to dataframe\n",
        "df=pd.DataFrame(df[0])\n",
        "df.rename(columns = {'Density[a]':'Density'}, inplace = True)\n",
        "df.head()"
      ],
      "metadata": {
        "colab": {
          "base_uri": "https://localhost:8080/",
          "height": 354
        },
        "id": "j5iHbkD7JEHF",
        "outputId": "e6bbcc13-23fe-4444-860b-f8a7e94a71b0"
      },
      "execution_count": 63,
      "outputs": [
        {
          "output_type": "execute_result",
          "data": {
            "text/plain": [
              "     Rank State or union territory Population National Share (%)  \\\n",
              "0  1 (S1)            Uttar Pradesh  199812341                NaN   \n",
              "1  2 (S2)              Maharashtra  112374333                NaN   \n",
              "2  3 (S3)                    Bihar  104099452                NaN   \n",
              "3  4 (S4)              West Bengal   91276115                NaN   \n",
              "4  5 (S5)           Madhya Pradesh   72626809                NaN   \n",
              "\n",
              "  Decadal growth(2001–2012)  Rural population Percent rural  Urban population  \\\n",
              "0                     20.2%         155317278           NaN          44495063   \n",
              "1                     20.0%          61556074           NaN          50818259   \n",
              "2                     25.4%          92341436           NaN          11758016   \n",
              "3                     13.8%          62183113           NaN          29093002   \n",
              "4                     16.3%          52557404           NaN          20069405   \n",
              "\n",
              "  Percent urban                     Area[14]                  Density  \\\n",
              "0           NaN   240,928 km2 (93,023 sq mi)    828/km2 (2,140/sq mi)   \n",
              "1           NaN  307,713 km2 (118,809 sq mi)      365/km2 (950/sq mi)   \n",
              "2           NaN    94,163 km2 (36,357 sq mi)  1,102/km2 (2,850/sq mi)   \n",
              "3           NaN    88,752 km2 (34,267 sq mi)  1,029/km2 (2,670/sq mi)   \n",
              "4           NaN  308,245 km2 (119,014 sq mi)      236/km2 (610/sq mi)   \n",
              "\n",
              "   Sex ratio  \n",
              "0        912  \n",
              "1        929  \n",
              "2        918  \n",
              "3        953  \n",
              "4        931  "
            ],
            "text/html": [
              "\n",
              "  <div id=\"df-71203bfb-6854-4854-8101-f039748c59cf\">\n",
              "    <div class=\"colab-df-container\">\n",
              "      <div>\n",
              "<style scoped>\n",
              "    .dataframe tbody tr th:only-of-type {\n",
              "        vertical-align: middle;\n",
              "    }\n",
              "\n",
              "    .dataframe tbody tr th {\n",
              "        vertical-align: top;\n",
              "    }\n",
              "\n",
              "    .dataframe thead th {\n",
              "        text-align: right;\n",
              "    }\n",
              "</style>\n",
              "<table border=\"1\" class=\"dataframe\">\n",
              "  <thead>\n",
              "    <tr style=\"text-align: right;\">\n",
              "      <th></th>\n",
              "      <th>Rank</th>\n",
              "      <th>State or union territory</th>\n",
              "      <th>Population</th>\n",
              "      <th>National Share (%)</th>\n",
              "      <th>Decadal growth(2001–2012)</th>\n",
              "      <th>Rural population</th>\n",
              "      <th>Percent rural</th>\n",
              "      <th>Urban population</th>\n",
              "      <th>Percent urban</th>\n",
              "      <th>Area[14]</th>\n",
              "      <th>Density</th>\n",
              "      <th>Sex ratio</th>\n",
              "    </tr>\n",
              "  </thead>\n",
              "  <tbody>\n",
              "    <tr>\n",
              "      <th>0</th>\n",
              "      <td>1 (S1)</td>\n",
              "      <td>Uttar Pradesh</td>\n",
              "      <td>199812341</td>\n",
              "      <td>NaN</td>\n",
              "      <td>20.2%</td>\n",
              "      <td>155317278</td>\n",
              "      <td>NaN</td>\n",
              "      <td>44495063</td>\n",
              "      <td>NaN</td>\n",
              "      <td>240,928 km2 (93,023 sq mi)</td>\n",
              "      <td>828/km2 (2,140/sq mi)</td>\n",
              "      <td>912</td>\n",
              "    </tr>\n",
              "    <tr>\n",
              "      <th>1</th>\n",
              "      <td>2 (S2)</td>\n",
              "      <td>Maharashtra</td>\n",
              "      <td>112374333</td>\n",
              "      <td>NaN</td>\n",
              "      <td>20.0%</td>\n",
              "      <td>61556074</td>\n",
              "      <td>NaN</td>\n",
              "      <td>50818259</td>\n",
              "      <td>NaN</td>\n",
              "      <td>307,713 km2 (118,809 sq mi)</td>\n",
              "      <td>365/km2 (950/sq mi)</td>\n",
              "      <td>929</td>\n",
              "    </tr>\n",
              "    <tr>\n",
              "      <th>2</th>\n",
              "      <td>3 (S3)</td>\n",
              "      <td>Bihar</td>\n",
              "      <td>104099452</td>\n",
              "      <td>NaN</td>\n",
              "      <td>25.4%</td>\n",
              "      <td>92341436</td>\n",
              "      <td>NaN</td>\n",
              "      <td>11758016</td>\n",
              "      <td>NaN</td>\n",
              "      <td>94,163 km2 (36,357 sq mi)</td>\n",
              "      <td>1,102/km2 (2,850/sq mi)</td>\n",
              "      <td>918</td>\n",
              "    </tr>\n",
              "    <tr>\n",
              "      <th>3</th>\n",
              "      <td>4 (S4)</td>\n",
              "      <td>West Bengal</td>\n",
              "      <td>91276115</td>\n",
              "      <td>NaN</td>\n",
              "      <td>13.8%</td>\n",
              "      <td>62183113</td>\n",
              "      <td>NaN</td>\n",
              "      <td>29093002</td>\n",
              "      <td>NaN</td>\n",
              "      <td>88,752 km2 (34,267 sq mi)</td>\n",
              "      <td>1,029/km2 (2,670/sq mi)</td>\n",
              "      <td>953</td>\n",
              "    </tr>\n",
              "    <tr>\n",
              "      <th>4</th>\n",
              "      <td>5 (S5)</td>\n",
              "      <td>Madhya Pradesh</td>\n",
              "      <td>72626809</td>\n",
              "      <td>NaN</td>\n",
              "      <td>16.3%</td>\n",
              "      <td>52557404</td>\n",
              "      <td>NaN</td>\n",
              "      <td>20069405</td>\n",
              "      <td>NaN</td>\n",
              "      <td>308,245 km2 (119,014 sq mi)</td>\n",
              "      <td>236/km2 (610/sq mi)</td>\n",
              "      <td>931</td>\n",
              "    </tr>\n",
              "  </tbody>\n",
              "</table>\n",
              "</div>\n",
              "      <button class=\"colab-df-convert\" onclick=\"convertToInteractive('df-71203bfb-6854-4854-8101-f039748c59cf')\"\n",
              "              title=\"Convert this dataframe to an interactive table.\"\n",
              "              style=\"display:none;\">\n",
              "        \n",
              "  <svg xmlns=\"http://www.w3.org/2000/svg\" height=\"24px\"viewBox=\"0 0 24 24\"\n",
              "       width=\"24px\">\n",
              "    <path d=\"M0 0h24v24H0V0z\" fill=\"none\"/>\n",
              "    <path d=\"M18.56 5.44l.94 2.06.94-2.06 2.06-.94-2.06-.94-.94-2.06-.94 2.06-2.06.94zm-11 1L8.5 8.5l.94-2.06 2.06-.94-2.06-.94L8.5 2.5l-.94 2.06-2.06.94zm10 10l.94 2.06.94-2.06 2.06-.94-2.06-.94-.94-2.06-.94 2.06-2.06.94z\"/><path d=\"M17.41 7.96l-1.37-1.37c-.4-.4-.92-.59-1.43-.59-.52 0-1.04.2-1.43.59L10.3 9.45l-7.72 7.72c-.78.78-.78 2.05 0 2.83L4 21.41c.39.39.9.59 1.41.59.51 0 1.02-.2 1.41-.59l7.78-7.78 2.81-2.81c.8-.78.8-2.07 0-2.86zM5.41 20L4 18.59l7.72-7.72 1.47 1.35L5.41 20z\"/>\n",
              "  </svg>\n",
              "      </button>\n",
              "      \n",
              "  <style>\n",
              "    .colab-df-container {\n",
              "      display:flex;\n",
              "      flex-wrap:wrap;\n",
              "      gap: 12px;\n",
              "    }\n",
              "\n",
              "    .colab-df-convert {\n",
              "      background-color: #E8F0FE;\n",
              "      border: none;\n",
              "      border-radius: 50%;\n",
              "      cursor: pointer;\n",
              "      display: none;\n",
              "      fill: #1967D2;\n",
              "      height: 32px;\n",
              "      padding: 0 0 0 0;\n",
              "      width: 32px;\n",
              "    }\n",
              "\n",
              "    .colab-df-convert:hover {\n",
              "      background-color: #E2EBFA;\n",
              "      box-shadow: 0px 1px 2px rgba(60, 64, 67, 0.3), 0px 1px 3px 1px rgba(60, 64, 67, 0.15);\n",
              "      fill: #174EA6;\n",
              "    }\n",
              "\n",
              "    [theme=dark] .colab-df-convert {\n",
              "      background-color: #3B4455;\n",
              "      fill: #D2E3FC;\n",
              "    }\n",
              "\n",
              "    [theme=dark] .colab-df-convert:hover {\n",
              "      background-color: #434B5C;\n",
              "      box-shadow: 0px 1px 3px 1px rgba(0, 0, 0, 0.15);\n",
              "      filter: drop-shadow(0px 1px 2px rgba(0, 0, 0, 0.3));\n",
              "      fill: #FFFFFF;\n",
              "    }\n",
              "  </style>\n",
              "\n",
              "      <script>\n",
              "        const buttonEl =\n",
              "          document.querySelector('#df-71203bfb-6854-4854-8101-f039748c59cf button.colab-df-convert');\n",
              "        buttonEl.style.display =\n",
              "          google.colab.kernel.accessAllowed ? 'block' : 'none';\n",
              "\n",
              "        async function convertToInteractive(key) {\n",
              "          const element = document.querySelector('#df-71203bfb-6854-4854-8101-f039748c59cf');\n",
              "          const dataTable =\n",
              "            await google.colab.kernel.invokeFunction('convertToInteractive',\n",
              "                                                     [key], {});\n",
              "          if (!dataTable) return;\n",
              "\n",
              "          const docLinkHtml = 'Like what you see? Visit the ' +\n",
              "            '<a target=\"_blank\" href=https://colab.research.google.com/notebooks/data_table.ipynb>data table notebook</a>'\n",
              "            + ' to learn more about interactive tables.';\n",
              "          element.innerHTML = '';\n",
              "          dataTable['output_type'] = 'display_data';\n",
              "          await google.colab.output.renderOutput(dataTable, element);\n",
              "          const docLink = document.createElement('div');\n",
              "          docLink.innerHTML = docLinkHtml;\n",
              "          element.appendChild(docLink);\n",
              "        }\n",
              "      </script>\n",
              "    </div>\n",
              "  </div>\n",
              "  "
            ]
          },
          "metadata": {},
          "execution_count": 63
        }
      ]
    },
    {
      "cell_type": "code",
      "source": [
        "df.isnull().sum()"
      ],
      "metadata": {
        "colab": {
          "base_uri": "https://localhost:8080/"
        },
        "id": "CgJXaoeKJLhF",
        "outputId": "781fe1a9-2bdb-4b83-fbd6-c11e65c3d530"
      },
      "execution_count": 35,
      "outputs": [
        {
          "output_type": "execute_result",
          "data": {
            "text/plain": [
              "Rank                        0\n",
              "City                        0\n",
              "Population(2011)[3]         0\n",
              "Population(2001)            0\n",
              "State or union territory    0\n",
              "dtype: int64"
            ]
          },
          "metadata": {},
          "execution_count": 35
        }
      ]
    },
    {
      "cell_type": "code",
      "source": [
        "#india_states = json.load(open(\"states_india.geojson\", \"r\"))\n",
        "fig = px.choropleth(\n",
        "    df,\n",
        "    locationmode='geojson-id', featureidkey='properties.ST_NM',\n",
        "    locations=df['State or union territory'],\n",
        "    geojson=\"https://gist.githubusercontent.com/jbrobst/56c13bbbf9d97d187fea01ca62ea5112/raw/e388c4cae20aa53cb5090210a42ebb9b765c0a36/india_states.geojson\",\n",
        "    color=\"Density\",\n",
        "    hover_name=\"State or union territory\",\n",
        "    hover_data=[\"Population\",\"Rural population\",\"Urban population\"],\n",
        "    title=\"India Population Density\",\n",
        ")\n",
        "fig.update_geos(fitbounds=\"locations\", visible=False)\n",
        "fig.show()"
      ],
      "metadata": {
        "colab": {
          "base_uri": "https://localhost:8080/",
          "height": 542
        },
        "id": "2OEXKrO8J1vB",
        "outputId": "7cdd63ad-b169-4ed1-e197-924e8905d395"
      },
      "execution_count": 64,
      "outputs": [
        {
          "output_type": "display_data",
          "data": {
            "text/html": [
              "<html>\n",
              "<head><meta charset=\"utf-8\" /></head>\n",
              "<body>\n",
              "    <div>            <script src=\"https://cdnjs.cloudflare.com/ajax/libs/mathjax/2.7.5/MathJax.js?config=TeX-AMS-MML_SVG\"></script><script type=\"text/javascript\">if (window.MathJax) {MathJax.Hub.Config({SVG: {font: \"STIX-Web\"}});}</script>                <script type=\"text/javascript\">window.PlotlyConfig = {MathJaxConfig: 'local'};</script>\n",
              "        <script src=\"https://cdn.plot.ly/plotly-2.8.3.min.js\"></script>                <div id=\"4d57d8ee-004a-493b-8ea8-2b75b2808a73\" class=\"plotly-graph-div\" style=\"height:525px; width:100%;\"></div>            <script type=\"text/javascript\">                                    window.PLOTLYENV=window.PLOTLYENV || {};                                    if (document.getElementById(\"4d57d8ee-004a-493b-8ea8-2b75b2808a73\")) {                    Plotly.newPlot(                        \"4d57d8ee-004a-493b-8ea8-2b75b2808a73\",                        [{\"colorscale\":[[0.0,\"#636efa\"],[1.0,\"#636efa\"]],\"customdata\":[[\"199812341\",155317278,44495063]],\"featureidkey\":\"properties.ST_NM\",\"geo\":\"geo\",\"geojson\":\"https://gist.githubusercontent.com/jbrobst/56c13bbbf9d97d187fea01ca62ea5112/raw/e388c4cae20aa53cb5090210a42ebb9b765c0a36/india_states.geojson\",\"hovertemplate\":\"<b>%{hovertext}</b><br><br>Density=828/km2 (2,140/sq\\u00a0mi)<br>State or union territory=%{location}<br>Population=%{customdata[0]}<br>Rural population=%{customdata[1]}<br>Urban population=%{customdata[2]}<extra></extra>\",\"hovertext\":[\"Uttar Pradesh\"],\"locationmode\":\"geojson-id\",\"locations\":[\"Uttar Pradesh\"],\"name\":\"828/km2 (2,140/sq\\u00a0mi)\",\"showlegend\":true,\"showscale\":false,\"z\":[1],\"type\":\"choropleth\"},{\"colorscale\":[[0.0,\"#EF553B\"],[1.0,\"#EF553B\"]],\"customdata\":[[\"112374333\",61556074,50818259]],\"featureidkey\":\"properties.ST_NM\",\"geo\":\"geo\",\"geojson\":\"https://gist.githubusercontent.com/jbrobst/56c13bbbf9d97d187fea01ca62ea5112/raw/e388c4cae20aa53cb5090210a42ebb9b765c0a36/india_states.geojson\",\"hovertemplate\":\"<b>%{hovertext}</b><br><br>Density=365/km2 (950/sq\\u00a0mi)<br>State or union territory=%{location}<br>Population=%{customdata[0]}<br>Rural population=%{customdata[1]}<br>Urban population=%{customdata[2]}<extra></extra>\",\"hovertext\":[\"Maharashtra\"],\"locationmode\":\"geojson-id\",\"locations\":[\"Maharashtra\"],\"name\":\"365/km2 (950/sq\\u00a0mi)\",\"showlegend\":true,\"showscale\":false,\"z\":[1],\"type\":\"choropleth\"},{\"colorscale\":[[0.0,\"#00cc96\"],[1.0,\"#00cc96\"]],\"customdata\":[[\"104099452\",92341436,11758016]],\"featureidkey\":\"properties.ST_NM\",\"geo\":\"geo\",\"geojson\":\"https://gist.githubusercontent.com/jbrobst/56c13bbbf9d97d187fea01ca62ea5112/raw/e388c4cae20aa53cb5090210a42ebb9b765c0a36/india_states.geojson\",\"hovertemplate\":\"<b>%{hovertext}</b><br><br>Density=1,102/km2 (2,850/sq\\u00a0mi)<br>State or union territory=%{location}<br>Population=%{customdata[0]}<br>Rural population=%{customdata[1]}<br>Urban population=%{customdata[2]}<extra></extra>\",\"hovertext\":[\"Bihar\"],\"locationmode\":\"geojson-id\",\"locations\":[\"Bihar\"],\"name\":\"1,102/km2 (2,850/sq\\u00a0mi)\",\"showlegend\":true,\"showscale\":false,\"z\":[1],\"type\":\"choropleth\"},{\"colorscale\":[[0.0,\"#ab63fa\"],[1.0,\"#ab63fa\"]],\"customdata\":[[\"91276115\",62183113,29093002]],\"featureidkey\":\"properties.ST_NM\",\"geo\":\"geo\",\"geojson\":\"https://gist.githubusercontent.com/jbrobst/56c13bbbf9d97d187fea01ca62ea5112/raw/e388c4cae20aa53cb5090210a42ebb9b765c0a36/india_states.geojson\",\"hovertemplate\":\"<b>%{hovertext}</b><br><br>Density=1,029/km2 (2,670/sq\\u00a0mi)<br>State or union territory=%{location}<br>Population=%{customdata[0]}<br>Rural population=%{customdata[1]}<br>Urban population=%{customdata[2]}<extra></extra>\",\"hovertext\":[\"West Bengal\"],\"locationmode\":\"geojson-id\",\"locations\":[\"West Bengal\"],\"name\":\"1,029/km2 (2,670/sq\\u00a0mi)\",\"showlegend\":true,\"showscale\":false,\"z\":[1],\"type\":\"choropleth\"},{\"colorscale\":[[0.0,\"#FFA15A\"],[1.0,\"#FFA15A\"]],\"customdata\":[[\"72626809\",52557404,20069405]],\"featureidkey\":\"properties.ST_NM\",\"geo\":\"geo\",\"geojson\":\"https://gist.githubusercontent.com/jbrobst/56c13bbbf9d97d187fea01ca62ea5112/raw/e388c4cae20aa53cb5090210a42ebb9b765c0a36/india_states.geojson\",\"hovertemplate\":\"<b>%{hovertext}</b><br><br>Density=236/km2 (610/sq\\u00a0mi)<br>State or union territory=%{location}<br>Population=%{customdata[0]}<br>Rural population=%{customdata[1]}<br>Urban population=%{customdata[2]}<extra></extra>\",\"hovertext\":[\"Madhya Pradesh\"],\"locationmode\":\"geojson-id\",\"locations\":[\"Madhya Pradesh\"],\"name\":\"236/km2 (610/sq\\u00a0mi)\",\"showlegend\":true,\"showscale\":false,\"z\":[1],\"type\":\"choropleth\"},{\"colorscale\":[[0.0,\"#19d3f3\"],[1.0,\"#19d3f3\"]],\"customdata\":[[\"72147030\",37229590,34917440]],\"featureidkey\":\"properties.ST_NM\",\"geo\":\"geo\",\"geojson\":\"https://gist.githubusercontent.com/jbrobst/56c13bbbf9d97d187fea01ca62ea5112/raw/e388c4cae20aa53cb5090210a42ebb9b765c0a36/india_states.geojson\",\"hovertemplate\":\"<b>%{hovertext}</b><br><br>Density=555/km2 (1,440/sq\\u00a0mi)<br>State or union territory=%{location}<br>Population=%{customdata[0]}<br>Rural population=%{customdata[1]}<br>Urban population=%{customdata[2]}<extra></extra>\",\"hovertext\":[\"Tamil Nadu\"],\"locationmode\":\"geojson-id\",\"locations\":[\"Tamil Nadu\"],\"name\":\"555/km2 (1,440/sq\\u00a0mi)\",\"showlegend\":true,\"showscale\":false,\"z\":[1],\"type\":\"choropleth\"},{\"colorscale\":[[0.0,\"#FF6692\"],[1.0,\"#FF6692\"]],\"customdata\":[[\"68548437\",51500352,17048085]],\"featureidkey\":\"properties.ST_NM\",\"geo\":\"geo\",\"geojson\":\"https://gist.githubusercontent.com/jbrobst/56c13bbbf9d97d187fea01ca62ea5112/raw/e388c4cae20aa53cb5090210a42ebb9b765c0a36/india_states.geojson\",\"hovertemplate\":\"<b>%{hovertext}</b><br><br>Density=201/km2 (520/sq\\u00a0mi)<br>State or union territory=%{location}<br>Population=%{customdata[0]}<br>Rural population=%{customdata[1]}<br>Urban population=%{customdata[2]}<extra></extra>\",\"hovertext\":[\"Rajasthan\"],\"locationmode\":\"geojson-id\",\"locations\":[\"Rajasthan\"],\"name\":\"201/km2 (520/sq\\u00a0mi)\",\"showlegend\":true,\"showscale\":false,\"z\":[1],\"type\":\"choropleth\"},{\"colorscale\":[[0.0,\"#B6E880\"],[1.0,\"#B6E880\"]],\"customdata\":[[\"61095297\",30069335,31025962]],\"featureidkey\":\"properties.ST_NM\",\"geo\":\"geo\",\"geojson\":\"https://gist.githubusercontent.com/jbrobst/56c13bbbf9d97d187fea01ca62ea5112/raw/e388c4cae20aa53cb5090210a42ebb9b765c0a36/india_states.geojson\",\"hovertemplate\":\"<b>%{hovertext}</b><br><br>Density=319/km2 (830/sq\\u00a0mi)<br>State or union territory=%{location}<br>Population=%{customdata[0]}<br>Rural population=%{customdata[1]}<br>Urban population=%{customdata[2]}<extra></extra>\",\"hovertext\":[\"Karnataka\"],\"locationmode\":\"geojson-id\",\"locations\":[\"Karnataka\"],\"name\":\"319/km2 (830/sq\\u00a0mi)\",\"showlegend\":true,\"showscale\":false,\"z\":[1],\"type\":\"choropleth\"},{\"colorscale\":[[0.0,\"#FF97FF\"],[1.0,\"#FF97FF\"]],\"customdata\":[[\"60439692\",34694609,25745083]],\"featureidkey\":\"properties.ST_NM\",\"geo\":\"geo\",\"geojson\":\"https://gist.githubusercontent.com/jbrobst/56c13bbbf9d97d187fea01ca62ea5112/raw/e388c4cae20aa53cb5090210a42ebb9b765c0a36/india_states.geojson\",\"hovertemplate\":\"<b>%{hovertext}</b><br><br>Density=308/km2 (800/sq\\u00a0mi)<br>State or union territory=%{location}<br>Population=%{customdata[0]}<br>Rural population=%{customdata[1]}<br>Urban population=%{customdata[2]}<extra></extra>\",\"hovertext\":[\"Gujarat\"],\"locationmode\":\"geojson-id\",\"locations\":[\"Gujarat\"],\"name\":\"308/km2 (800/sq\\u00a0mi)\",\"showlegend\":true,\"showscale\":false,\"z\":[1],\"type\":\"choropleth\"},{\"colorscale\":[[0.0,\"#FECB52\"],[1.0,\"#FECB52\"]],\"customdata\":[[\"49,577,103[b]\",34966693,14610410]],\"featureidkey\":\"properties.ST_NM\",\"geo\":\"geo\",\"geojson\":\"https://gist.githubusercontent.com/jbrobst/56c13bbbf9d97d187fea01ca62ea5112/raw/e388c4cae20aa53cb5090210a42ebb9b765c0a36/india_states.geojson\",\"hovertemplate\":\"<b>%{hovertext}</b><br><br>Density=303/km2 (780/sq\\u00a0mi)<br>State or union territory=%{location}<br>Population=%{customdata[0]}<br>Rural population=%{customdata[1]}<br>Urban population=%{customdata[2]}<extra></extra>\",\"hovertext\":[\"Andhra Pradesh\"],\"locationmode\":\"geojson-id\",\"locations\":[\"Andhra Pradesh\"],\"name\":\"303/km2 (780/sq\\u00a0mi)\",\"showlegend\":true,\"showscale\":false,\"z\":[1],\"type\":\"choropleth\"},{\"colorscale\":[[0.0,\"#636efa\"],[1.0,\"#636efa\"]],\"customdata\":[[\"41974219\",34970562,7003656]],\"featureidkey\":\"properties.ST_NM\",\"geo\":\"geo\",\"geojson\":\"https://gist.githubusercontent.com/jbrobst/56c13bbbf9d97d187fea01ca62ea5112/raw/e388c4cae20aa53cb5090210a42ebb9b765c0a36/india_states.geojson\",\"hovertemplate\":\"<b>%{hovertext}</b><br><br>Density=269/km2 (700/sq\\u00a0mi)<br>State or union territory=%{location}<br>Population=%{customdata[0]}<br>Rural population=%{customdata[1]}<br>Urban population=%{customdata[2]}<extra></extra>\",\"hovertext\":[\"Odisha\"],\"locationmode\":\"geojson-id\",\"locations\":[\"Odisha\"],\"name\":\"269/km2 (700/sq\\u00a0mi)\",\"showlegend\":true,\"showscale\":false,\"z\":[1],\"type\":\"choropleth\"},{\"colorscale\":[[0.0,\"#EF553B\"],[1.0,\"#EF553B\"]],\"customdata\":[[\"35003674\",21395009,13608665]],\"featureidkey\":\"properties.ST_NM\",\"geo\":\"geo\",\"geojson\":\"https://gist.githubusercontent.com/jbrobst/56c13bbbf9d97d187fea01ca62ea5112/raw/e388c4cae20aa53cb5090210a42ebb9b765c0a36/india_states.geojson\",\"hovertemplate\":\"<b>%{hovertext}</b><br><br>Density=312/km2 (810/sq\\u00a0mi)<br>State or union territory=%{location}<br>Population=%{customdata[0]}<br>Rural population=%{customdata[1]}<br>Urban population=%{customdata[2]}<extra></extra>\",\"hovertext\":[\"Telangana\"],\"locationmode\":\"geojson-id\",\"locations\":[\"Telangana\"],\"name\":\"312/km2 (810/sq\\u00a0mi)\",\"showlegend\":true,\"showscale\":false,\"z\":[1],\"type\":\"choropleth\"},{\"colorscale\":[[0.0,\"#00cc96\"],[1.0,\"#00cc96\"]],\"customdata\":[[\"33406061\",17471135,15934926]],\"featureidkey\":\"properties.ST_NM\",\"geo\":\"geo\",\"geojson\":\"https://gist.githubusercontent.com/jbrobst/56c13bbbf9d97d187fea01ca62ea5112/raw/e388c4cae20aa53cb5090210a42ebb9b765c0a36/india_states.geojson\",\"hovertemplate\":\"<b>%{hovertext}</b><br><br>Density=859/km2 (2,220/sq\\u00a0mi)<br>State or union territory=%{location}<br>Population=%{customdata[0]}<br>Rural population=%{customdata[1]}<br>Urban population=%{customdata[2]}<extra></extra>\",\"hovertext\":[\"Kerala\"],\"locationmode\":\"geojson-id\",\"locations\":[\"Kerala\"],\"name\":\"859/km2 (2,220/sq\\u00a0mi)\",\"showlegend\":true,\"showscale\":false,\"z\":[1],\"type\":\"choropleth\"},{\"colorscale\":[[0.0,\"#ab63fa\"],[1.0,\"#ab63fa\"]],\"customdata\":[[\"32988134\",25055073,7933061]],\"featureidkey\":\"properties.ST_NM\",\"geo\":\"geo\",\"geojson\":\"https://gist.githubusercontent.com/jbrobst/56c13bbbf9d97d187fea01ca62ea5112/raw/e388c4cae20aa53cb5090210a42ebb9b765c0a36/india_states.geojson\",\"hovertemplate\":\"<b>%{hovertext}</b><br><br>Density=414/km2 (1,070/sq\\u00a0mi)<br>State or union territory=%{location}<br>Population=%{customdata[0]}<br>Rural population=%{customdata[1]}<br>Urban population=%{customdata[2]}<extra></extra>\",\"hovertext\":[\"Jharkhand\"],\"locationmode\":\"geojson-id\",\"locations\":[\"Jharkhand\"],\"name\":\"414/km2 (1,070/sq\\u00a0mi)\",\"showlegend\":true,\"showscale\":false,\"z\":[1],\"type\":\"choropleth\"},{\"colorscale\":[[0.0,\"#FFA15A\"],[1.0,\"#FFA15A\"]],\"customdata\":[[\"31205576\",26807034,4398542]],\"featureidkey\":\"properties.ST_NM\",\"geo\":\"geo\",\"geojson\":\"https://gist.githubusercontent.com/jbrobst/56c13bbbf9d97d187fea01ca62ea5112/raw/e388c4cae20aa53cb5090210a42ebb9b765c0a36/india_states.geojson\",\"hovertemplate\":\"<b>%{hovertext}</b><br><br>Density=398/km2 (1,030/sq\\u00a0mi)<br>State or union territory=%{location}<br>Population=%{customdata[0]}<br>Rural population=%{customdata[1]}<br>Urban population=%{customdata[2]}<extra></extra>\",\"hovertext\":[\"Assam\"],\"locationmode\":\"geojson-id\",\"locations\":[\"Assam\"],\"name\":\"398/km2 (1,030/sq\\u00a0mi)\",\"showlegend\":true,\"showscale\":false,\"z\":[1],\"type\":\"choropleth\"},{\"colorscale\":[[0.0,\"#19d3f3\"],[1.0,\"#19d3f3\"]],\"customdata\":[[\"27743338\",17344192,10399146]],\"featureidkey\":\"properties.ST_NM\",\"geo\":\"geo\",\"geojson\":\"https://gist.githubusercontent.com/jbrobst/56c13bbbf9d97d187fea01ca62ea5112/raw/e388c4cae20aa53cb5090210a42ebb9b765c0a36/india_states.geojson\",\"hovertemplate\":\"<b>%{hovertext}</b><br><br>Density=551/km2 (1,430/sq\\u00a0mi)<br>State or union territory=%{location}<br>Population=%{customdata[0]}<br>Rural population=%{customdata[1]}<br>Urban population=%{customdata[2]}<extra></extra>\",\"hovertext\":[\"Punjab\"],\"locationmode\":\"geojson-id\",\"locations\":[\"Punjab\"],\"name\":\"551/km2 (1,430/sq\\u00a0mi)\",\"showlegend\":true,\"showscale\":false,\"z\":[1],\"type\":\"choropleth\"},{\"colorscale\":[[0.0,\"#FF6692\"],[1.0,\"#FF6692\"]],\"customdata\":[[\"25545198\",19607961,5937237],[\"10086292\",7036954,3049338]],\"featureidkey\":\"properties.ST_NM\",\"geo\":\"geo\",\"geojson\":\"https://gist.githubusercontent.com/jbrobst/56c13bbbf9d97d187fea01ca62ea5112/raw/e388c4cae20aa53cb5090210a42ebb9b765c0a36/india_states.geojson\",\"hovertemplate\":\"<b>%{hovertext}</b><br><br>Density=189/km2 (490/sq\\u00a0mi)<br>State or union territory=%{location}<br>Population=%{customdata[0]}<br>Rural population=%{customdata[1]}<br>Urban population=%{customdata[2]}<extra></extra>\",\"hovertext\":[\"Chhattisgarh\",\"Uttarakhand\"],\"locationmode\":\"geojson-id\",\"locations\":[\"Chhattisgarh\",\"Uttarakhand\"],\"name\":\"189/km2 (490/sq\\u00a0mi)\",\"showlegend\":true,\"showscale\":false,\"z\":[1,1],\"type\":\"choropleth\"},{\"colorscale\":[[0.0,\"#B6E880\"],[1.0,\"#B6E880\"]],\"customdata\":[[\"25351462\",16509359,8842103]],\"featureidkey\":\"properties.ST_NM\",\"geo\":\"geo\",\"geojson\":\"https://gist.githubusercontent.com/jbrobst/56c13bbbf9d97d187fea01ca62ea5112/raw/e388c4cae20aa53cb5090210a42ebb9b765c0a36/india_states.geojson\",\"hovertemplate\":\"<b>%{hovertext}</b><br><br>Density=573/km2 (1,480/sq\\u00a0mi)<br>State or union territory=%{location}<br>Population=%{customdata[0]}<br>Rural population=%{customdata[1]}<br>Urban population=%{customdata[2]}<extra></extra>\",\"hovertext\":[\"Haryana\"],\"locationmode\":\"geojson-id\",\"locations\":[\"Haryana\"],\"name\":\"573/km2 (1,480/sq\\u00a0mi)\",\"showlegend\":true,\"showscale\":false,\"z\":[1],\"type\":\"choropleth\"},{\"colorscale\":[[0.0,\"#FF97FF\"],[1.0,\"#FF97FF\"]],\"customdata\":[[\"16787941\",419042,16368899]],\"featureidkey\":\"properties.ST_NM\",\"geo\":\"geo\",\"geojson\":\"https://gist.githubusercontent.com/jbrobst/56c13bbbf9d97d187fea01ca62ea5112/raw/e388c4cae20aa53cb5090210a42ebb9b765c0a36/india_states.geojson\",\"hovertemplate\":\"<b>%{hovertext}</b><br><br>Density=11,297/km2 (29,260/sq\\u00a0mi)<br>State or union territory=%{location}<br>Population=%{customdata[0]}<br>Rural population=%{customdata[1]}<br>Urban population=%{customdata[2]}<extra></extra>\",\"hovertext\":[\"NCT of Delhi\"],\"locationmode\":\"geojson-id\",\"locations\":[\"NCT of Delhi\"],\"name\":\"11,297/km2 (29,260/sq\\u00a0mi)\",\"showlegend\":true,\"showscale\":false,\"z\":[1],\"type\":\"choropleth\"},{\"colorscale\":[[0.0,\"#FECB52\"],[1.0,\"#FECB52\"]],\"customdata\":[[\"12267032\",9064220,3202812]],\"featureidkey\":\"properties.ST_NM\",\"geo\":\"geo\",\"geojson\":\"https://gist.githubusercontent.com/jbrobst/56c13bbbf9d97d187fea01ca62ea5112/raw/e388c4cae20aa53cb5090210a42ebb9b765c0a36/india_states.geojson\",\"hovertemplate\":\"<b>%{hovertext}</b><br><br>Density=297/km2 (770/sq\\u00a0mi)<br>State or union territory=%{location}<br>Population=%{customdata[0]}<br>Rural population=%{customdata[1]}<br>Urban population=%{customdata[2]}<extra></extra>\",\"hovertext\":[\"Jammu and Kashmir\"],\"locationmode\":\"geojson-id\",\"locations\":[\"Jammu and Kashmir\"],\"name\":\"297/km2 (770/sq\\u00a0mi)\",\"showlegend\":true,\"showscale\":false,\"z\":[1],\"type\":\"choropleth\"},{\"colorscale\":[[0.0,\"#636efa\"],[1.0,\"#636efa\"]],\"customdata\":[[\"6864602\",6176050,688552]],\"featureidkey\":\"properties.ST_NM\",\"geo\":\"geo\",\"geojson\":\"https://gist.githubusercontent.com/jbrobst/56c13bbbf9d97d187fea01ca62ea5112/raw/e388c4cae20aa53cb5090210a42ebb9b765c0a36/india_states.geojson\",\"hovertemplate\":\"<b>%{hovertext}</b><br><br>Density=123/km2 (320/sq\\u00a0mi)<br>State or union territory=%{location}<br>Population=%{customdata[0]}<br>Rural population=%{customdata[1]}<br>Urban population=%{customdata[2]}<extra></extra>\",\"hovertext\":[\"Himachal Pradesh\"],\"locationmode\":\"geojson-id\",\"locations\":[\"Himachal Pradesh\"],\"name\":\"123/km2 (320/sq\\u00a0mi)\",\"showlegend\":true,\"showscale\":false,\"z\":[1],\"type\":\"choropleth\"},{\"colorscale\":[[0.0,\"#EF553B\"],[1.0,\"#EF553B\"]],\"customdata\":[[\"3673917\",2712464,961453]],\"featureidkey\":\"properties.ST_NM\",\"geo\":\"geo\",\"geojson\":\"https://gist.githubusercontent.com/jbrobst/56c13bbbf9d97d187fea01ca62ea5112/raw/e388c4cae20aa53cb5090210a42ebb9b765c0a36/india_states.geojson\",\"hovertemplate\":\"<b>%{hovertext}</b><br><br>Density=350/km2 (910/sq\\u00a0mi)<br>State or union territory=%{location}<br>Population=%{customdata[0]}<br>Rural population=%{customdata[1]}<br>Urban population=%{customdata[2]}<extra></extra>\",\"hovertext\":[\"Tripura\"],\"locationmode\":\"geojson-id\",\"locations\":[\"Tripura\"],\"name\":\"350/km2 (910/sq\\u00a0mi)\",\"showlegend\":true,\"showscale\":false,\"z\":[1],\"type\":\"choropleth\"},{\"colorscale\":[[0.0,\"#00cc96\"],[1.0,\"#00cc96\"]],\"customdata\":[[\"2966889\",2371439,595450]],\"featureidkey\":\"properties.ST_NM\",\"geo\":\"geo\",\"geojson\":\"https://gist.githubusercontent.com/jbrobst/56c13bbbf9d97d187fea01ca62ea5112/raw/e388c4cae20aa53cb5090210a42ebb9b765c0a36/india_states.geojson\",\"hovertemplate\":\"<b>%{hovertext}</b><br><br>Density=132/km2 (340/sq\\u00a0mi)<br>State or union territory=%{location}<br>Population=%{customdata[0]}<br>Rural population=%{customdata[1]}<br>Urban population=%{customdata[2]}<extra></extra>\",\"hovertext\":[\"Meghalaya\"],\"locationmode\":\"geojson-id\",\"locations\":[\"Meghalaya\"],\"name\":\"132/km2 (340/sq\\u00a0mi)\",\"showlegend\":true,\"showscale\":false,\"z\":[1],\"type\":\"choropleth\"},{\"colorscale\":[[0.0,\"#ab63fa\"],[1.0,\"#ab63fa\"]],\"customdata\":[[\"2570390\",1793875,776515]],\"featureidkey\":\"properties.ST_NM\",\"geo\":\"geo\",\"geojson\":\"https://gist.githubusercontent.com/jbrobst/56c13bbbf9d97d187fea01ca62ea5112/raw/e388c4cae20aa53cb5090210a42ebb9b765c0a36/india_states.geojson\",\"hovertemplate\":\"<b>%{hovertext}</b><br><br>Density=122/km2 (320/sq\\u00a0mi)<br>State or union territory=%{location}<br>Population=%{customdata[0]}<br>Rural population=%{customdata[1]}<br>Urban population=%{customdata[2]}<extra></extra>\",\"hovertext\":[\"Manipur[d]\"],\"locationmode\":\"geojson-id\",\"locations\":[\"Manipur[d]\"],\"name\":\"122/km2 (320/sq\\u00a0mi)\",\"showlegend\":true,\"showscale\":false,\"z\":[1],\"type\":\"choropleth\"},{\"colorscale\":[[0.0,\"#FFA15A\"],[1.0,\"#FFA15A\"]],\"customdata\":[[\"1978502\",1407536,570966]],\"featureidkey\":\"properties.ST_NM\",\"geo\":\"geo\",\"geojson\":\"https://gist.githubusercontent.com/jbrobst/56c13bbbf9d97d187fea01ca62ea5112/raw/e388c4cae20aa53cb5090210a42ebb9b765c0a36/india_states.geojson\",\"hovertemplate\":\"<b>%{hovertext}</b><br><br>Density=119/km2 (310/sq\\u00a0mi)<br>State or union territory=%{location}<br>Population=%{customdata[0]}<br>Rural population=%{customdata[1]}<br>Urban population=%{customdata[2]}<extra></extra>\",\"hovertext\":[\"Nagaland\"],\"locationmode\":\"geojson-id\",\"locations\":[\"Nagaland\"],\"name\":\"119/km2 (310/sq\\u00a0mi)\",\"showlegend\":true,\"showscale\":false,\"z\":[1],\"type\":\"choropleth\"},{\"colorscale\":[[0.0,\"#19d3f3\"],[1.0,\"#19d3f3\"]],\"customdata\":[[\"1458545\",551731,906814]],\"featureidkey\":\"properties.ST_NM\",\"geo\":\"geo\",\"geojson\":\"https://gist.githubusercontent.com/jbrobst/56c13bbbf9d97d187fea01ca62ea5112/raw/e388c4cae20aa53cb5090210a42ebb9b765c0a36/india_states.geojson\",\"hovertemplate\":\"<b>%{hovertext}</b><br><br>Density=394/km2 (1,020/sq\\u00a0mi)<br>State or union territory=%{location}<br>Population=%{customdata[0]}<br>Rural population=%{customdata[1]}<br>Urban population=%{customdata[2]}<extra></extra>\",\"hovertext\":[\"Goa\"],\"locationmode\":\"geojson-id\",\"locations\":[\"Goa\"],\"name\":\"394/km2 (1,020/sq\\u00a0mi)\",\"showlegend\":true,\"showscale\":false,\"z\":[1],\"type\":\"choropleth\"},{\"colorscale\":[[0.0,\"#FF6692\"],[1.0,\"#FF6692\"]],\"customdata\":[[\"1383727\",1066358,317369]],\"featureidkey\":\"properties.ST_NM\",\"geo\":\"geo\",\"geojson\":\"https://gist.githubusercontent.com/jbrobst/56c13bbbf9d97d187fea01ca62ea5112/raw/e388c4cae20aa53cb5090210a42ebb9b765c0a36/india_states.geojson\",\"hovertemplate\":\"<b>%{hovertext}</b><br><br>Density=17/km2 (44/sq\\u00a0mi)<br>State or union territory=%{location}<br>Population=%{customdata[0]}<br>Rural population=%{customdata[1]}<br>Urban population=%{customdata[2]}<extra></extra>\",\"hovertext\":[\"Arunachal Pradesh\"],\"locationmode\":\"geojson-id\",\"locations\":[\"Arunachal Pradesh\"],\"name\":\"17/km2 (44/sq\\u00a0mi)\",\"showlegend\":true,\"showscale\":false,\"z\":[1],\"type\":\"choropleth\"},{\"colorscale\":[[0.0,\"#B6E880\"],[1.0,\"#B6E880\"]],\"customdata\":[[\"1247953\",395200,852753]],\"featureidkey\":\"properties.ST_NM\",\"geo\":\"geo\",\"geojson\":\"https://gist.githubusercontent.com/jbrobst/56c13bbbf9d97d187fea01ca62ea5112/raw/e388c4cae20aa53cb5090210a42ebb9b765c0a36/india_states.geojson\",\"hovertemplate\":\"<b>%{hovertext}</b><br><br>Density=2,598/km2 (6,730/sq\\u00a0mi)<br>State or union territory=%{location}<br>Population=%{customdata[0]}<br>Rural population=%{customdata[1]}<br>Urban population=%{customdata[2]}<extra></extra>\",\"hovertext\":[\"Puducherry\"],\"locationmode\":\"geojson-id\",\"locations\":[\"Puducherry\"],\"name\":\"2,598/km2 (6,730/sq\\u00a0mi)\",\"showlegend\":true,\"showscale\":false,\"z\":[1],\"type\":\"choropleth\"},{\"colorscale\":[[0.0,\"#FF97FF\"],[1.0,\"#FF97FF\"]],\"customdata\":[[\"1097206\",525435,571771]],\"featureidkey\":\"properties.ST_NM\",\"geo\":\"geo\",\"geojson\":\"https://gist.githubusercontent.com/jbrobst/56c13bbbf9d97d187fea01ca62ea5112/raw/e388c4cae20aa53cb5090210a42ebb9b765c0a36/india_states.geojson\",\"hovertemplate\":\"<b>%{hovertext}</b><br><br>Density=52/km2 (130/sq\\u00a0mi)<br>State or union territory=%{location}<br>Population=%{customdata[0]}<br>Rural population=%{customdata[1]}<br>Urban population=%{customdata[2]}<extra></extra>\",\"hovertext\":[\"Mizoram\"],\"locationmode\":\"geojson-id\",\"locations\":[\"Mizoram\"],\"name\":\"52/km2 (130/sq\\u00a0mi)\",\"showlegend\":true,\"showscale\":false,\"z\":[1],\"type\":\"choropleth\"},{\"colorscale\":[[0.0,\"#FECB52\"],[1.0,\"#FECB52\"]],\"customdata\":[[\"1,055,450 (estimated)\",28991,1026459]],\"featureidkey\":\"properties.ST_NM\",\"geo\":\"geo\",\"geojson\":\"https://gist.githubusercontent.com/jbrobst/56c13bbbf9d97d187fea01ca62ea5112/raw/e388c4cae20aa53cb5090210a42ebb9b765c0a36/india_states.geojson\",\"hovertemplate\":\"<b>%{hovertext}</b><br><br>Density=9,252/km2 (23,960/sq\\u00a0mi)<br>State or union territory=%{location}<br>Population=%{customdata[0]}<br>Rural population=%{customdata[1]}<br>Urban population=%{customdata[2]}<extra></extra>\",\"hovertext\":[\"Chandigarh\"],\"locationmode\":\"geojson-id\",\"locations\":[\"Chandigarh\"],\"name\":\"9,252/km2 (23,960/sq\\u00a0mi)\",\"showlegend\":true,\"showscale\":false,\"z\":[1],\"type\":\"choropleth\"},{\"colorscale\":[[0.0,\"#636efa\"],[1.0,\"#636efa\"]],\"customdata\":[[\"610,577 (estimated)\",456999,153578]],\"featureidkey\":\"properties.ST_NM\",\"geo\":\"geo\",\"geojson\":\"https://gist.githubusercontent.com/jbrobst/56c13bbbf9d97d187fea01ca62ea5112/raw/e388c4cae20aa53cb5090210a42ebb9b765c0a36/india_states.geojson\",\"hovertemplate\":\"<b>%{hovertext}</b><br><br>Density=86/km2 (220/sq\\u00a0mi)<br>State or union territory=%{location}<br>Population=%{customdata[0]}<br>Rural population=%{customdata[1]}<br>Urban population=%{customdata[2]}<extra></extra>\",\"hovertext\":[\"Sikkim\"],\"locationmode\":\"geojson-id\",\"locations\":[\"Sikkim\"],\"name\":\"86/km2 (220/sq\\u00a0mi)\",\"showlegend\":true,\"showscale\":false,\"z\":[1],\"type\":\"choropleth\"},{\"colorscale\":[[0.0,\"#EF553B\"],[1.0,\"#EF553B\"]],\"customdata\":[[\"585764\",243510,342254]],\"featureidkey\":\"properties.ST_NM\",\"geo\":\"geo\",\"geojson\":\"https://gist.githubusercontent.com/jbrobst/56c13bbbf9d97d187fea01ca62ea5112/raw/e388c4cae20aa53cb5090210a42ebb9b765c0a36/india_states.geojson\",\"hovertemplate\":\"<b>%{hovertext}</b><br><br>Density=970/km2 (2,500/sq\\u00a0mi)<br>State or union territory=%{location}<br>Population=%{customdata[0]}<br>Rural population=%{customdata[1]}<br>Urban population=%{customdata[2]}<extra></extra>\",\"hovertext\":[\"Dadra and Nagar Haveli and Daman and Diu\"],\"locationmode\":\"geojson-id\",\"locations\":[\"Dadra and Nagar Haveli and Daman and Diu\"],\"name\":\"970/km2 (2,500/sq\\u00a0mi)\",\"showlegend\":true,\"showscale\":false,\"z\":[1],\"type\":\"choropleth\"},{\"colorscale\":[[0.0,\"#00cc96\"],[1.0,\"#00cc96\"]],\"customdata\":[[\"380581\",237093,143488]],\"featureidkey\":\"properties.ST_NM\",\"geo\":\"geo\",\"geojson\":\"https://gist.githubusercontent.com/jbrobst/56c13bbbf9d97d187fea01ca62ea5112/raw/e388c4cae20aa53cb5090210a42ebb9b765c0a36/india_states.geojson\",\"hovertemplate\":\"<b>%{hovertext}</b><br><br>Density=46/km2 (120/sq\\u00a0mi)<br>State or union territory=%{location}<br>Population=%{customdata[0]}<br>Rural population=%{customdata[1]}<br>Urban population=%{customdata[2]}<extra></extra>\",\"hovertext\":[\"Andaman and Nicobar Islands\"],\"locationmode\":\"geojson-id\",\"locations\":[\"Andaman and Nicobar Islands\"],\"name\":\"46/km2 (120/sq\\u00a0mi)\",\"showlegend\":true,\"showscale\":false,\"z\":[1],\"type\":\"choropleth\"},{\"colorscale\":[[0.0,\"#ab63fa\"],[1.0,\"#ab63fa\"]],\"customdata\":[[\"274000\",43840,230160]],\"featureidkey\":\"properties.ST_NM\",\"geo\":\"geo\",\"geojson\":\"https://gist.githubusercontent.com/jbrobst/56c13bbbf9d97d187fea01ca62ea5112/raw/e388c4cae20aa53cb5090210a42ebb9b765c0a36/india_states.geojson\",\"hovertemplate\":\"<b>%{hovertext}</b><br><br>Density=2.8/km2 (7.3/sq\\u00a0mi)<br>State or union territory=%{location}<br>Population=%{customdata[0]}<br>Rural population=%{customdata[1]}<br>Urban population=%{customdata[2]}<extra></extra>\",\"hovertext\":[\"Ladakh\"],\"locationmode\":\"geojson-id\",\"locations\":[\"Ladakh\"],\"name\":\"2.8/km2 (7.3/sq\\u00a0mi)\",\"showlegend\":true,\"showscale\":false,\"z\":[1],\"type\":\"choropleth\"},{\"colorscale\":[[0.0,\"#FFA15A\"],[1.0,\"#FFA15A\"]],\"customdata\":[[\"64473\",14141,50332]],\"featureidkey\":\"properties.ST_NM\",\"geo\":\"geo\",\"geojson\":\"https://gist.githubusercontent.com/jbrobst/56c13bbbf9d97d187fea01ca62ea5112/raw/e388c4cae20aa53cb5090210a42ebb9b765c0a36/india_states.geojson\",\"hovertemplate\":\"<b>%{hovertext}</b><br><br>Density=2,013/km2 (5,210/sq\\u00a0mi)<br>State or union territory=%{location}<br>Population=%{customdata[0]}<br>Rural population=%{customdata[1]}<br>Urban population=%{customdata[2]}<extra></extra>\",\"hovertext\":[\"Lakshadweep\"],\"locationmode\":\"geojson-id\",\"locations\":[\"Lakshadweep\"],\"name\":\"2,013/km2 (5,210/sq\\u00a0mi)\",\"showlegend\":true,\"showscale\":false,\"z\":[1],\"type\":\"choropleth\"},{\"colorscale\":[[0.0,\"#19d3f3\"],[1.0,\"#19d3f3\"]],\"customdata\":[[\"1210569573\",833463448,377106125]],\"featureidkey\":\"properties.ST_NM\",\"geo\":\"geo\",\"geojson\":\"https://gist.githubusercontent.com/jbrobst/56c13bbbf9d97d187fea01ca62ea5112/raw/e388c4cae20aa53cb5090210a42ebb9b765c0a36/india_states.geojson\",\"hovertemplate\":\"<b>%{hovertext}</b><br><br>Density=382/km2 (990/sq\\u00a0mi)<br>State or union territory=%{location}<br>Population=%{customdata[0]}<br>Rural population=%{customdata[1]}<br>Urban population=%{customdata[2]}<extra></extra>\",\"hovertext\":[\"India\"],\"locationmode\":\"geojson-id\",\"locations\":[\"India\"],\"name\":\"382/km2 (990/sq\\u00a0mi)\",\"showlegend\":true,\"showscale\":false,\"z\":[1],\"type\":\"choropleth\"}],                        {\"template\":{\"data\":{\"bar\":[{\"error_x\":{\"color\":\"#2a3f5f\"},\"error_y\":{\"color\":\"#2a3f5f\"},\"marker\":{\"line\":{\"color\":\"#E5ECF6\",\"width\":0.5},\"pattern\":{\"fillmode\":\"overlay\",\"size\":10,\"solidity\":0.2}},\"type\":\"bar\"}],\"barpolar\":[{\"marker\":{\"line\":{\"color\":\"#E5ECF6\",\"width\":0.5},\"pattern\":{\"fillmode\":\"overlay\",\"size\":10,\"solidity\":0.2}},\"type\":\"barpolar\"}],\"carpet\":[{\"aaxis\":{\"endlinecolor\":\"#2a3f5f\",\"gridcolor\":\"white\",\"linecolor\":\"white\",\"minorgridcolor\":\"white\",\"startlinecolor\":\"#2a3f5f\"},\"baxis\":{\"endlinecolor\":\"#2a3f5f\",\"gridcolor\":\"white\",\"linecolor\":\"white\",\"minorgridcolor\":\"white\",\"startlinecolor\":\"#2a3f5f\"},\"type\":\"carpet\"}],\"choropleth\":[{\"colorbar\":{\"outlinewidth\":0,\"ticks\":\"\"},\"type\":\"choropleth\"}],\"contour\":[{\"colorbar\":{\"outlinewidth\":0,\"ticks\":\"\"},\"colorscale\":[[0.0,\"#0d0887\"],[0.1111111111111111,\"#46039f\"],[0.2222222222222222,\"#7201a8\"],[0.3333333333333333,\"#9c179e\"],[0.4444444444444444,\"#bd3786\"],[0.5555555555555556,\"#d8576b\"],[0.6666666666666666,\"#ed7953\"],[0.7777777777777778,\"#fb9f3a\"],[0.8888888888888888,\"#fdca26\"],[1.0,\"#f0f921\"]],\"type\":\"contour\"}],\"contourcarpet\":[{\"colorbar\":{\"outlinewidth\":0,\"ticks\":\"\"},\"type\":\"contourcarpet\"}],\"heatmap\":[{\"colorbar\":{\"outlinewidth\":0,\"ticks\":\"\"},\"colorscale\":[[0.0,\"#0d0887\"],[0.1111111111111111,\"#46039f\"],[0.2222222222222222,\"#7201a8\"],[0.3333333333333333,\"#9c179e\"],[0.4444444444444444,\"#bd3786\"],[0.5555555555555556,\"#d8576b\"],[0.6666666666666666,\"#ed7953\"],[0.7777777777777778,\"#fb9f3a\"],[0.8888888888888888,\"#fdca26\"],[1.0,\"#f0f921\"]],\"type\":\"heatmap\"}],\"heatmapgl\":[{\"colorbar\":{\"outlinewidth\":0,\"ticks\":\"\"},\"colorscale\":[[0.0,\"#0d0887\"],[0.1111111111111111,\"#46039f\"],[0.2222222222222222,\"#7201a8\"],[0.3333333333333333,\"#9c179e\"],[0.4444444444444444,\"#bd3786\"],[0.5555555555555556,\"#d8576b\"],[0.6666666666666666,\"#ed7953\"],[0.7777777777777778,\"#fb9f3a\"],[0.8888888888888888,\"#fdca26\"],[1.0,\"#f0f921\"]],\"type\":\"heatmapgl\"}],\"histogram\":[{\"marker\":{\"pattern\":{\"fillmode\":\"overlay\",\"size\":10,\"solidity\":0.2}},\"type\":\"histogram\"}],\"histogram2d\":[{\"colorbar\":{\"outlinewidth\":0,\"ticks\":\"\"},\"colorscale\":[[0.0,\"#0d0887\"],[0.1111111111111111,\"#46039f\"],[0.2222222222222222,\"#7201a8\"],[0.3333333333333333,\"#9c179e\"],[0.4444444444444444,\"#bd3786\"],[0.5555555555555556,\"#d8576b\"],[0.6666666666666666,\"#ed7953\"],[0.7777777777777778,\"#fb9f3a\"],[0.8888888888888888,\"#fdca26\"],[1.0,\"#f0f921\"]],\"type\":\"histogram2d\"}],\"histogram2dcontour\":[{\"colorbar\":{\"outlinewidth\":0,\"ticks\":\"\"},\"colorscale\":[[0.0,\"#0d0887\"],[0.1111111111111111,\"#46039f\"],[0.2222222222222222,\"#7201a8\"],[0.3333333333333333,\"#9c179e\"],[0.4444444444444444,\"#bd3786\"],[0.5555555555555556,\"#d8576b\"],[0.6666666666666666,\"#ed7953\"],[0.7777777777777778,\"#fb9f3a\"],[0.8888888888888888,\"#fdca26\"],[1.0,\"#f0f921\"]],\"type\":\"histogram2dcontour\"}],\"mesh3d\":[{\"colorbar\":{\"outlinewidth\":0,\"ticks\":\"\"},\"type\":\"mesh3d\"}],\"parcoords\":[{\"line\":{\"colorbar\":{\"outlinewidth\":0,\"ticks\":\"\"}},\"type\":\"parcoords\"}],\"pie\":[{\"automargin\":true,\"type\":\"pie\"}],\"scatter\":[{\"marker\":{\"colorbar\":{\"outlinewidth\":0,\"ticks\":\"\"}},\"type\":\"scatter\"}],\"scatter3d\":[{\"line\":{\"colorbar\":{\"outlinewidth\":0,\"ticks\":\"\"}},\"marker\":{\"colorbar\":{\"outlinewidth\":0,\"ticks\":\"\"}},\"type\":\"scatter3d\"}],\"scattercarpet\":[{\"marker\":{\"colorbar\":{\"outlinewidth\":0,\"ticks\":\"\"}},\"type\":\"scattercarpet\"}],\"scattergeo\":[{\"marker\":{\"colorbar\":{\"outlinewidth\":0,\"ticks\":\"\"}},\"type\":\"scattergeo\"}],\"scattergl\":[{\"marker\":{\"colorbar\":{\"outlinewidth\":0,\"ticks\":\"\"}},\"type\":\"scattergl\"}],\"scattermapbox\":[{\"marker\":{\"colorbar\":{\"outlinewidth\":0,\"ticks\":\"\"}},\"type\":\"scattermapbox\"}],\"scatterpolar\":[{\"marker\":{\"colorbar\":{\"outlinewidth\":0,\"ticks\":\"\"}},\"type\":\"scatterpolar\"}],\"scatterpolargl\":[{\"marker\":{\"colorbar\":{\"outlinewidth\":0,\"ticks\":\"\"}},\"type\":\"scatterpolargl\"}],\"scatterternary\":[{\"marker\":{\"colorbar\":{\"outlinewidth\":0,\"ticks\":\"\"}},\"type\":\"scatterternary\"}],\"surface\":[{\"colorbar\":{\"outlinewidth\":0,\"ticks\":\"\"},\"colorscale\":[[0.0,\"#0d0887\"],[0.1111111111111111,\"#46039f\"],[0.2222222222222222,\"#7201a8\"],[0.3333333333333333,\"#9c179e\"],[0.4444444444444444,\"#bd3786\"],[0.5555555555555556,\"#d8576b\"],[0.6666666666666666,\"#ed7953\"],[0.7777777777777778,\"#fb9f3a\"],[0.8888888888888888,\"#fdca26\"],[1.0,\"#f0f921\"]],\"type\":\"surface\"}],\"table\":[{\"cells\":{\"fill\":{\"color\":\"#EBF0F8\"},\"line\":{\"color\":\"white\"}},\"header\":{\"fill\":{\"color\":\"#C8D4E3\"},\"line\":{\"color\":\"white\"}},\"type\":\"table\"}]},\"layout\":{\"annotationdefaults\":{\"arrowcolor\":\"#2a3f5f\",\"arrowhead\":0,\"arrowwidth\":1},\"autotypenumbers\":\"strict\",\"coloraxis\":{\"colorbar\":{\"outlinewidth\":0,\"ticks\":\"\"}},\"colorscale\":{\"diverging\":[[0,\"#8e0152\"],[0.1,\"#c51b7d\"],[0.2,\"#de77ae\"],[0.3,\"#f1b6da\"],[0.4,\"#fde0ef\"],[0.5,\"#f7f7f7\"],[0.6,\"#e6f5d0\"],[0.7,\"#b8e186\"],[0.8,\"#7fbc41\"],[0.9,\"#4d9221\"],[1,\"#276419\"]],\"sequential\":[[0.0,\"#0d0887\"],[0.1111111111111111,\"#46039f\"],[0.2222222222222222,\"#7201a8\"],[0.3333333333333333,\"#9c179e\"],[0.4444444444444444,\"#bd3786\"],[0.5555555555555556,\"#d8576b\"],[0.6666666666666666,\"#ed7953\"],[0.7777777777777778,\"#fb9f3a\"],[0.8888888888888888,\"#fdca26\"],[1.0,\"#f0f921\"]],\"sequentialminus\":[[0.0,\"#0d0887\"],[0.1111111111111111,\"#46039f\"],[0.2222222222222222,\"#7201a8\"],[0.3333333333333333,\"#9c179e\"],[0.4444444444444444,\"#bd3786\"],[0.5555555555555556,\"#d8576b\"],[0.6666666666666666,\"#ed7953\"],[0.7777777777777778,\"#fb9f3a\"],[0.8888888888888888,\"#fdca26\"],[1.0,\"#f0f921\"]]},\"colorway\":[\"#636efa\",\"#EF553B\",\"#00cc96\",\"#ab63fa\",\"#FFA15A\",\"#19d3f3\",\"#FF6692\",\"#B6E880\",\"#FF97FF\",\"#FECB52\"],\"font\":{\"color\":\"#2a3f5f\"},\"geo\":{\"bgcolor\":\"white\",\"lakecolor\":\"white\",\"landcolor\":\"#E5ECF6\",\"showlakes\":true,\"showland\":true,\"subunitcolor\":\"white\"},\"hoverlabel\":{\"align\":\"left\"},\"hovermode\":\"closest\",\"mapbox\":{\"style\":\"light\"},\"paper_bgcolor\":\"white\",\"plot_bgcolor\":\"#E5ECF6\",\"polar\":{\"angularaxis\":{\"gridcolor\":\"white\",\"linecolor\":\"white\",\"ticks\":\"\"},\"bgcolor\":\"#E5ECF6\",\"radialaxis\":{\"gridcolor\":\"white\",\"linecolor\":\"white\",\"ticks\":\"\"}},\"scene\":{\"xaxis\":{\"backgroundcolor\":\"#E5ECF6\",\"gridcolor\":\"white\",\"gridwidth\":2,\"linecolor\":\"white\",\"showbackground\":true,\"ticks\":\"\",\"zerolinecolor\":\"white\"},\"yaxis\":{\"backgroundcolor\":\"#E5ECF6\",\"gridcolor\":\"white\",\"gridwidth\":2,\"linecolor\":\"white\",\"showbackground\":true,\"ticks\":\"\",\"zerolinecolor\":\"white\"},\"zaxis\":{\"backgroundcolor\":\"#E5ECF6\",\"gridcolor\":\"white\",\"gridwidth\":2,\"linecolor\":\"white\",\"showbackground\":true,\"ticks\":\"\",\"zerolinecolor\":\"white\"}},\"shapedefaults\":{\"line\":{\"color\":\"#2a3f5f\"}},\"ternary\":{\"aaxis\":{\"gridcolor\":\"white\",\"linecolor\":\"white\",\"ticks\":\"\"},\"baxis\":{\"gridcolor\":\"white\",\"linecolor\":\"white\",\"ticks\":\"\"},\"bgcolor\":\"#E5ECF6\",\"caxis\":{\"gridcolor\":\"white\",\"linecolor\":\"white\",\"ticks\":\"\"}},\"title\":{\"x\":0.05},\"xaxis\":{\"automargin\":true,\"gridcolor\":\"white\",\"linecolor\":\"white\",\"ticks\":\"\",\"title\":{\"standoff\":15},\"zerolinecolor\":\"white\",\"zerolinewidth\":2},\"yaxis\":{\"automargin\":true,\"gridcolor\":\"white\",\"linecolor\":\"white\",\"ticks\":\"\",\"title\":{\"standoff\":15},\"zerolinecolor\":\"white\",\"zerolinewidth\":2}}},\"geo\":{\"domain\":{\"x\":[0.0,1.0],\"y\":[0.0,1.0]},\"center\":{},\"fitbounds\":\"locations\",\"visible\":false},\"legend\":{\"title\":{\"text\":\"Density\"},\"tracegroupgap\":0},\"title\":{\"text\":\"India Population Density\"}},                        {\"responsive\": true}                    ).then(function(){\n",
              "                            \n",
              "var gd = document.getElementById('4d57d8ee-004a-493b-8ea8-2b75b2808a73');\n",
              "var x = new MutationObserver(function (mutations, observer) {{\n",
              "        var display = window.getComputedStyle(gd).display;\n",
              "        if (!display || display === 'none') {{\n",
              "            console.log([gd, 'removed!']);\n",
              "            Plotly.purge(gd);\n",
              "            observer.disconnect();\n",
              "        }}\n",
              "}});\n",
              "\n",
              "// Listen for the removal of the full notebook cells\n",
              "var notebookContainer = gd.closest('#notebook-container');\n",
              "if (notebookContainer) {{\n",
              "    x.observe(notebookContainer, {childList: true});\n",
              "}}\n",
              "\n",
              "// Listen for the clearing of the current output cell\n",
              "var outputEl = gd.closest('.output');\n",
              "if (outputEl) {{\n",
              "    x.observe(outputEl, {childList: true});\n",
              "}}\n",
              "\n",
              "                        })                };                            </script>        </div>\n",
              "</body>\n",
              "</html>"
            ]
          },
          "metadata": {}
        }
      ]
    },
    {
      "cell_type": "code",
      "source": [
        ""
      ],
      "metadata": {
        "id": "I-a8W6C0POej"
      },
      "execution_count": null,
      "outputs": []
    },
    {
      "cell_type": "code",
      "source": [
        ""
      ],
      "metadata": {
        "id": "JY6ZkMEUY7hh"
      },
      "execution_count": null,
      "outputs": []
    }
  ]
}