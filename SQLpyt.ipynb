{
 "cells": [
  {
   "cell_type": "code",
   "execution_count": 2,
   "id": "4e573e5c",
   "metadata": {},
   "outputs": [
    {
     "name": "stdout",
     "output_type": "stream",
     "text": [
      "Collecting mysql-connector-python\n",
      "  Downloading mysql_connector_python-8.0.28-cp39-cp39-win_amd64.whl (7.2 MB)\n",
      "Collecting protobuf>=3.0.0\n",
      "  Downloading protobuf-3.19.4-cp39-cp39-win_amd64.whl (895 kB)\n",
      "Installing collected packages: protobuf, mysql-connector-python\n",
      "Successfully installed mysql-connector-python-8.0.28 protobuf-3.19.4\n",
      "Note: you may need to restart the kernel to use updated packages.\n"
     ]
    }
   ],
   "source": [
    "pip install mysql-connector-python\n"
   ]
  },
  {
   "cell_type": "code",
   "execution_count": 1,
   "id": "a47db6d3",
   "metadata": {},
   "outputs": [
    {
     "name": "stdout",
     "output_type": "stream",
     "text": [
      "<mysql.connector.connection_cext.CMySQLConnection object at 0x000001BCC1137850>\n"
     ]
    }
   ],
   "source": [
    "import mysql.connector\n",
    "mydb =mysql.connector.connect(host=\"localhost\",\n",
    "                             user=\"root\",\n",
    "                             password=\"\",\n",
    "                             database='test')\n",
    "print(mydb)\n",
    "mycursor =mydb.cursor(buffered=True)"
   ]
  },
  {
   "cell_type": "code",
   "execution_count": 2,
   "id": "1414eefd",
   "metadata": {},
   "outputs": [
    {
     "name": "stdout",
     "output_type": "stream",
     "text": [
      "('dsmln',)\n",
      "('information_schema',)\n",
      "('mysql',)\n",
      "('performance_schema',)\n",
      "('phpmyadmin',)\n",
      "('test',)\n"
     ]
    }
   ],
   "source": [
    "mycursor.execute(\"SHOW DATABASES\")\n",
    "for x in mycursor:\n",
    "    print(x)"
   ]
  },
  {
   "cell_type": "code",
   "execution_count": 7,
   "id": "0dc10a01",
   "metadata": {},
   "outputs": [],
   "source": [
    "#rename db not posiible so create new db and rename old tables\n",
    "#mycursor.execute(\"CREATE DATABASE dsmln\")\n",
    "mycursor.execute(\"RENAME TABLE test.employee TO dsmln.employee\")"
   ]
  },
  {
   "cell_type": "code",
   "execution_count": 9,
   "id": "eaf9847e",
   "metadata": {},
   "outputs": [],
   "source": [
    "#delete db\n",
    "mycursor.execute(\"DROP DATABASE dsmlnew\")"
   ]
  },
  {
   "cell_type": "code",
   "execution_count": 10,
   "id": "e1dc13a9",
   "metadata": {},
   "outputs": [],
   "source": [
    "mycursor.execute(\"CREATE TABLE lucky(salary INT(10),dept varchar(20),comp varchar(20))\")"
   ]
  },
  {
   "cell_type": "code",
   "execution_count": null,
   "id": "15a8ebb2",
   "metadata": {},
   "outputs": [],
   "source": [
    "#change to another db\n",
    "mycursor.execute(\"USE dsmln\")\n"
   ]
  },
  {
   "cell_type": "code",
   "execution_count": 5,
   "id": "b7bbed96",
   "metadata": {},
   "outputs": [],
   "source": [
    "mycursor.execute(\"CREATE TABLE newtbl(x int(8) zerofill)\")"
   ]
  },
  {
   "cell_type": "code",
   "execution_count": 7,
   "id": "249ac12f",
   "metadata": {},
   "outputs": [],
   "source": [
    "#add column at begginning\n",
    "mycursor.execute(\"ALTER TABLE newtbl ADD c VARCHAR(10) FIRST\")"
   ]
  },
  {
   "cell_type": "code",
   "execution_count": 8,
   "id": "4089e343",
   "metadata": {},
   "outputs": [],
   "source": [
    "#add coloumn after specific col\n",
    "mycursor.execute(\"ALTER TABLE newtbl ADD d VARCHAR(10) AFTER c\")"
   ]
  },
  {
   "cell_type": "code",
   "execution_count": 9,
   "id": "e7b84900",
   "metadata": {},
   "outputs": [],
   "source": [
    "#delete a column\n",
    "mycursor.execute(\"ALTER TABLE newtbl DROP COLUMN d\")"
   ]
  },
  {
   "cell_type": "code",
   "execution_count": 15,
   "id": "5f2f9ef2",
   "metadata": {},
   "outputs": [],
   "source": [
    "mycursor.execute(\"ALTER TABLE newtbl DROP COLUMN d\")\n",
    "mydb.rollback()"
   ]
  },
  {
   "cell_type": "code",
   "execution_count": 14,
   "id": "341d384b",
   "metadata": {},
   "outputs": [],
   "source": [
    "#cannot rollback after commit\n",
    "mycursor.execute(\"ALTER TABLE newtbl ADD d VARCHAR(10) AFTER c\")\n",
    "mydb.commit()"
   ]
  },
  {
   "cell_type": "code",
   "execution_count": 16,
   "id": "6ecdaab0",
   "metadata": {},
   "outputs": [],
   "source": [
    "#modify col \n",
    "mycursor.execute(\"ALTER TABLE newtbl CHANGE COLUMN c cnew int\")"
   ]
  },
  {
   "cell_type": "code",
   "execution_count": 19,
   "id": "9da60ec9",
   "metadata": {},
   "outputs": [
    {
     "name": "stdout",
     "output_type": "stream",
     "text": [
      "('employee',)\n"
     ]
    }
   ],
   "source": [
    "#display tables\n",
    "mycursor.execute(\"SHOW TABLES IN dsmln\")\n",
    "for x in mycursor:\n",
    "    print(x)"
   ]
  },
  {
   "cell_type": "code",
   "execution_count": 20,
   "id": "4c2d6cd9",
   "metadata": {},
   "outputs": [
    {
     "name": "stdout",
     "output_type": "stream",
     "text": [
      "('employee',)\n"
     ]
    }
   ],
   "source": [
    "mycursor.execute(\"SHOW TABLES FROM dsmln\")\n",
    "for x in mycursor:\n",
    "    print(x)"
   ]
  },
  {
   "cell_type": "code",
   "execution_count": 22,
   "id": "a75b4dbb",
   "metadata": {},
   "outputs": [
    {
     "name": "stdout",
     "output_type": "stream",
     "text": [
      "('employee',)\n"
     ]
    }
   ],
   "source": [
    "mycursor.execute(\"SHOW TABLES IN dsmln WHERE TABLES_in_dsmln ='employee'\")\n",
    "for x in mycursor:\n",
    "    print(x)"
   ]
  },
  {
   "cell_type": "code",
   "execution_count": 23,
   "id": "c730b151",
   "metadata": {},
   "outputs": [],
   "source": [
    "mycursor.execute(\"TRUNCATE LUCKY\")"
   ]
  },
  {
   "cell_type": "code",
   "execution_count": null,
   "id": "a544ae79",
   "metadata": {},
   "outputs": [],
   "source": []
  }
 ],
 "metadata": {
  "kernelspec": {
   "display_name": "Python 3 (ipykernel)",
   "language": "python",
   "name": "python3"
  },
  "language_info": {
   "codemirror_mode": {
    "name": "ipython",
    "version": 3
   },
   "file_extension": ".py",
   "mimetype": "text/x-python",
   "name": "python",
   "nbconvert_exporter": "python",
   "pygments_lexer": "ipython3",
   "version": "3.9.7"
  }
 },
 "nbformat": 4,
 "nbformat_minor": 5
}
